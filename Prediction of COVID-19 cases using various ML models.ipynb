{
  "nbformat": 4,
  "nbformat_minor": 0,
  "metadata": {
    "kernelspec": {
      "language": "python",
      "display_name": "Python 3",
      "name": "python3"
    },
    "language_info": {
      "pygments_lexer": "ipython3",
      "nbconvert_exporter": "python",
      "version": "3.6.4",
      "file_extension": ".py",
      "codemirror_mode": {
        "name": "ipython",
        "version": 3
      },
      "name": "python",
      "mimetype": "text/x-python"
    },
    "colab": {
      "name": "Prediction of COVID-19 cases using different models.ipynb",
      "provenance": [],
      "collapsed_sections": []
    }
  },
  "cells": [
    {
      "cell_type": "markdown",
      "metadata": {
        "id": "nwXtAuG4h4TW"
      },
      "source": [
        "#Prediction of COVID-19 cases using various ML models\r\n",
        "\r\n",
        "## RITIKA (18BLC1027)\r\n",
        "## SHRENI AGRAWAL (18BLC1012)"
      ]
    },
    {
      "cell_type": "code",
      "metadata": {
        "_cell_guid": "b1076dfc-b9ad-4769-8c92-a6c4dae69d19",
        "_kg_hide-input": true,
        "_kg_hide-output": true,
        "_uuid": "8f2839f25d086af736a60e9eeb907d3b93b6e0e5",
        "trusted": true,
        "id": "vBr6VJ9K8RJ3"
      },
      "source": [
        "\n",
        "import numpy as np \n",
        "import matplotlib.pyplot as plt \n",
        "import matplotlib.colors as mcolors\n",
        "import pandas as pd \n",
        "\n",
        "from sklearn.linear_model import LinearRegression, BayesianRidge\n",
        "from sklearn.model_selection import RandomizedSearchCV, train_test_split\n",
        "from sklearn.preprocessing import PolynomialFeatures\n",
        "from sklearn.svm import SVR\n",
        "from sklearn.metrics import mean_squared_error, mean_absolute_error\n",
        "from sklearn.metrics import accuracy_score\n",
        "from sklearn import metrics as ms\n",
        "from sklearn.ensemble import RandomForestRegressor\n",
        "import datetime\n",
        "\n",
        "from scipy.integrate import solve_ivp\n",
        "from scipy.optimize import minimize\n",
        "\n",
        "from keras.models import Sequential\n",
        "from keras.layers import Dense\n",
        "from keras.layers import LSTM\n",
        "\n",
        "import plotly.graph_objects as go\n",
        "import plotly.express as px\n",
        "\n",
        "color_arr = px.colors.qualitative.Dark24"
      ],
      "execution_count": null,
      "outputs": []
    },
    {
      "cell_type": "markdown",
      "metadata": {
        "id": "mqEkEorv8RJ-"
      },
      "source": [
        "Import the data (make sure you update this on a daily basis)"
      ]
    },
    {
      "cell_type": "code",
      "metadata": {
        "_cell_guid": "",
        "_kg_hide-input": true,
        "_kg_hide-output": true,
        "_uuid": "",
        "trusted": true,
        "id": "oUcKNEcm8RJ-"
      },
      "source": [
        "confirmed_link = \"https://raw.githubusercontent.com/CSSEGISandData/COVID-19/master/csse_covid_19_data/csse_covid_19_time_series/time_series_covid19_confirmed_global.csv\"\n",
        "death_link = \"https://raw.githubusercontent.com/CSSEGISandData/COVID-19/master/csse_covid_19_data/csse_covid_19_time_series/time_series_covid19_deaths_global.csv\"\n",
        "recovered_link = \"https://raw.githubusercontent.com/CSSEGISandData/COVID-19/master/csse_covid_19_data/csse_covid_19_time_series/time_series_covid19_recovered_global.csv\"\n",
        "\n",
        "confirmed_df = pd.read_csv(confirmed_link)\n",
        "deaths_df = pd.read_csv(death_link)\n",
        "recoveries_df = pd.read_csv(recovered_link)"
      ],
      "execution_count": null,
      "outputs": []
    },
    {
      "cell_type": "code",
      "metadata": {
        "id": "Sp0HxTRhpSAq",
        "colab": {
          "base_uri": "https://localhost:8080/"
        },
        "outputId": "378e63ce-26ff-4777-c4a3-644f48e9df44"
      },
      "source": [
        "print(confirmed_df.shape)\n",
        "print(deaths_df.shape )\n",
        "print(recoveries_df.shape )"
      ],
      "execution_count": null,
      "outputs": [
        {
          "output_type": "stream",
          "text": [
            "(268, 293)\n",
            "(268, 293)\n",
            "(255, 293)\n"
          ],
          "name": "stdout"
        }
      ]
    },
    {
      "cell_type": "code",
      "metadata": {
        "_kg_hide-input": true,
        "_kg_hide-output": true,
        "trusted": true,
        "id": "RxrAi-eE8RKH",
        "colab": {
          "base_uri": "https://localhost:8080/"
        },
        "outputId": "478dfd2c-6d36-4384-f2c5-d5500e3909ce"
      },
      "source": [
        "confirmed_df.head()"
      ],
      "execution_count": null,
      "outputs": [
        {
          "output_type": "execute_result",
          "data": {
            "text/html": [
              "<div>\n",
              "<style scoped>\n",
              "    .dataframe tbody tr th:only-of-type {\n",
              "        vertical-align: middle;\n",
              "    }\n",
              "\n",
              "    .dataframe tbody tr th {\n",
              "        vertical-align: top;\n",
              "    }\n",
              "\n",
              "    .dataframe thead th {\n",
              "        text-align: right;\n",
              "    }\n",
              "</style>\n",
              "<table border=\"1\" class=\"dataframe\">\n",
              "  <thead>\n",
              "    <tr style=\"text-align: right;\">\n",
              "      <th></th>\n",
              "      <th>Province/State</th>\n",
              "      <th>Country/Region</th>\n",
              "      <th>Lat</th>\n",
              "      <th>Long</th>\n",
              "      <th>1/22/20</th>\n",
              "      <th>1/23/20</th>\n",
              "      <th>1/24/20</th>\n",
              "      <th>1/25/20</th>\n",
              "      <th>1/26/20</th>\n",
              "      <th>1/27/20</th>\n",
              "      <th>1/28/20</th>\n",
              "      <th>1/29/20</th>\n",
              "      <th>1/30/20</th>\n",
              "      <th>1/31/20</th>\n",
              "      <th>2/1/20</th>\n",
              "      <th>2/2/20</th>\n",
              "      <th>2/3/20</th>\n",
              "      <th>2/4/20</th>\n",
              "      <th>2/5/20</th>\n",
              "      <th>2/6/20</th>\n",
              "      <th>2/7/20</th>\n",
              "      <th>2/8/20</th>\n",
              "      <th>2/9/20</th>\n",
              "      <th>2/10/20</th>\n",
              "      <th>2/11/20</th>\n",
              "      <th>2/12/20</th>\n",
              "      <th>2/13/20</th>\n",
              "      <th>2/14/20</th>\n",
              "      <th>2/15/20</th>\n",
              "      <th>2/16/20</th>\n",
              "      <th>2/17/20</th>\n",
              "      <th>2/18/20</th>\n",
              "      <th>2/19/20</th>\n",
              "      <th>2/20/20</th>\n",
              "      <th>2/21/20</th>\n",
              "      <th>2/22/20</th>\n",
              "      <th>2/23/20</th>\n",
              "      <th>2/24/20</th>\n",
              "      <th>2/25/20</th>\n",
              "      <th>2/26/20</th>\n",
              "      <th>...</th>\n",
              "      <th>9/27/20</th>\n",
              "      <th>9/28/20</th>\n",
              "      <th>9/29/20</th>\n",
              "      <th>9/30/20</th>\n",
              "      <th>10/1/20</th>\n",
              "      <th>10/2/20</th>\n",
              "      <th>10/3/20</th>\n",
              "      <th>10/4/20</th>\n",
              "      <th>10/5/20</th>\n",
              "      <th>10/6/20</th>\n",
              "      <th>10/7/20</th>\n",
              "      <th>10/8/20</th>\n",
              "      <th>10/9/20</th>\n",
              "      <th>10/10/20</th>\n",
              "      <th>10/11/20</th>\n",
              "      <th>10/12/20</th>\n",
              "      <th>10/13/20</th>\n",
              "      <th>10/14/20</th>\n",
              "      <th>10/15/20</th>\n",
              "      <th>10/16/20</th>\n",
              "      <th>10/17/20</th>\n",
              "      <th>10/18/20</th>\n",
              "      <th>10/19/20</th>\n",
              "      <th>10/20/20</th>\n",
              "      <th>10/21/20</th>\n",
              "      <th>10/22/20</th>\n",
              "      <th>10/23/20</th>\n",
              "      <th>10/24/20</th>\n",
              "      <th>10/25/20</th>\n",
              "      <th>10/26/20</th>\n",
              "      <th>10/27/20</th>\n",
              "      <th>10/28/20</th>\n",
              "      <th>10/29/20</th>\n",
              "      <th>10/30/20</th>\n",
              "      <th>10/31/20</th>\n",
              "      <th>11/1/20</th>\n",
              "      <th>11/2/20</th>\n",
              "      <th>11/3/20</th>\n",
              "      <th>11/4/20</th>\n",
              "      <th>11/5/20</th>\n",
              "    </tr>\n",
              "  </thead>\n",
              "  <tbody>\n",
              "    <tr>\n",
              "      <th>0</th>\n",
              "      <td>NaN</td>\n",
              "      <td>Afghanistan</td>\n",
              "      <td>33.93911</td>\n",
              "      <td>67.709953</td>\n",
              "      <td>0</td>\n",
              "      <td>0</td>\n",
              "      <td>0</td>\n",
              "      <td>0</td>\n",
              "      <td>0</td>\n",
              "      <td>0</td>\n",
              "      <td>0</td>\n",
              "      <td>0</td>\n",
              "      <td>0</td>\n",
              "      <td>0</td>\n",
              "      <td>0</td>\n",
              "      <td>0</td>\n",
              "      <td>0</td>\n",
              "      <td>0</td>\n",
              "      <td>0</td>\n",
              "      <td>0</td>\n",
              "      <td>0</td>\n",
              "      <td>0</td>\n",
              "      <td>0</td>\n",
              "      <td>0</td>\n",
              "      <td>0</td>\n",
              "      <td>0</td>\n",
              "      <td>0</td>\n",
              "      <td>0</td>\n",
              "      <td>0</td>\n",
              "      <td>0</td>\n",
              "      <td>0</td>\n",
              "      <td>0</td>\n",
              "      <td>0</td>\n",
              "      <td>0</td>\n",
              "      <td>0</td>\n",
              "      <td>0</td>\n",
              "      <td>0</td>\n",
              "      <td>1</td>\n",
              "      <td>1</td>\n",
              "      <td>1</td>\n",
              "      <td>...</td>\n",
              "      <td>39227</td>\n",
              "      <td>39233</td>\n",
              "      <td>39254</td>\n",
              "      <td>39268</td>\n",
              "      <td>39285</td>\n",
              "      <td>39290</td>\n",
              "      <td>39297</td>\n",
              "      <td>39341</td>\n",
              "      <td>39422</td>\n",
              "      <td>39486</td>\n",
              "      <td>39548</td>\n",
              "      <td>39616</td>\n",
              "      <td>39693</td>\n",
              "      <td>39703</td>\n",
              "      <td>39799</td>\n",
              "      <td>39870</td>\n",
              "      <td>39928</td>\n",
              "      <td>39994</td>\n",
              "      <td>40026</td>\n",
              "      <td>40073</td>\n",
              "      <td>40141</td>\n",
              "      <td>40200</td>\n",
              "      <td>40287</td>\n",
              "      <td>40357</td>\n",
              "      <td>40510</td>\n",
              "      <td>40626</td>\n",
              "      <td>40687</td>\n",
              "      <td>40768</td>\n",
              "      <td>40833</td>\n",
              "      <td>40937</td>\n",
              "      <td>41032</td>\n",
              "      <td>41145</td>\n",
              "      <td>41268</td>\n",
              "      <td>41334</td>\n",
              "      <td>41425</td>\n",
              "      <td>41501</td>\n",
              "      <td>41633</td>\n",
              "      <td>41728</td>\n",
              "      <td>41814</td>\n",
              "      <td>41935</td>\n",
              "    </tr>\n",
              "    <tr>\n",
              "      <th>1</th>\n",
              "      <td>NaN</td>\n",
              "      <td>Albania</td>\n",
              "      <td>41.15330</td>\n",
              "      <td>20.168300</td>\n",
              "      <td>0</td>\n",
              "      <td>0</td>\n",
              "      <td>0</td>\n",
              "      <td>0</td>\n",
              "      <td>0</td>\n",
              "      <td>0</td>\n",
              "      <td>0</td>\n",
              "      <td>0</td>\n",
              "      <td>0</td>\n",
              "      <td>0</td>\n",
              "      <td>0</td>\n",
              "      <td>0</td>\n",
              "      <td>0</td>\n",
              "      <td>0</td>\n",
              "      <td>0</td>\n",
              "      <td>0</td>\n",
              "      <td>0</td>\n",
              "      <td>0</td>\n",
              "      <td>0</td>\n",
              "      <td>0</td>\n",
              "      <td>0</td>\n",
              "      <td>0</td>\n",
              "      <td>0</td>\n",
              "      <td>0</td>\n",
              "      <td>0</td>\n",
              "      <td>0</td>\n",
              "      <td>0</td>\n",
              "      <td>0</td>\n",
              "      <td>0</td>\n",
              "      <td>0</td>\n",
              "      <td>0</td>\n",
              "      <td>0</td>\n",
              "      <td>0</td>\n",
              "      <td>0</td>\n",
              "      <td>0</td>\n",
              "      <td>0</td>\n",
              "      <td>...</td>\n",
              "      <td>13259</td>\n",
              "      <td>13391</td>\n",
              "      <td>13518</td>\n",
              "      <td>13649</td>\n",
              "      <td>13806</td>\n",
              "      <td>13965</td>\n",
              "      <td>14117</td>\n",
              "      <td>14266</td>\n",
              "      <td>14410</td>\n",
              "      <td>14568</td>\n",
              "      <td>14730</td>\n",
              "      <td>14899</td>\n",
              "      <td>15066</td>\n",
              "      <td>15231</td>\n",
              "      <td>15399</td>\n",
              "      <td>15570</td>\n",
              "      <td>15752</td>\n",
              "      <td>15955</td>\n",
              "      <td>16212</td>\n",
              "      <td>16501</td>\n",
              "      <td>16774</td>\n",
              "      <td>17055</td>\n",
              "      <td>17350</td>\n",
              "      <td>17651</td>\n",
              "      <td>17948</td>\n",
              "      <td>18250</td>\n",
              "      <td>18556</td>\n",
              "      <td>18858</td>\n",
              "      <td>19157</td>\n",
              "      <td>19445</td>\n",
              "      <td>19729</td>\n",
              "      <td>20040</td>\n",
              "      <td>20315</td>\n",
              "      <td>20634</td>\n",
              "      <td>20875</td>\n",
              "      <td>21202</td>\n",
              "      <td>21523</td>\n",
              "      <td>21904</td>\n",
              "      <td>22300</td>\n",
              "      <td>22721</td>\n",
              "    </tr>\n",
              "    <tr>\n",
              "      <th>2</th>\n",
              "      <td>NaN</td>\n",
              "      <td>Algeria</td>\n",
              "      <td>28.03390</td>\n",
              "      <td>1.659600</td>\n",
              "      <td>0</td>\n",
              "      <td>0</td>\n",
              "      <td>0</td>\n",
              "      <td>0</td>\n",
              "      <td>0</td>\n",
              "      <td>0</td>\n",
              "      <td>0</td>\n",
              "      <td>0</td>\n",
              "      <td>0</td>\n",
              "      <td>0</td>\n",
              "      <td>0</td>\n",
              "      <td>0</td>\n",
              "      <td>0</td>\n",
              "      <td>0</td>\n",
              "      <td>0</td>\n",
              "      <td>0</td>\n",
              "      <td>0</td>\n",
              "      <td>0</td>\n",
              "      <td>0</td>\n",
              "      <td>0</td>\n",
              "      <td>0</td>\n",
              "      <td>0</td>\n",
              "      <td>0</td>\n",
              "      <td>0</td>\n",
              "      <td>0</td>\n",
              "      <td>0</td>\n",
              "      <td>0</td>\n",
              "      <td>0</td>\n",
              "      <td>0</td>\n",
              "      <td>0</td>\n",
              "      <td>0</td>\n",
              "      <td>0</td>\n",
              "      <td>0</td>\n",
              "      <td>0</td>\n",
              "      <td>1</td>\n",
              "      <td>1</td>\n",
              "      <td>...</td>\n",
              "      <td>51067</td>\n",
              "      <td>51213</td>\n",
              "      <td>51368</td>\n",
              "      <td>51530</td>\n",
              "      <td>51690</td>\n",
              "      <td>51847</td>\n",
              "      <td>51995</td>\n",
              "      <td>52136</td>\n",
              "      <td>52270</td>\n",
              "      <td>52399</td>\n",
              "      <td>52520</td>\n",
              "      <td>52658</td>\n",
              "      <td>52804</td>\n",
              "      <td>52940</td>\n",
              "      <td>53072</td>\n",
              "      <td>53325</td>\n",
              "      <td>53399</td>\n",
              "      <td>53584</td>\n",
              "      <td>53777</td>\n",
              "      <td>53998</td>\n",
              "      <td>54203</td>\n",
              "      <td>54402</td>\n",
              "      <td>54616</td>\n",
              "      <td>54829</td>\n",
              "      <td>55081</td>\n",
              "      <td>55357</td>\n",
              "      <td>55630</td>\n",
              "      <td>55880</td>\n",
              "      <td>56143</td>\n",
              "      <td>56419</td>\n",
              "      <td>56706</td>\n",
              "      <td>57026</td>\n",
              "      <td>57332</td>\n",
              "      <td>57651</td>\n",
              "      <td>57942</td>\n",
              "      <td>58272</td>\n",
              "      <td>58574</td>\n",
              "      <td>58979</td>\n",
              "      <td>59527</td>\n",
              "      <td>60169</td>\n",
              "    </tr>\n",
              "    <tr>\n",
              "      <th>3</th>\n",
              "      <td>NaN</td>\n",
              "      <td>Andorra</td>\n",
              "      <td>42.50630</td>\n",
              "      <td>1.521800</td>\n",
              "      <td>0</td>\n",
              "      <td>0</td>\n",
              "      <td>0</td>\n",
              "      <td>0</td>\n",
              "      <td>0</td>\n",
              "      <td>0</td>\n",
              "      <td>0</td>\n",
              "      <td>0</td>\n",
              "      <td>0</td>\n",
              "      <td>0</td>\n",
              "      <td>0</td>\n",
              "      <td>0</td>\n",
              "      <td>0</td>\n",
              "      <td>0</td>\n",
              "      <td>0</td>\n",
              "      <td>0</td>\n",
              "      <td>0</td>\n",
              "      <td>0</td>\n",
              "      <td>0</td>\n",
              "      <td>0</td>\n",
              "      <td>0</td>\n",
              "      <td>0</td>\n",
              "      <td>0</td>\n",
              "      <td>0</td>\n",
              "      <td>0</td>\n",
              "      <td>0</td>\n",
              "      <td>0</td>\n",
              "      <td>0</td>\n",
              "      <td>0</td>\n",
              "      <td>0</td>\n",
              "      <td>0</td>\n",
              "      <td>0</td>\n",
              "      <td>0</td>\n",
              "      <td>0</td>\n",
              "      <td>0</td>\n",
              "      <td>0</td>\n",
              "      <td>...</td>\n",
              "      <td>1836</td>\n",
              "      <td>1966</td>\n",
              "      <td>1966</td>\n",
              "      <td>2050</td>\n",
              "      <td>2050</td>\n",
              "      <td>2110</td>\n",
              "      <td>2110</td>\n",
              "      <td>2110</td>\n",
              "      <td>2370</td>\n",
              "      <td>2370</td>\n",
              "      <td>2568</td>\n",
              "      <td>2568</td>\n",
              "      <td>2696</td>\n",
              "      <td>2696</td>\n",
              "      <td>2696</td>\n",
              "      <td>2995</td>\n",
              "      <td>2995</td>\n",
              "      <td>3190</td>\n",
              "      <td>3190</td>\n",
              "      <td>3377</td>\n",
              "      <td>3377</td>\n",
              "      <td>3377</td>\n",
              "      <td>3623</td>\n",
              "      <td>3623</td>\n",
              "      <td>3811</td>\n",
              "      <td>3811</td>\n",
              "      <td>4038</td>\n",
              "      <td>4038</td>\n",
              "      <td>4038</td>\n",
              "      <td>4325</td>\n",
              "      <td>4410</td>\n",
              "      <td>4517</td>\n",
              "      <td>4567</td>\n",
              "      <td>4665</td>\n",
              "      <td>4756</td>\n",
              "      <td>4825</td>\n",
              "      <td>4888</td>\n",
              "      <td>4910</td>\n",
              "      <td>5045</td>\n",
              "      <td>5135</td>\n",
              "    </tr>\n",
              "    <tr>\n",
              "      <th>4</th>\n",
              "      <td>NaN</td>\n",
              "      <td>Angola</td>\n",
              "      <td>-11.20270</td>\n",
              "      <td>17.873900</td>\n",
              "      <td>0</td>\n",
              "      <td>0</td>\n",
              "      <td>0</td>\n",
              "      <td>0</td>\n",
              "      <td>0</td>\n",
              "      <td>0</td>\n",
              "      <td>0</td>\n",
              "      <td>0</td>\n",
              "      <td>0</td>\n",
              "      <td>0</td>\n",
              "      <td>0</td>\n",
              "      <td>0</td>\n",
              "      <td>0</td>\n",
              "      <td>0</td>\n",
              "      <td>0</td>\n",
              "      <td>0</td>\n",
              "      <td>0</td>\n",
              "      <td>0</td>\n",
              "      <td>0</td>\n",
              "      <td>0</td>\n",
              "      <td>0</td>\n",
              "      <td>0</td>\n",
              "      <td>0</td>\n",
              "      <td>0</td>\n",
              "      <td>0</td>\n",
              "      <td>0</td>\n",
              "      <td>0</td>\n",
              "      <td>0</td>\n",
              "      <td>0</td>\n",
              "      <td>0</td>\n",
              "      <td>0</td>\n",
              "      <td>0</td>\n",
              "      <td>0</td>\n",
              "      <td>0</td>\n",
              "      <td>0</td>\n",
              "      <td>0</td>\n",
              "      <td>...</td>\n",
              "      <td>4718</td>\n",
              "      <td>4797</td>\n",
              "      <td>4905</td>\n",
              "      <td>4972</td>\n",
              "      <td>5114</td>\n",
              "      <td>5211</td>\n",
              "      <td>5370</td>\n",
              "      <td>5402</td>\n",
              "      <td>5530</td>\n",
              "      <td>5725</td>\n",
              "      <td>5725</td>\n",
              "      <td>5958</td>\n",
              "      <td>6031</td>\n",
              "      <td>6246</td>\n",
              "      <td>6366</td>\n",
              "      <td>6488</td>\n",
              "      <td>6680</td>\n",
              "      <td>6846</td>\n",
              "      <td>7096</td>\n",
              "      <td>7222</td>\n",
              "      <td>7462</td>\n",
              "      <td>7622</td>\n",
              "      <td>7829</td>\n",
              "      <td>8049</td>\n",
              "      <td>8338</td>\n",
              "      <td>8582</td>\n",
              "      <td>8829</td>\n",
              "      <td>9026</td>\n",
              "      <td>9381</td>\n",
              "      <td>9644</td>\n",
              "      <td>9871</td>\n",
              "      <td>10074</td>\n",
              "      <td>10269</td>\n",
              "      <td>10558</td>\n",
              "      <td>10805</td>\n",
              "      <td>11035</td>\n",
              "      <td>11228</td>\n",
              "      <td>11577</td>\n",
              "      <td>11813</td>\n",
              "      <td>12102</td>\n",
              "    </tr>\n",
              "  </tbody>\n",
              "</table>\n",
              "<p>5 rows × 293 columns</p>\n",
              "</div>"
            ],
            "text/plain": [
              "  Province/State Country/Region       Lat  ...  11/3/20  11/4/20  11/5/20\n",
              "0            NaN    Afghanistan  33.93911  ...    41728    41814    41935\n",
              "1            NaN        Albania  41.15330  ...    21904    22300    22721\n",
              "2            NaN        Algeria  28.03390  ...    58979    59527    60169\n",
              "3            NaN        Andorra  42.50630  ...     4910     5045     5135\n",
              "4            NaN         Angola -11.20270  ...    11577    11813    12102\n",
              "\n",
              "[5 rows x 293 columns]"
            ]
          },
          "metadata": {
            "tags": []
          },
          "execution_count": 228
        }
      ]
    },
    {
      "cell_type": "code",
      "metadata": {
        "_kg_hide-input": true,
        "_kg_hide-output": true,
        "trusted": true,
        "id": "kDnkKw2T8RKO",
        "colab": {
          "base_uri": "https://localhost:8080/"
        },
        "outputId": "eb9a4d67-2edf-42fd-8db5-59f4ab4cf44e"
      },
      "source": [
        "confirmed_df.keys()"
      ],
      "execution_count": null,
      "outputs": [
        {
          "output_type": "execute_result",
          "data": {
            "text/plain": [
              "Index(['Province/State', 'Country/Region', 'Lat', 'Long', '1/22/20', '1/23/20',\n",
              "       '1/24/20', '1/25/20', '1/26/20', '1/27/20',\n",
              "       ...\n",
              "       '10/27/20', '10/28/20', '10/29/20', '10/30/20', '10/31/20', '11/1/20',\n",
              "       '11/2/20', '11/3/20', '11/4/20', '11/5/20'],\n",
              "      dtype='object', length=293)"
            ]
          },
          "metadata": {
            "tags": []
          },
          "execution_count": 229
        }
      ]
    },
    {
      "cell_type": "markdown",
      "metadata": {
        "id": "IuMD3wz38RKR"
      },
      "source": [
        "\n",
        "Get all the dates for the outbreak"
      ]
    },
    {
      "cell_type": "code",
      "metadata": {
        "_kg_hide-input": true,
        "_kg_hide-output": true,
        "trusted": true,
        "id": "jr6w67ZI8RKS"
      },
      "source": [
        "#FOR WORLD\n",
        "confirmed = confirmed_df.loc[:, cols[4]:cols[-1]]\n",
        "deaths = deaths_df.loc[:, cols[4]:cols[-1]]\n",
        "recoveries = recoveries_df.loc[:, cols[4]:cols[-1]]"
      ],
      "execution_count": null,
      "outputs": []
    },
    {
      "cell_type": "code",
      "metadata": {
        "_kg_hide-input": true,
        "_kg_hide-output": true,
        "trusted": true,
        "id": "LJbklRBc8RKW"
      },
      "source": [
        "dates = confirmed.keys()\n",
        "world_cases = []\n",
        "total_deaths = [] \n",
        "mortality_rate = []\n",
        "recovery_rate = [] \n",
        "total_recovered = [] \n",
        "total_active = [] \n",
        "\n",
        "for i in dates:\n",
        "    confirmed_sum = confirmed[i].sum()\n",
        "    death_sum = deaths[i].sum()\n",
        "    recovered_sum = recoveries[i].sum()\n",
        "    \n",
        "    # confirmed, deaths, recovered, and active\n",
        "    world_cases.append(confirmed_sum)\n",
        "    total_deaths.append(death_sum)\n",
        "    total_recovered.append(recovered_sum)\n",
        "    total_active.append(confirmed_sum-death_sum-recovered_sum)\n",
        "    \n",
        "    # calculate rates\n",
        "    mortality_rate.append(death_sum/confirmed_sum)\n",
        "    recovery_rate.append(recovered_sum/confirmed_sum)\n",
        "\n"
      ],
      "execution_count": null,
      "outputs": []
    },
    {
      "cell_type": "code",
      "metadata": {
        "id": "fSE-rqeqV7aa"
      },
      "source": [
        "#For India\n",
        "india_confirmed = confirmed_df.loc[confirmed_df['Country/Region'] == 'India']\n",
        "india_deaths = deaths_df.loc[deaths_df['Country/Region'] == 'India']\n",
        "india_recoveries = recoveries_df.loc[recoveries_df['Country/Region'] == 'India']\n",
        "india_active=[]\n",
        "mortality_rate_india = []\n",
        "recovery_rate_india = []\n",
        "\n",
        "\n",
        "confirmed_india = india_confirmed.loc[:, cols[4]:cols[-1]]\n",
        "deaths_india = india_deaths.loc[:, cols[4]:cols[-1]]\n",
        "recoveries_india = india_recoveries.loc[:, cols[4]:cols[-1]]\n",
        "\n",
        "confirmed_india = confirmed_india.values.tolist()\n",
        "confirmed_india = confirmed_india[0]\n",
        "deaths_india = deaths_india.values.tolist()\n",
        "deaths_india = deaths_india[0]\n",
        "recoveries_india = recoveries_india.values.tolist()\n",
        "recoveries_india = recoveries_india[0]\n",
        "\n",
        "\n",
        "l = len(confirmed_india)\n",
        "\n",
        "\n",
        "for i in range(0,l):\n",
        " india_active.append(confirmed_india[i] -deaths_india[i] -recoveries_india[i])\n",
        " if (confirmed_india[i] != 0):\n",
        "    mortality_rate_india.append(deaths_india[i]/confirmed_india[i])\n",
        "    recovery_rate_india.append(recoveries_india[i]/confirmed_india[i])\n",
        " else:\n",
        "   mortality_rate_india.append(0)\n",
        "   recovery_rate_india.append(0)"
      ],
      "execution_count": null,
      "outputs": []
    },
    {
      "cell_type": "code",
      "metadata": {
        "_kg_hide-input": true,
        "_kg_hide-output": true,
        "trusted": true,
        "id": "02QKVfsl8RKc"
      },
      "source": [
        "days_since_1_22 = np.array([i for i in range(len(dates))]).reshape(-1, 1)\n",
        "world_cases = np.array(world_cases).reshape(-1, 1)\n",
        "total_deaths = np.array(total_deaths).reshape(-1, 1)\n",
        "total_recovered = np.array(total_recovered).reshape(-1, 1)"
      ],
      "execution_count": null,
      "outputs": []
    },
    {
      "cell_type": "markdown",
      "metadata": {
        "id": "5_qyX-6L8RKf"
      },
      "source": [
        "Future forcasting"
      ]
    },
    {
      "cell_type": "code",
      "metadata": {
        "_kg_hide-input": true,
        "_kg_hide-output": true,
        "trusted": true,
        "id": "IMMnBZR68RKg"
      },
      "source": [
        "days_in_future = 10\n",
        "future_forcast = np.array([i for i in range(len(dates)+days_in_future)]).reshape(-1, 1)\n",
        "adjusted_dates = future_forcast[:-10]"
      ],
      "execution_count": null,
      "outputs": []
    },
    {
      "cell_type": "markdown",
      "metadata": {
        "id": "CWMT9X5h8RKj"
      },
      "source": [
        "Convert integer into datetime for better visualization"
      ]
    },
    {
      "cell_type": "code",
      "metadata": {
        "_kg_hide-input": true,
        "_kg_hide-output": true,
        "trusted": true,
        "id": "mfeN7ZVl8RKk"
      },
      "source": [
        "start = '1/22/2020'\n",
        "start_date = datetime.datetime.strptime(start, '%m/%d/%Y')\n",
        "future_forcast_dates = []\n",
        "for i in range(len(future_forcast)):\n",
        "    future_forcast_dates.append((start_date + datetime.timedelta(days=i)).strftime('%m/%d/%Y'))"
      ],
      "execution_count": null,
      "outputs": []
    },
    {
      "cell_type": "code",
      "metadata": {
        "_kg_hide-input": true,
        "_kg_hide-output": true,
        "trusted": true,
        "id": "TWn398oi8RKm"
      },
      "source": [
        "# slightly modify the data to fit the model better (regression models cannot pick the pattern)\n",
        "X_train_confirmed, X_test_confirmed, y_train_confirmed, y_test_confirmed = train_test_split(days_since_1_22[50:], world_cases[50:], test_size=0.12, shuffle=False) \n",
        "\n",
        "#FOR INDIA\n",
        "india_X_train_confirmed, india_X_test_confirmed, india_y_train_confirmed, india_y_test_confirmed = train_test_split(days_since_1_22[50:], confirmed_india[50:], test_size=0.12, shuffle=False) "
      ],
      "execution_count": null,
      "outputs": []
    },
    {
      "cell_type": "markdown",
      "metadata": {
        "id": "46iG15Evg1fo"
      },
      "source": [
        "#PREDICTION USING DIFFERENT ML MODELS"
      ]
    },
    {
      "cell_type": "markdown",
      "metadata": {
        "id": "5_JimR6b8RKp"
      },
      "source": [
        "#SVM "
      ]
    },
    {
      "cell_type": "code",
      "metadata": {
        "_kg_hide-input": true,
        "_kg_hide-output": true,
        "trusted": true,
        "id": "amXKhpgn8RKy"
      },
      "source": [
        "# svm_confirmed = svm_search.best_estimator_\n",
        "svm_confirmed = SVR(shrinking=True, kernel='poly',gamma=0.01, epsilon=1,degree=3, C=0.1)\n",
        "svm_confirmed.fit(X_train_confirmed, y_train_confirmed)\n",
        "svm_pred = svm_confirmed.predict(future_forcast)\n",
        "\n",
        "#FOR INDIA\n",
        "india_svm_confirmed = SVR(shrinking=True, kernel='poly',gamma=0.01, epsilon=1,degree=3, C=0.1)\n",
        "india_svm_confirmed.fit(india_X_train_confirmed, india_y_train_confirmed)\n",
        "india_svm_pred = india_svm_confirmed.predict(future_forcast)\n"
      ],
      "execution_count": null,
      "outputs": []
    },
    {
      "cell_type": "code",
      "metadata": {
        "id": "Uboog_4YplC0",
        "colab": {
          "base_uri": "https://localhost:8080/"
        },
        "outputId": "6a66391a-35e5-40f6-aeaf-1018c7b57cbb"
      },
      "source": [
        "print('MAE:', mean_absolute_error(svm_test_pred, y_test_confirmed))\n",
        "print('MSE:',mean_squared_error(svm_test_pred, y_test_confirmed))"
      ],
      "execution_count": null,
      "outputs": [
        {
          "output_type": "stream",
          "text": [
            "MAE: 4669932.728746139\n",
            "MSE: 22111380508342.496\n"
          ],
          "name": "stdout"
        }
      ]
    },
    {
      "cell_type": "code",
      "metadata": {
        "_kg_hide-input": true,
        "_kg_hide-output": true,
        "trusted": true,
        "id": "Se26er_D8RK0",
        "colab": {
          "base_uri": "https://localhost:8080/"
        },
        "outputId": "88481422-6188-4210-9326-78f6be3cb853"
      },
      "source": [
        "# check against testing data\n",
        "svm_test_pred = svm_confirmed.predict(X_test_confirmed)\n",
        "plt.plot(y_test_confirmed)\n",
        "plt.plot(svm_test_pred)\n",
        "plt.legend(['Test Data', 'SVM Predictions'])\n",
        "\n",
        "\n",
        "#accuracy_score(y2_test,y2_pred)*100\n",
        "#print('Accuracy ' + str(accuracy_score( svm_test_pred,y_test_confirmed)))\n"
      ],
      "execution_count": null,
      "outputs": [
        {
          "output_type": "execute_result",
          "data": {
            "text/plain": [
              "<matplotlib.legend.Legend at 0x7ff70a184c88>"
            ]
          },
          "metadata": {
            "tags": []
          },
          "execution_count": 239
        },
        {
          "output_type": "display_data",
          "data": {
            "image/png": "[encoded data removed]",
            "text/plain": [
              "<Figure size 432x288 with 1 Axes>"
            ]
          },
          "metadata": {
            "tags": [],
            "needs_background": "light"
          }
        }
      ]
    },
    {
      "cell_type": "code",
      "metadata": {
        "id": "0kl4jT0Hp4O6",
        "colab": {
          "base_uri": "https://localhost:8080/"
        },
        "outputId": "752f587a-1da9-4e1f-b9a3-6e2aca15cef1"
      },
      "source": [
        "print('MAE for India:', mean_absolute_error(india_svm_test_pred, india_y_test_confirmed))\n",
        "print('MSE for India:',mean_squared_error(india_svm_test_pred, india_y_test_confirmed))"
      ],
      "execution_count": null,
      "outputs": [
        {
          "output_type": "stream",
          "text": [
            "MAE for India: 362250.3487639351\n",
            "MSE for India: 177263118040.54602\n"
          ],
          "name": "stdout"
        }
      ]
    },
    {
      "cell_type": "code",
      "metadata": {
        "id": "VSS0QqLzpC5W",
        "colab": {
          "base_uri": "https://localhost:8080/",
          "height": 291
        },
        "outputId": "313a6380-5c7e-42f9-96e2-18afa42a9ec9"
      },
      "source": [
        "# FOR INDIA\n",
        "india_svm_test_pred = india_svm_confirmed.predict(india_X_test_confirmed)\n",
        "plt.plot(india_y_test_confirmed)\n",
        "plt.plot(india_svm_test_pred)\n",
        "plt.legend(['Test Data for India', 'SVM Predictions'])\n"
      ],
      "execution_count": null,
      "outputs": [
        {
          "output_type": "execute_result",
          "data": {
            "text/plain": [
              "<matplotlib.legend.Legend at 0x7ff70295eda0>"
            ]
          },
          "metadata": {
            "tags": []
          },
          "execution_count": 241
        },
        {
          "output_type": "display_data",
          "data": {
            "image/png": "[encoded data removed]",
            "text/plain": [
              "<Figure size 432x288 with 1 Axes>"
            ]
          },
          "metadata": {
            "tags": [],
            "needs_background": "light"
          }
        }
      ]
    },
    {
      "cell_type": "code",
      "metadata": {
        "id": "KWiOXLCAey8e",
        "colab": {
          "base_uri": "https://localhost:8080/",
          "height": 247
        },
        "outputId": "0b6cfeac-9aed-4382-953f-57eba901f91f"
      },
      "source": [
        "# Future predictions using SVM \n",
        "svm_df = pd.DataFrame({'Date': future_forcast_dates[-10:], 'SVM Predicted # of Confirmed Cases Worldwide': np.round(svm_pred[-10:])})\n",
        "svm_df.style.background_gradient(cmap='Greens')"
      ],
      "execution_count": null,
      "outputs": [
        {
          "output_type": "execute_result",
          "data": {
            "text/html": [
              "<style  type=\"text/css\" >\n",
              "#T_4b73e106_201a_11eb_98ad_0242ac1c0002row0_col1{\n",
              "            background-color:  #f7fcf5;\n",
              "            color:  #000000;\n",
              "        }#T_4b73e106_201a_11eb_98ad_0242ac1c0002row1_col1{\n",
              "            background-color:  #e8f6e3;\n",
              "            color:  #000000;\n",
              "        }#T_4b73e106_201a_11eb_98ad_0242ac1c0002row2_col1{\n",
              "            background-color:  #cfecc9;\n",
              "            color:  #000000;\n",
              "        }#T_4b73e106_201a_11eb_98ad_0242ac1c0002row3_col1{\n",
              "            background-color:  #b0dfaa;\n",
              "            color:  #000000;\n",
              "        }#T_4b73e106_201a_11eb_98ad_0242ac1c0002row4_col1{\n",
              "            background-color:  #8bcf89;\n",
              "            color:  #000000;\n",
              "        }#T_4b73e106_201a_11eb_98ad_0242ac1c0002row5_col1{\n",
              "            background-color:  #60ba6c;\n",
              "            color:  #000000;\n",
              "        }#T_4b73e106_201a_11eb_98ad_0242ac1c0002row6_col1{\n",
              "            background-color:  #39a257;\n",
              "            color:  #000000;\n",
              "        }#T_4b73e106_201a_11eb_98ad_0242ac1c0002row7_col1{\n",
              "            background-color:  #1d8640;\n",
              "            color:  #000000;\n",
              "        }#T_4b73e106_201a_11eb_98ad_0242ac1c0002row8_col1{\n",
              "            background-color:  #00692a;\n",
              "            color:  #f1f1f1;\n",
              "        }#T_4b73e106_201a_11eb_98ad_0242ac1c0002row9_col1{\n",
              "            background-color:  #00441b;\n",
              "            color:  #f1f1f1;\n",
              "        }</style><table id=\"T_4b73e106_201a_11eb_98ad_0242ac1c0002\" ><thead>    <tr>        <th class=\"blank level0\" ></th>        <th class=\"col_heading level0 col0\" >Date</th>        <th class=\"col_heading level0 col1\" >SVM Predicted # of Confirmed Cases Worldwide</th>    </tr></thead><tbody>\n",
              "                <tr>\n",
              "                        <th id=\"T_4b73e106_201a_11eb_98ad_0242ac1c0002level0_row0\" class=\"row_heading level0 row0\" >0</th>\n",
              "                        <td id=\"T_4b73e106_201a_11eb_98ad_0242ac1c0002row0_col0\" class=\"data row0 col0\" >11/06/2020</td>\n",
              "                        <td id=\"T_4b73e106_201a_11eb_98ad_0242ac1c0002row0_col1\" class=\"data row0 col1\" >54416122.000000</td>\n",
              "            </tr>\n",
              "            <tr>\n",
              "                        <th id=\"T_4b73e106_201a_11eb_98ad_0242ac1c0002level0_row1\" class=\"row_heading level0 row1\" >1</th>\n",
              "                        <td id=\"T_4b73e106_201a_11eb_98ad_0242ac1c0002row1_col0\" class=\"data row1 col0\" >11/07/2020</td>\n",
              "                        <td id=\"T_4b73e106_201a_11eb_98ad_0242ac1c0002row1_col1\" class=\"data row1 col1\" >54969437.000000</td>\n",
              "            </tr>\n",
              "            <tr>\n",
              "                        <th id=\"T_4b73e106_201a_11eb_98ad_0242ac1c0002level0_row2\" class=\"row_heading level0 row2\" >2</th>\n",
              "                        <td id=\"T_4b73e106_201a_11eb_98ad_0242ac1c0002row2_col0\" class=\"data row2 col0\" >11/08/2020</td>\n",
              "                        <td id=\"T_4b73e106_201a_11eb_98ad_0242ac1c0002row2_col1\" class=\"data row2 col1\" >55526582.000000</td>\n",
              "            </tr>\n",
              "            <tr>\n",
              "                        <th id=\"T_4b73e106_201a_11eb_98ad_0242ac1c0002level0_row3\" class=\"row_heading level0 row3\" >3</th>\n",
              "                        <td id=\"T_4b73e106_201a_11eb_98ad_0242ac1c0002row3_col0\" class=\"data row3 col0\" >11/09/2020</td>\n",
              "                        <td id=\"T_4b73e106_201a_11eb_98ad_0242ac1c0002row3_col1\" class=\"data row3 col1\" >56087568.000000</td>\n",
              "            </tr>\n",
              "            <tr>\n",
              "                        <th id=\"T_4b73e106_201a_11eb_98ad_0242ac1c0002level0_row4\" class=\"row_heading level0 row4\" >4</th>\n",
              "                        <td id=\"T_4b73e106_201a_11eb_98ad_0242ac1c0002row4_col0\" class=\"data row4 col0\" >11/10/2020</td>\n",
              "                        <td id=\"T_4b73e106_201a_11eb_98ad_0242ac1c0002row4_col1\" class=\"data row4 col1\" >56652410.000000</td>\n",
              "            </tr>\n",
              "            <tr>\n",
              "                        <th id=\"T_4b73e106_201a_11eb_98ad_0242ac1c0002level0_row5\" class=\"row_heading level0 row5\" >5</th>\n",
              "                        <td id=\"T_4b73e106_201a_11eb_98ad_0242ac1c0002row5_col0\" class=\"data row5 col0\" >11/11/2020</td>\n",
              "                        <td id=\"T_4b73e106_201a_11eb_98ad_0242ac1c0002row5_col1\" class=\"data row5 col1\" >57221121.000000</td>\n",
              "            </tr>\n",
              "            <tr>\n",
              "                        <th id=\"T_4b73e106_201a_11eb_98ad_0242ac1c0002level0_row6\" class=\"row_heading level0 row6\" >6</th>\n",
              "                        <td id=\"T_4b73e106_201a_11eb_98ad_0242ac1c0002row6_col0\" class=\"data row6 col0\" >11/12/2020</td>\n",
              "                        <td id=\"T_4b73e106_201a_11eb_98ad_0242ac1c0002row6_col1\" class=\"data row6 col1\" >57793714.000000</td>\n",
              "            </tr>\n",
              "            <tr>\n",
              "                        <th id=\"T_4b73e106_201a_11eb_98ad_0242ac1c0002level0_row7\" class=\"row_heading level0 row7\" >7</th>\n",
              "                        <td id=\"T_4b73e106_201a_11eb_98ad_0242ac1c0002row7_col0\" class=\"data row7 col0\" >11/13/2020</td>\n",
              "                        <td id=\"T_4b73e106_201a_11eb_98ad_0242ac1c0002row7_col1\" class=\"data row7 col1\" >58370202.000000</td>\n",
              "            </tr>\n",
              "            <tr>\n",
              "                        <th id=\"T_4b73e106_201a_11eb_98ad_0242ac1c0002level0_row8\" class=\"row_heading level0 row8\" >8</th>\n",
              "                        <td id=\"T_4b73e106_201a_11eb_98ad_0242ac1c0002row8_col0\" class=\"data row8 col0\" >11/14/2020</td>\n",
              "                        <td id=\"T_4b73e106_201a_11eb_98ad_0242ac1c0002row8_col1\" class=\"data row8 col1\" >58950599.000000</td>\n",
              "            </tr>\n",
              "            <tr>\n",
              "                        <th id=\"T_4b73e106_201a_11eb_98ad_0242ac1c0002level0_row9\" class=\"row_heading level0 row9\" >9</th>\n",
              "                        <td id=\"T_4b73e106_201a_11eb_98ad_0242ac1c0002row9_col0\" class=\"data row9 col0\" >11/15/2020</td>\n",
              "                        <td id=\"T_4b73e106_201a_11eb_98ad_0242ac1c0002row9_col1\" class=\"data row9 col1\" >59534917.000000</td>\n",
              "            </tr>\n",
              "    </tbody></table>"
            ],
            "text/plain": [
              "<pandas.io.formats.style.Styler at 0x7ff70715c860>"
            ]
          },
          "metadata": {
            "tags": []
          },
          "execution_count": 242
        }
      ]
    },
    {
      "cell_type": "code",
      "metadata": {
        "id": "minQD0ucezcM",
        "colab": {
          "base_uri": "https://localhost:8080/",
          "height": 247
        },
        "outputId": "feb9dbff-cc12-41ee-f95b-70c014e84e49"
      },
      "source": [
        "# Future predictions using SVM \n",
        "india_svm_df = pd.DataFrame({'Date': future_forcast_dates[-10:], 'SVM Predicted # of Confirmed Cases in India': np.round(india_svm_pred[-10:])})\n",
        "india_svm_df.style.background_gradient(cmap='Greens')"
      ],
      "execution_count": null,
      "outputs": [
        {
          "output_type": "execute_result",
          "data": {
            "text/html": [
              "<style  type=\"text/css\" >\n",
              "#T_4b76a83c_201a_11eb_98ad_0242ac1c0002row0_col1{\n",
              "            background-color:  #f7fcf5;\n",
              "            color:  #000000;\n",
              "        }#T_4b76a83c_201a_11eb_98ad_0242ac1c0002row1_col1{\n",
              "            background-color:  #e8f6e3;\n",
              "            color:  #000000;\n",
              "        }#T_4b76a83c_201a_11eb_98ad_0242ac1c0002row2_col1{\n",
              "            background-color:  #cfecc9;\n",
              "            color:  #000000;\n",
              "        }#T_4b76a83c_201a_11eb_98ad_0242ac1c0002row3_col1{\n",
              "            background-color:  #b0dfaa;\n",
              "            color:  #000000;\n",
              "        }#T_4b76a83c_201a_11eb_98ad_0242ac1c0002row4_col1{\n",
              "            background-color:  #8bcf89;\n",
              "            color:  #000000;\n",
              "        }#T_4b76a83c_201a_11eb_98ad_0242ac1c0002row5_col1{\n",
              "            background-color:  #60ba6c;\n",
              "            color:  #000000;\n",
              "        }#T_4b76a83c_201a_11eb_98ad_0242ac1c0002row6_col1{\n",
              "            background-color:  #39a257;\n",
              "            color:  #000000;\n",
              "        }#T_4b76a83c_201a_11eb_98ad_0242ac1c0002row7_col1{\n",
              "            background-color:  #1d8640;\n",
              "            color:  #000000;\n",
              "        }#T_4b76a83c_201a_11eb_98ad_0242ac1c0002row8_col1{\n",
              "            background-color:  #00692a;\n",
              "            color:  #f1f1f1;\n",
              "        }#T_4b76a83c_201a_11eb_98ad_0242ac1c0002row9_col1{\n",
              "            background-color:  #00441b;\n",
              "            color:  #f1f1f1;\n",
              "        }</style><table id=\"T_4b76a83c_201a_11eb_98ad_0242ac1c0002\" ><thead>    <tr>        <th class=\"blank level0\" ></th>        <th class=\"col_heading level0 col0\" >Date</th>        <th class=\"col_heading level0 col1\" >SVM Predicted # of Confirmed Cases in India</th>    </tr></thead><tbody>\n",
              "                <tr>\n",
              "                        <th id=\"T_4b76a83c_201a_11eb_98ad_0242ac1c0002level0_row0\" class=\"row_heading level0 row0\" >0</th>\n",
              "                        <td id=\"T_4b76a83c_201a_11eb_98ad_0242ac1c0002row0_col0\" class=\"data row0 col0\" >11/06/2020</td>\n",
              "                        <td id=\"T_4b76a83c_201a_11eb_98ad_0242ac1c0002row0_col1\" class=\"data row0 col1\" >8764988.000000</td>\n",
              "            </tr>\n",
              "            <tr>\n",
              "                        <th id=\"T_4b76a83c_201a_11eb_98ad_0242ac1c0002level0_row1\" class=\"row_heading level0 row1\" >1</th>\n",
              "                        <td id=\"T_4b76a83c_201a_11eb_98ad_0242ac1c0002row1_col0\" class=\"data row1 col0\" >11/07/2020</td>\n",
              "                        <td id=\"T_4b76a83c_201a_11eb_98ad_0242ac1c0002row1_col1\" class=\"data row1 col1\" >8861659.000000</td>\n",
              "            </tr>\n",
              "            <tr>\n",
              "                        <th id=\"T_4b76a83c_201a_11eb_98ad_0242ac1c0002level0_row2\" class=\"row_heading level0 row2\" >2</th>\n",
              "                        <td id=\"T_4b76a83c_201a_11eb_98ad_0242ac1c0002row2_col0\" class=\"data row2 col0\" >11/08/2020</td>\n",
              "                        <td id=\"T_4b76a83c_201a_11eb_98ad_0242ac1c0002row2_col1\" class=\"data row2 col1\" >8958998.000000</td>\n",
              "            </tr>\n",
              "            <tr>\n",
              "                        <th id=\"T_4b76a83c_201a_11eb_98ad_0242ac1c0002level0_row3\" class=\"row_heading level0 row3\" >3</th>\n",
              "                        <td id=\"T_4b76a83c_201a_11eb_98ad_0242ac1c0002row3_col0\" class=\"data row3 col0\" >11/09/2020</td>\n",
              "                        <td id=\"T_4b76a83c_201a_11eb_98ad_0242ac1c0002row3_col1\" class=\"data row3 col1\" >9057009.000000</td>\n",
              "            </tr>\n",
              "            <tr>\n",
              "                        <th id=\"T_4b76a83c_201a_11eb_98ad_0242ac1c0002level0_row4\" class=\"row_heading level0 row4\" >4</th>\n",
              "                        <td id=\"T_4b76a83c_201a_11eb_98ad_0242ac1c0002row4_col0\" class=\"data row4 col0\" >11/10/2020</td>\n",
              "                        <td id=\"T_4b76a83c_201a_11eb_98ad_0242ac1c0002row4_col1\" class=\"data row4 col1\" >9155694.000000</td>\n",
              "            </tr>\n",
              "            <tr>\n",
              "                        <th id=\"T_4b76a83c_201a_11eb_98ad_0242ac1c0002level0_row5\" class=\"row_heading level0 row5\" >5</th>\n",
              "                        <td id=\"T_4b76a83c_201a_11eb_98ad_0242ac1c0002row5_col0\" class=\"data row5 col0\" >11/11/2020</td>\n",
              "                        <td id=\"T_4b76a83c_201a_11eb_98ad_0242ac1c0002row5_col1\" class=\"data row5 col1\" >9255054.000000</td>\n",
              "            </tr>\n",
              "            <tr>\n",
              "                        <th id=\"T_4b76a83c_201a_11eb_98ad_0242ac1c0002level0_row6\" class=\"row_heading level0 row6\" >6</th>\n",
              "                        <td id=\"T_4b76a83c_201a_11eb_98ad_0242ac1c0002row6_col0\" class=\"data row6 col0\" >11/12/2020</td>\n",
              "                        <td id=\"T_4b76a83c_201a_11eb_98ad_0242ac1c0002row6_col1\" class=\"data row6 col1\" >9355093.000000</td>\n",
              "            </tr>\n",
              "            <tr>\n",
              "                        <th id=\"T_4b76a83c_201a_11eb_98ad_0242ac1c0002level0_row7\" class=\"row_heading level0 row7\" >7</th>\n",
              "                        <td id=\"T_4b76a83c_201a_11eb_98ad_0242ac1c0002row7_col0\" class=\"data row7 col0\" >11/13/2020</td>\n",
              "                        <td id=\"T_4b76a83c_201a_11eb_98ad_0242ac1c0002row7_col1\" class=\"data row7 col1\" >9455812.000000</td>\n",
              "            </tr>\n",
              "            <tr>\n",
              "                        <th id=\"T_4b76a83c_201a_11eb_98ad_0242ac1c0002level0_row8\" class=\"row_heading level0 row8\" >8</th>\n",
              "                        <td id=\"T_4b76a83c_201a_11eb_98ad_0242ac1c0002row8_col0\" class=\"data row8 col0\" >11/14/2020</td>\n",
              "                        <td id=\"T_4b76a83c_201a_11eb_98ad_0242ac1c0002row8_col1\" class=\"data row8 col1\" >9557214.000000</td>\n",
              "            </tr>\n",
              "            <tr>\n",
              "                        <th id=\"T_4b76a83c_201a_11eb_98ad_0242ac1c0002level0_row9\" class=\"row_heading level0 row9\" >9</th>\n",
              "                        <td id=\"T_4b76a83c_201a_11eb_98ad_0242ac1c0002row9_col0\" class=\"data row9 col0\" >11/15/2020</td>\n",
              "                        <td id=\"T_4b76a83c_201a_11eb_98ad_0242ac1c0002row9_col1\" class=\"data row9 col1\" >9659301.000000</td>\n",
              "            </tr>\n",
              "    </tbody></table>"
            ],
            "text/plain": [
              "<pandas.io.formats.style.Styler at 0x7ff702eebf98>"
            ]
          },
          "metadata": {
            "tags": []
          },
          "execution_count": 243
        }
      ]
    },
    {
      "cell_type": "markdown",
      "metadata": {
        "id": "J-kPkdlqg8Gx"
      },
      "source": [
        "# POLYNOMIAL REGRESSION"
      ]
    },
    {
      "cell_type": "code",
      "metadata": {
        "trusted": true,
        "_kg_hide-input": true,
        "_kg_hide-output": true,
        "id": "YYXY5wlt8RK3"
      },
      "source": [
        "#transform our data for polynomial regression\n",
        "poly = PolynomialFeatures(degree=5)\n",
        "poly_X_train_confirmed = poly.fit_transform(X_train_confirmed)\n",
        "poly_X_test_confirmed = poly.fit_transform(X_test_confirmed)\n",
        "poly_future_forcast = poly.fit_transform(future_forcast)\n",
        "\n",
        "# For India\n",
        "india_poly = PolynomialFeatures(degree=5)\n",
        "india_poly_X_train_confirmed = india_poly.fit_transform(india_X_train_confirmed)\n",
        "india_poly_X_test_confirmed = india_poly.fit_transform(india_X_test_confirmed)\n",
        "india_poly_future_forcast = india_poly.fit_transform(future_forcast)"
      ],
      "execution_count": null,
      "outputs": []
    },
    {
      "cell_type": "code",
      "metadata": {
        "_kg_hide-input": true,
        "_kg_hide-output": true,
        "trusted": true,
        "id": "nkOAPKLB8RK5",
        "colab": {
          "base_uri": "https://localhost:8080/"
        },
        "outputId": "91fc1f77-6914-4c31-8ed0-da6625bf37bb"
      },
      "source": [
        "# polynomial regression\n",
        "linear_model = LinearRegression(normalize=True, fit_intercept=False)\n",
        "linear_model.fit(poly_X_train_confirmed, y_train_confirmed)\n",
        "test_linear_pred = linear_model.predict(poly_X_test_confirmed)\n",
        "linear_pred = linear_model.predict(poly_future_forcast)\n",
        "print('MAE:', mean_absolute_error(test_linear_pred, y_test_confirmed))\n",
        "print('MSE:',mean_squared_error(test_linear_pred, y_test_confirmed))"
      ],
      "execution_count": null,
      "outputs": [
        {
          "output_type": "stream",
          "text": [
            "MAE: 2715609.667416434\n",
            "MSE: 10769412725893.605\n"
          ],
          "name": "stdout"
        }
      ]
    },
    {
      "cell_type": "code",
      "metadata": {
        "id": "kNRV_7zPpyBI",
        "colab": {
          "base_uri": "https://localhost:8080/"
        },
        "outputId": "12a5928c-cfe8-4a6b-c0ec-8b6fcdc176b2"
      },
      "source": [
        "# FOR INDIA\n",
        "\n",
        "india_linear_model = LinearRegression(normalize=True, fit_intercept=False)\n",
        "india_linear_model.fit(india_poly_X_train_confirmed, india_y_train_confirmed)\n",
        "india_test_linear_pred = india_linear_model.predict(india_poly_X_test_confirmed)\n",
        "india_linear_pred = india_linear_model.predict(india_poly_future_forcast)\n",
        "print('MAE for India:', mean_absolute_error(india_test_linear_pred, india_y_test_confirmed))\n",
        "print('MSE for India:',mean_squared_error(india_test_linear_pred,india_y_test_confirmed))"
      ],
      "execution_count": null,
      "outputs": [
        {
          "output_type": "stream",
          "text": [
            "MAE for India: 137594.4064965361\n",
            "MSE for India: 20888797510.686104\n"
          ],
          "name": "stdout"
        }
      ]
    },
    {
      "cell_type": "code",
      "metadata": {
        "_kg_hide-input": true,
        "_kg_hide-output": true,
        "trusted": true,
        "id": "uGBXKtSF8RK7",
        "colab": {
          "base_uri": "https://localhost:8080/"
        },
        "outputId": "4e378cdb-7b4f-411c-da7b-f60a29f34ce4"
      },
      "source": [
        "print(linear_model.coef_)\n",
        "print(india_linear_model.coef_)"
      ],
      "execution_count": null,
      "outputs": [
        {
          "output_type": "stream",
          "text": [
            "[[-8.29077379e+06  2.66297066e+05 -2.87346068e+03  1.57920665e+01\n",
            "  -2.06403686e-02 -1.16844312e-05]]\n",
            "[ 2.93946934e+06 -1.39456676e+05  2.47707949e+03 -2.06442109e+01\n",
            "  8.05165629e-02 -1.11317087e-04]\n"
          ],
          "name": "stdout"
        }
      ]
    },
    {
      "cell_type": "code",
      "metadata": {
        "_kg_hide-input": true,
        "_kg_hide-output": true,
        "trusted": true,
        "id": "70Shwd4j8RK9",
        "colab": {
          "base_uri": "https://localhost:8080/",
          "height": 291
        },
        "outputId": "40fbf85c-5f93-4b38-8573-ea4c23428992"
      },
      "source": [
        "plt.plot(y_test_confirmed)\n",
        "plt.plot(test_linear_pred)\n",
        "plt.legend(['Test Data', 'Polynomial Regression Predictions'])"
      ],
      "execution_count": null,
      "outputs": [
        {
          "output_type": "execute_result",
          "data": {
            "text/plain": [
              "<matplotlib.legend.Legend at 0x7ff70c520080>"
            ]
          },
          "metadata": {
            "tags": []
          },
          "execution_count": 248
        },
        {
          "output_type": "display_data",
          "data": {
            "image/png": "[encoded data removed]",
            "text/plain": [
              "<Figure size 432x288 with 1 Axes>"
            ]
          },
          "metadata": {
            "tags": [],
            "needs_background": "light"
          }
        }
      ]
    },
    {
      "cell_type": "code",
      "metadata": {
        "id": "Ms4vY6X6qTdV",
        "colab": {
          "base_uri": "https://localhost:8080/",
          "height": 291
        },
        "outputId": "e0787f95-4568-4a2f-89fd-aeb522106e44"
      },
      "source": [
        "plt.plot(india_y_test_confirmed)\n",
        "plt.plot(india_test_linear_pred)\n",
        "plt.legend(['Test Data for India ', 'Polynomial Regression Predictions'])"
      ],
      "execution_count": null,
      "outputs": [
        {
          "output_type": "execute_result",
          "data": {
            "text/plain": [
              "<matplotlib.legend.Legend at 0x7ff70c4e29e8>"
            ]
          },
          "metadata": {
            "tags": []
          },
          "execution_count": 249
        },
        {
          "output_type": "display_data",
          "data": {
            "image/png": "[encoded data removed]",
            "text/plain": [
              "<Figure size 432x288 with 1 Axes>"
            ]
          },
          "metadata": {
            "tags": [],
            "needs_background": "light"
          }
        }
      ]
    },
    {
      "cell_type": "code",
      "metadata": {
        "_kg_hide-input": true,
        "trusted": true,
        "id": "O65tUj9K8RLl",
        "colab": {
          "base_uri": "https://localhost:8080/"
        },
        "outputId": "d69401ff-08e1-4fec-cc4f-7753530daf4b"
      },
      "source": [
        "# Future predictions using polynomial regression\n",
        "linear_pred = linear_pred.reshape(1,-1)[0]\n",
        "linear_df = pd.DataFrame({'Date': future_forcast_dates[-10:], 'Polynomial Predicted # of Confirmed Cases Worldwide': np.round(linear_pred[-10:])})\n",
        "linear_df.style.background_gradient(cmap='Greens')"
      ],
      "execution_count": null,
      "outputs": [
        {
          "output_type": "execute_result",
          "data": {
            "text/html": [
              "<style  type=\"text/css\" >\n",
              "#T_4bc2b5ba_201a_11eb_98ad_0242ac1c0002row0_col1{\n",
              "            background-color:  #f7fcf5;\n",
              "            color:  #000000;\n",
              "        }#T_4bc2b5ba_201a_11eb_98ad_0242ac1c0002row1_col1{\n",
              "            background-color:  #e5f5e0;\n",
              "            color:  #000000;\n",
              "        }#T_4bc2b5ba_201a_11eb_98ad_0242ac1c0002row2_col1{\n",
              "            background-color:  #c7e9c0;\n",
              "            color:  #000000;\n",
              "        }#T_4bc2b5ba_201a_11eb_98ad_0242ac1c0002row3_col1{\n",
              "            background-color:  #a3da9d;\n",
              "            color:  #000000;\n",
              "        }#T_4bc2b5ba_201a_11eb_98ad_0242ac1c0002row4_col1{\n",
              "            background-color:  #79c67a;\n",
              "            color:  #000000;\n",
              "        }#T_4bc2b5ba_201a_11eb_98ad_0242ac1c0002row5_col1{\n",
              "            background-color:  #4db163;\n",
              "            color:  #000000;\n",
              "        }#T_4bc2b5ba_201a_11eb_98ad_0242ac1c0002row6_col1{\n",
              "            background-color:  #2e964d;\n",
              "            color:  #000000;\n",
              "        }#T_4bc2b5ba_201a_11eb_98ad_0242ac1c0002row7_col1{\n",
              "            background-color:  #137d39;\n",
              "            color:  #f1f1f1;\n",
              "        }#T_4bc2b5ba_201a_11eb_98ad_0242ac1c0002row8_col1{\n",
              "            background-color:  #006328;\n",
              "            color:  #f1f1f1;\n",
              "        }#T_4bc2b5ba_201a_11eb_98ad_0242ac1c0002row9_col1{\n",
              "            background-color:  #00441b;\n",
              "            color:  #f1f1f1;\n",
              "        }</style><table id=\"T_4bc2b5ba_201a_11eb_98ad_0242ac1c0002\" ><thead>    <tr>        <th class=\"blank level0\" ></th>        <th class=\"col_heading level0 col0\" >Date</th>        <th class=\"col_heading level0 col1\" >Polynomial Predicted # of Confirmed Cases Worldwide</th>    </tr></thead><tbody>\n",
              "                <tr>\n",
              "                        <th id=\"T_4bc2b5ba_201a_11eb_98ad_0242ac1c0002level0_row0\" class=\"row_heading level0 row0\" >0</th>\n",
              "                        <td id=\"T_4bc2b5ba_201a_11eb_98ad_0242ac1c0002row0_col0\" class=\"data row0 col0\" >11/06/2020</td>\n",
              "                        <td id=\"T_4bc2b5ba_201a_11eb_98ad_0242ac1c0002row0_col1\" class=\"data row0 col1\" >42318916.000000</td>\n",
              "            </tr>\n",
              "            <tr>\n",
              "                        <th id=\"T_4bc2b5ba_201a_11eb_98ad_0242ac1c0002level0_row1\" class=\"row_heading level0 row1\" >1</th>\n",
              "                        <td id=\"T_4bc2b5ba_201a_11eb_98ad_0242ac1c0002row1_col0\" class=\"data row1 col0\" >11/07/2020</td>\n",
              "                        <td id=\"T_4bc2b5ba_201a_11eb_98ad_0242ac1c0002row1_col1\" class=\"data row1 col1\" >42478525.000000</td>\n",
              "            </tr>\n",
              "            <tr>\n",
              "                        <th id=\"T_4bc2b5ba_201a_11eb_98ad_0242ac1c0002level0_row2\" class=\"row_heading level0 row2\" >2</th>\n",
              "                        <td id=\"T_4bc2b5ba_201a_11eb_98ad_0242ac1c0002row2_col0\" class=\"data row2 col0\" >11/08/2020</td>\n",
              "                        <td id=\"T_4bc2b5ba_201a_11eb_98ad_0242ac1c0002row2_col1\" class=\"data row2 col1\" >42633336.000000</td>\n",
              "            </tr>\n",
              "            <tr>\n",
              "                        <th id=\"T_4bc2b5ba_201a_11eb_98ad_0242ac1c0002level0_row3\" class=\"row_heading level0 row3\" >3</th>\n",
              "                        <td id=\"T_4bc2b5ba_201a_11eb_98ad_0242ac1c0002row3_col0\" class=\"data row3 col0\" >11/09/2020</td>\n",
              "                        <td id=\"T_4bc2b5ba_201a_11eb_98ad_0242ac1c0002row3_col1\" class=\"data row3 col1\" >42783239.000000</td>\n",
              "            </tr>\n",
              "            <tr>\n",
              "                        <th id=\"T_4bc2b5ba_201a_11eb_98ad_0242ac1c0002level0_row4\" class=\"row_heading level0 row4\" >4</th>\n",
              "                        <td id=\"T_4bc2b5ba_201a_11eb_98ad_0242ac1c0002row4_col0\" class=\"data row4 col0\" >11/10/2020</td>\n",
              "                        <td id=\"T_4bc2b5ba_201a_11eb_98ad_0242ac1c0002row4_col1\" class=\"data row4 col1\" >42928127.000000</td>\n",
              "            </tr>\n",
              "            <tr>\n",
              "                        <th id=\"T_4bc2b5ba_201a_11eb_98ad_0242ac1c0002level0_row5\" class=\"row_heading level0 row5\" >5</th>\n",
              "                        <td id=\"T_4bc2b5ba_201a_11eb_98ad_0242ac1c0002row5_col0\" class=\"data row5 col0\" >11/11/2020</td>\n",
              "                        <td id=\"T_4bc2b5ba_201a_11eb_98ad_0242ac1c0002row5_col1\" class=\"data row5 col1\" >43067888.000000</td>\n",
              "            </tr>\n",
              "            <tr>\n",
              "                        <th id=\"T_4bc2b5ba_201a_11eb_98ad_0242ac1c0002level0_row6\" class=\"row_heading level0 row6\" >6</th>\n",
              "                        <td id=\"T_4bc2b5ba_201a_11eb_98ad_0242ac1c0002row6_col0\" class=\"data row6 col0\" >11/12/2020</td>\n",
              "                        <td id=\"T_4bc2b5ba_201a_11eb_98ad_0242ac1c0002row6_col1\" class=\"data row6 col1\" >43202413.000000</td>\n",
              "            </tr>\n",
              "            <tr>\n",
              "                        <th id=\"T_4bc2b5ba_201a_11eb_98ad_0242ac1c0002level0_row7\" class=\"row_heading level0 row7\" >7</th>\n",
              "                        <td id=\"T_4bc2b5ba_201a_11eb_98ad_0242ac1c0002row7_col0\" class=\"data row7 col0\" >11/13/2020</td>\n",
              "                        <td id=\"T_4bc2b5ba_201a_11eb_98ad_0242ac1c0002row7_col1\" class=\"data row7 col1\" >43331588.000000</td>\n",
              "            </tr>\n",
              "            <tr>\n",
              "                        <th id=\"T_4bc2b5ba_201a_11eb_98ad_0242ac1c0002level0_row8\" class=\"row_heading level0 row8\" >8</th>\n",
              "                        <td id=\"T_4bc2b5ba_201a_11eb_98ad_0242ac1c0002row8_col0\" class=\"data row8 col0\" >11/14/2020</td>\n",
              "                        <td id=\"T_4bc2b5ba_201a_11eb_98ad_0242ac1c0002row8_col1\" class=\"data row8 col1\" >43455301.000000</td>\n",
              "            </tr>\n",
              "            <tr>\n",
              "                        <th id=\"T_4bc2b5ba_201a_11eb_98ad_0242ac1c0002level0_row9\" class=\"row_heading level0 row9\" >9</th>\n",
              "                        <td id=\"T_4bc2b5ba_201a_11eb_98ad_0242ac1c0002row9_col0\" class=\"data row9 col0\" >11/15/2020</td>\n",
              "                        <td id=\"T_4bc2b5ba_201a_11eb_98ad_0242ac1c0002row9_col1\" class=\"data row9 col1\" >43573438.000000</td>\n",
              "            </tr>\n",
              "    </tbody></table>"
            ],
            "text/plain": [
              "<pandas.io.formats.style.Styler at 0x7ff6fe4aa048>"
            ]
          },
          "metadata": {
            "tags": []
          },
          "execution_count": 250
        }
      ]
    },
    {
      "cell_type": "code",
      "metadata": {
        "id": "5TlMB2Ro4Dk5",
        "colab": {
          "base_uri": "https://localhost:8080/",
          "height": 319
        },
        "outputId": "e8dc0c45-7b98-41a7-d596-c23e5a98933f"
      },
      "source": [
        "india_linear_pred = india_linear_pred.reshape(1,-1)[0]\n",
        "india_linear_df = pd.DataFrame({'Date': future_forcast_dates[-10:], 'Polynomial Predicted # of Confirmed Cases in India': np.round(india_linear_pred[-10:])})\n",
        "india_linear_df.style.background_gradient(cmap='Greens')"
      ],
      "execution_count": null,
      "outputs": [
        {
          "output_type": "execute_result",
          "data": {
            "text/html": [
              "<style  type=\"text/css\" >\n",
              "#T_4bc5cd04_201a_11eb_98ad_0242ac1c0002row0_col1{\n",
              "            background-color:  #0b7734;\n",
              "            color:  #f1f1f1;\n",
              "        }#T_4bc5cd04_201a_11eb_98ad_0242ac1c0002row1_col1{\n",
              "            background-color:  #005924;\n",
              "            color:  #f1f1f1;\n",
              "        }#T_4bc5cd04_201a_11eb_98ad_0242ac1c0002row2_col1{\n",
              "            background-color:  #00471c;\n",
              "            color:  #f1f1f1;\n",
              "        }#T_4bc5cd04_201a_11eb_98ad_0242ac1c0002row3_col1{\n",
              "            background-color:  #00441b;\n",
              "            color:  #f1f1f1;\n",
              "        }#T_4bc5cd04_201a_11eb_98ad_0242ac1c0002row4_col1{\n",
              "            background-color:  #005020;\n",
              "            color:  #f1f1f1;\n",
              "        }#T_4bc5cd04_201a_11eb_98ad_0242ac1c0002row5_col1{\n",
              "            background-color:  #006d2c;\n",
              "            color:  #f1f1f1;\n",
              "        }#T_4bc5cd04_201a_11eb_98ad_0242ac1c0002row6_col1{\n",
              "            background-color:  #268e47;\n",
              "            color:  #000000;\n",
              "        }#T_4bc5cd04_201a_11eb_98ad_0242ac1c0002row7_col1{\n",
              "            background-color:  #62bb6d;\n",
              "            color:  #000000;\n",
              "        }#T_4bc5cd04_201a_11eb_98ad_0242ac1c0002row8_col1{\n",
              "            background-color:  #b8e3b2;\n",
              "            color:  #000000;\n",
              "        }#T_4bc5cd04_201a_11eb_98ad_0242ac1c0002row9_col1{\n",
              "            background-color:  #f7fcf5;\n",
              "            color:  #000000;\n",
              "        }</style><table id=\"T_4bc5cd04_201a_11eb_98ad_0242ac1c0002\" ><thead>    <tr>        <th class=\"blank level0\" ></th>        <th class=\"col_heading level0 col0\" >Date</th>        <th class=\"col_heading level0 col1\" >Polynomial Predicted # of Confirmed Cases in India</th>    </tr></thead><tbody>\n",
              "                <tr>\n",
              "                        <th id=\"T_4bc5cd04_201a_11eb_98ad_0242ac1c0002level0_row0\" class=\"row_heading level0 row0\" >0</th>\n",
              "                        <td id=\"T_4bc5cd04_201a_11eb_98ad_0242ac1c0002row0_col0\" class=\"data row0 col0\" >11/06/2020</td>\n",
              "                        <td id=\"T_4bc5cd04_201a_11eb_98ad_0242ac1c0002row0_col1\" class=\"data row0 col1\" >8473025.000000</td>\n",
              "            </tr>\n",
              "            <tr>\n",
              "                        <th id=\"T_4bc5cd04_201a_11eb_98ad_0242ac1c0002level0_row1\" class=\"row_heading level0 row1\" >1</th>\n",
              "                        <td id=\"T_4bc5cd04_201a_11eb_98ad_0242ac1c0002row1_col0\" class=\"data row1 col0\" >11/07/2020</td>\n",
              "                        <td id=\"T_4bc5cd04_201a_11eb_98ad_0242ac1c0002row1_col1\" class=\"data row1 col1\" >8481974.000000</td>\n",
              "            </tr>\n",
              "            <tr>\n",
              "                        <th id=\"T_4bc5cd04_201a_11eb_98ad_0242ac1c0002level0_row2\" class=\"row_heading level0 row2\" >2</th>\n",
              "                        <td id=\"T_4bc5cd04_201a_11eb_98ad_0242ac1c0002row2_col0\" class=\"data row2 col0\" >11/08/2020</td>\n",
              "                        <td id=\"T_4bc5cd04_201a_11eb_98ad_0242ac1c0002row2_col1\" class=\"data row2 col1\" >8486915.000000</td>\n",
              "            </tr>\n",
              "            <tr>\n",
              "                        <th id=\"T_4bc5cd04_201a_11eb_98ad_0242ac1c0002level0_row3\" class=\"row_heading level0 row3\" >3</th>\n",
              "                        <td id=\"T_4bc5cd04_201a_11eb_98ad_0242ac1c0002row3_col0\" class=\"data row3 col0\" >11/09/2020</td>\n",
              "                        <td id=\"T_4bc5cd04_201a_11eb_98ad_0242ac1c0002row3_col1\" class=\"data row3 col1\" >8487722.000000</td>\n",
              "            </tr>\n",
              "            <tr>\n",
              "                        <th id=\"T_4bc5cd04_201a_11eb_98ad_0242ac1c0002level0_row4\" class=\"row_heading level0 row4\" >4</th>\n",
              "                        <td id=\"T_4bc5cd04_201a_11eb_98ad_0242ac1c0002row4_col0\" class=\"data row4 col0\" >11/10/2020</td>\n",
              "                        <td id=\"T_4bc5cd04_201a_11eb_98ad_0242ac1c0002row4_col1\" class=\"data row4 col1\" >8484267.000000</td>\n",
              "            </tr>\n",
              "            <tr>\n",
              "                        <th id=\"T_4bc5cd04_201a_11eb_98ad_0242ac1c0002level0_row5\" class=\"row_heading level0 row5\" >5</th>\n",
              "                        <td id=\"T_4bc5cd04_201a_11eb_98ad_0242ac1c0002row5_col0\" class=\"data row5 col0\" >11/11/2020</td>\n",
              "                        <td id=\"T_4bc5cd04_201a_11eb_98ad_0242ac1c0002row5_col1\" class=\"data row5 col1\" >8476419.000000</td>\n",
              "            </tr>\n",
              "            <tr>\n",
              "                        <th id=\"T_4bc5cd04_201a_11eb_98ad_0242ac1c0002level0_row6\" class=\"row_heading level0 row6\" >6</th>\n",
              "                        <td id=\"T_4bc5cd04_201a_11eb_98ad_0242ac1c0002row6_col0\" class=\"data row6 col0\" >11/12/2020</td>\n",
              "                        <td id=\"T_4bc5cd04_201a_11eb_98ad_0242ac1c0002row6_col1\" class=\"data row6 col1\" >8464048.000000</td>\n",
              "            </tr>\n",
              "            <tr>\n",
              "                        <th id=\"T_4bc5cd04_201a_11eb_98ad_0242ac1c0002level0_row7\" class=\"row_heading level0 row7\" >7</th>\n",
              "                        <td id=\"T_4bc5cd04_201a_11eb_98ad_0242ac1c0002row7_col0\" class=\"data row7 col0\" >11/13/2020</td>\n",
              "                        <td id=\"T_4bc5cd04_201a_11eb_98ad_0242ac1c0002row7_col1\" class=\"data row7 col1\" >8447018.000000</td>\n",
              "            </tr>\n",
              "            <tr>\n",
              "                        <th id=\"T_4bc5cd04_201a_11eb_98ad_0242ac1c0002level0_row8\" class=\"row_heading level0 row8\" >8</th>\n",
              "                        <td id=\"T_4bc5cd04_201a_11eb_98ad_0242ac1c0002row8_col0\" class=\"data row8 col0\" >11/14/2020</td>\n",
              "                        <td id=\"T_4bc5cd04_201a_11eb_98ad_0242ac1c0002row8_col1\" class=\"data row8 col1\" >8425194.000000</td>\n",
              "            </tr>\n",
              "            <tr>\n",
              "                        <th id=\"T_4bc5cd04_201a_11eb_98ad_0242ac1c0002level0_row9\" class=\"row_heading level0 row9\" >9</th>\n",
              "                        <td id=\"T_4bc5cd04_201a_11eb_98ad_0242ac1c0002row9_col0\" class=\"data row9 col0\" >11/15/2020</td>\n",
              "                        <td id=\"T_4bc5cd04_201a_11eb_98ad_0242ac1c0002row9_col1\" class=\"data row9 col1\" >8398437.000000</td>\n",
              "            </tr>\n",
              "    </tbody></table>"
            ],
            "text/plain": [
              "<pandas.io.formats.style.Styler at 0x7ff6fe4aa9e8>"
            ]
          },
          "metadata": {
            "tags": []
          },
          "execution_count": 251
        }
      ]
    },
    {
      "cell_type": "markdown",
      "metadata": {
        "id": "eNJZqyY7hBrp"
      },
      "source": [
        "# NEURAL NETWORKS"
      ]
    },
    {
      "cell_type": "code",
      "metadata": {
        "id": "9OAh16KC3pv6"
      },
      "source": [
        "\n",
        " \n",
        "def train_test(neural_network, X, Y, epochs=5000, training_percent_size = 0.8):\n",
        "    # This function takes a dataset, splits it into training and testing sets\n",
        "    # according to training_percent_size, trains a plain LSTM model on it\n",
        "    # launches preditions on datasets, and plots the result.\n",
        "    N = len(X)\n",
        "    # Extract training and testing samples and convert in numpy arrays\n",
        "    n_training = int(N*training_percent_size)\n",
        "    X_TRAINING, Y_TRAINING = np.array(X[:n_training]), np.array(Y[:n_training])\n",
        "    X_TESTING, Y_TESTING = np.array(X[n_training:]), np.array(Y[n_training:])\n",
        "    # neural_network.fit expect a (samples, input-steps, output-steps) shaped X array\n",
        "    X_TRAINING = X_TRAINING.reshape((X_TRAINING.shape[0], X_TRAINING.shape[1], 1))\n",
        "    X_TESTING = X_TESTING.reshape((X_TESTING.shape[0], X_TESTING.shape[1], 1))\n",
        "    # Training: shuffle=False prevents data shuffling, order is important! \n",
        "    for i in range(epochs):\n",
        "        neural_network.fit(X_TRAINING, Y_TRAINING, epochs = 1, verbose = 0, shuffle = False)\n",
        "        neural_network.reset_states()\n",
        "    Y_PREDICTED = []    # we list predictions in this array\n",
        "    for x in X_TESTING:\n",
        "        x = x.reshape((1, 1, 1))\n",
        "        y = neural_network.predict(x, verbose = 0)\n",
        "        Y_PREDICTED.append(y[0][0])\n",
        "    #Plot data in read and predictions in blue\n",
        "    #plt.plot(Y, 'r')\n",
        "    #plt.plot(range(n_training, N), Y_PREDICTED, 'b')\n",
        "    #plt.show()\n",
        "    # Test loss\n",
        "    #print(\"Loss =\", np.linalg.norm(Y_TESTING - np.array(Y_PREDICTED))**2/len(Y_TESTING))\n",
        "    # The curve with prediction instead of testing values is returned\n",
        "    return Y_TRAINING, Y_TESTING ,Y_PREDICTED\n",
        " \n",
        "# Set up the network with one layer of 10 nodes\n",
        "nn = Sequential()\n",
        "nn.add(LSTM(10, activation = \"relu\", input_shape = (1, 1), return_sequences=True))\n",
        "nn.add(LSTM(10, activation = \"relu\"))\n",
        "nn.add(Dense(1))   # the layer has a 1-dimensional output (a number!)\n",
        "nn.compile(loss=\"mean_squared_error\", optimizer=\"adam\")\n",
        "\n",
        "#for world\n",
        "y_training, y_testing, y_predicted = train_test(nn,X_train_confirmed,y_train_confirmed)\n",
        "\n",
        "#for india\n",
        "india_y_training, india_y_testing, india_y_predicted = train_test(nn,india_X_train_confirmed, india_y_train_confirmed)"
      ],
      "execution_count": null,
      "outputs": []
    },
    {
      "cell_type": "code",
      "metadata": {
        "id": "EoM64sBfHH-U",
        "colab": {
          "base_uri": "https://localhost:8080/"
        },
        "outputId": "bad784da-99d2-4377-9b8d-bad4fd0eaa54"
      },
      "source": [
        "print('MAE:', mean_absolute_error(y_predicted,y_testing))\n",
        "print('MSE:',mean_squared_error(y_predicted,y_testing))"
      ],
      "execution_count": null,
      "outputs": [
        {
          "output_type": "stream",
          "text": [
            "MAE: 2652085.0714285714\n",
            "MSE: 8848760449128.072\n"
          ],
          "name": "stdout"
        }
      ]
    },
    {
      "cell_type": "code",
      "metadata": {
        "id": "9Nvk_zl9HLAE",
        "colab": {
          "base_uri": "https://localhost:8080/"
        },
        "outputId": "a76936e1-4522-4d6e-c325-c5645711d2cb"
      },
      "source": [
        "print('MAE:', mean_absolute_error(india_y_predicted,india_y_testing))\n",
        "print('MSE:',mean_squared_error(india_y_predicted,india_y_testing))"
      ],
      "execution_count": null,
      "outputs": [
        {
          "output_type": "stream",
          "text": [
            "MAE: 670633.6130952381\n",
            "MSE: 575583278905.8765\n"
          ],
          "name": "stdout"
        }
      ]
    },
    {
      "cell_type": "code",
      "metadata": {
        "id": "V81B7BdGHO02",
        "colab": {
          "base_uri": "https://localhost:8080/",
          "height": 291
        },
        "outputId": "c8891128-b472-4fc3-c0d4-5fd1336b06f9"
      },
      "source": [
        "plt.plot(y_testing)\n",
        "plt.plot(y_predicted)\n",
        "plt.legend(['Test Data', 'Neural Network Predictions'])"
      ],
      "execution_count": null,
      "outputs": [
        {
          "output_type": "execute_result",
          "data": {
            "text/plain": [
              "<matplotlib.legend.Legend at 0x7ff70c2e07f0>"
            ]
          },
          "metadata": {
            "tags": []
          },
          "execution_count": 255
        },
        {
          "output_type": "display_data",
          "data": {
            "image/png": "[encoded data removed]",
            "text/plain": [
              "<Figure size 432x288 with 1 Axes>"
            ]
          },
          "metadata": {
            "tags": [],
            "needs_background": "light"
          }
        }
      ]
    },
    {
      "cell_type": "code",
      "metadata": {
        "id": "JbEE7escHRpl",
        "colab": {
          "base_uri": "https://localhost:8080/",
          "height": 291
        },
        "outputId": "e9e0ce05-ee67-4a0a-a121-b8f16e55acb9"
      },
      "source": [
        "plt.plot(india_y_testing)\n",
        "plt.plot(india_y_predicted)\n",
        "plt.legend(['Test Data for India', 'Neural Network Predictions'])"
      ],
      "execution_count": null,
      "outputs": [
        {
          "output_type": "execute_result",
          "data": {
            "text/plain": [
              "<matplotlib.legend.Legend at 0x7ff70c30a080>"
            ]
          },
          "metadata": {
            "tags": []
          },
          "execution_count": 256
        },
        {
          "output_type": "display_data",
          "data": {
            "image/png": "[encoded data removed]",
            "text/plain": [
              "<Figure size 432x288 with 1 Axes>"
            ]
          },
          "metadata": {
            "tags": [],
            "needs_background": "light"
          }
        }
      ]
    },
    {
      "cell_type": "code",
      "metadata": {
        "id": "LqnJUQWdckX3",
        "colab": {
          "base_uri": "https://localhost:8080/",
          "height": 247
        },
        "outputId": "d909f050-d846-4873-a48b-1f310977c283"
      },
      "source": [
        "y_pred_df = pd.DataFrame({'Date': future_forcast_dates[-10:], 'Neural Network # of Confirmed Cases in Worldwide': np.round(y_predicted[-10:])})\n",
        "y_pred_df.style.background_gradient(cmap='Greens')"
      ],
      "execution_count": null,
      "outputs": [
        {
          "output_type": "execute_result",
          "data": {
            "text/html": [
              "<style  type=\"text/css\" >\n",
              "#T_952fde98_201b_11eb_98ad_0242ac1c0002row0_col1{\n",
              "            background-color:  #f7fcf5;\n",
              "            color:  #000000;\n",
              "        }#T_952fde98_201b_11eb_98ad_0242ac1c0002row1_col1{\n",
              "            background-color:  #e7f6e2;\n",
              "            color:  #000000;\n",
              "        }#T_952fde98_201b_11eb_98ad_0242ac1c0002row2_col1{\n",
              "            background-color:  #ccebc6;\n",
              "            color:  #000000;\n",
              "        }#T_952fde98_201b_11eb_98ad_0242ac1c0002row3_col1{\n",
              "            background-color:  #acdea6;\n",
              "            color:  #000000;\n",
              "        }#T_952fde98_201b_11eb_98ad_0242ac1c0002row4_col1{\n",
              "            background-color:  #86cc85;\n",
              "            color:  #000000;\n",
              "        }#T_952fde98_201b_11eb_98ad_0242ac1c0002row5_col1{\n",
              "            background-color:  #5bb86a;\n",
              "            color:  #000000;\n",
              "        }#T_952fde98_201b_11eb_98ad_0242ac1c0002row6_col1{\n",
              "            background-color:  #359e53;\n",
              "            color:  #000000;\n",
              "        }#T_952fde98_201b_11eb_98ad_0242ac1c0002row7_col1{\n",
              "            background-color:  #19833e;\n",
              "            color:  #f1f1f1;\n",
              "        }#T_952fde98_201b_11eb_98ad_0242ac1c0002row8_col1{\n",
              "            background-color:  #006729;\n",
              "            color:  #f1f1f1;\n",
              "        }#T_952fde98_201b_11eb_98ad_0242ac1c0002row9_col1{\n",
              "            background-color:  #00441b;\n",
              "            color:  #f1f1f1;\n",
              "        }</style><table id=\"T_952fde98_201b_11eb_98ad_0242ac1c0002\" ><thead>    <tr>        <th class=\"blank level0\" ></th>        <th class=\"col_heading level0 col0\" >Date</th>        <th class=\"col_heading level0 col1\" >Neural Network # of Confirmed Cases in Worldwide</th>    </tr></thead><tbody>\n",
              "                <tr>\n",
              "                        <th id=\"T_952fde98_201b_11eb_98ad_0242ac1c0002level0_row0\" class=\"row_heading level0 row0\" >0</th>\n",
              "                        <td id=\"T_952fde98_201b_11eb_98ad_0242ac1c0002row0_col0\" class=\"data row0 col0\" >11/06/2020</td>\n",
              "                        <td id=\"T_952fde98_201b_11eb_98ad_0242ac1c0002row0_col1\" class=\"data row0 col1\" >29477044.000000</td>\n",
              "            </tr>\n",
              "            <tr>\n",
              "                        <th id=\"T_952fde98_201b_11eb_98ad_0242ac1c0002level0_row1\" class=\"row_heading level0 row1\" >1</th>\n",
              "                        <td id=\"T_952fde98_201b_11eb_98ad_0242ac1c0002row1_col0\" class=\"data row1 col0\" >11/07/2020</td>\n",
              "                        <td id=\"T_952fde98_201b_11eb_98ad_0242ac1c0002row1_col1\" class=\"data row1 col1\" >29637456.000000</td>\n",
              "            </tr>\n",
              "            <tr>\n",
              "                        <th id=\"T_952fde98_201b_11eb_98ad_0242ac1c0002level0_row2\" class=\"row_heading level0 row2\" >2</th>\n",
              "                        <td id=\"T_952fde98_201b_11eb_98ad_0242ac1c0002row2_col0\" class=\"data row2 col0\" >11/08/2020</td>\n",
              "                        <td id=\"T_952fde98_201b_11eb_98ad_0242ac1c0002row2_col1\" class=\"data row2 col1\" >29796900.000000</td>\n",
              "            </tr>\n",
              "            <tr>\n",
              "                        <th id=\"T_952fde98_201b_11eb_98ad_0242ac1c0002level0_row3\" class=\"row_heading level0 row3\" >3</th>\n",
              "                        <td id=\"T_952fde98_201b_11eb_98ad_0242ac1c0002row3_col0\" class=\"data row3 col0\" >11/09/2020</td>\n",
              "                        <td id=\"T_952fde98_201b_11eb_98ad_0242ac1c0002row3_col1\" class=\"data row3 col1\" >29955396.000000</td>\n",
              "            </tr>\n",
              "            <tr>\n",
              "                        <th id=\"T_952fde98_201b_11eb_98ad_0242ac1c0002level0_row4\" class=\"row_heading level0 row4\" >4</th>\n",
              "                        <td id=\"T_952fde98_201b_11eb_98ad_0242ac1c0002row4_col0\" class=\"data row4 col0\" >11/10/2020</td>\n",
              "                        <td id=\"T_952fde98_201b_11eb_98ad_0242ac1c0002row4_col1\" class=\"data row4 col1\" >30112964.000000</td>\n",
              "            </tr>\n",
              "            <tr>\n",
              "                        <th id=\"T_952fde98_201b_11eb_98ad_0242ac1c0002level0_row5\" class=\"row_heading level0 row5\" >5</th>\n",
              "                        <td id=\"T_952fde98_201b_11eb_98ad_0242ac1c0002row5_col0\" class=\"data row5 col0\" >11/11/2020</td>\n",
              "                        <td id=\"T_952fde98_201b_11eb_98ad_0242ac1c0002row5_col1\" class=\"data row5 col1\" >30269622.000000</td>\n",
              "            </tr>\n",
              "            <tr>\n",
              "                        <th id=\"T_952fde98_201b_11eb_98ad_0242ac1c0002level0_row6\" class=\"row_heading level0 row6\" >6</th>\n",
              "                        <td id=\"T_952fde98_201b_11eb_98ad_0242ac1c0002row6_col0\" class=\"data row6 col0\" >11/12/2020</td>\n",
              "                        <td id=\"T_952fde98_201b_11eb_98ad_0242ac1c0002row6_col1\" class=\"data row6 col1\" >30425390.000000</td>\n",
              "            </tr>\n",
              "            <tr>\n",
              "                        <th id=\"T_952fde98_201b_11eb_98ad_0242ac1c0002level0_row7\" class=\"row_heading level0 row7\" >7</th>\n",
              "                        <td id=\"T_952fde98_201b_11eb_98ad_0242ac1c0002row7_col0\" class=\"data row7 col0\" >11/13/2020</td>\n",
              "                        <td id=\"T_952fde98_201b_11eb_98ad_0242ac1c0002row7_col1\" class=\"data row7 col1\" >30580288.000000</td>\n",
              "            </tr>\n",
              "            <tr>\n",
              "                        <th id=\"T_952fde98_201b_11eb_98ad_0242ac1c0002level0_row8\" class=\"row_heading level0 row8\" >8</th>\n",
              "                        <td id=\"T_952fde98_201b_11eb_98ad_0242ac1c0002row8_col0\" class=\"data row8 col0\" >11/14/2020</td>\n",
              "                        <td id=\"T_952fde98_201b_11eb_98ad_0242ac1c0002row8_col1\" class=\"data row8 col1\" >30734336.000000</td>\n",
              "            </tr>\n",
              "            <tr>\n",
              "                        <th id=\"T_952fde98_201b_11eb_98ad_0242ac1c0002level0_row9\" class=\"row_heading level0 row9\" >9</th>\n",
              "                        <td id=\"T_952fde98_201b_11eb_98ad_0242ac1c0002row9_col0\" class=\"data row9 col0\" >11/15/2020</td>\n",
              "                        <td id=\"T_952fde98_201b_11eb_98ad_0242ac1c0002row9_col1\" class=\"data row9 col1\" >30887552.000000</td>\n",
              "            </tr>\n",
              "    </tbody></table>"
            ],
            "text/plain": [
              "<pandas.io.formats.style.Styler at 0x7ff701b40a58>"
            ]
          },
          "metadata": {
            "tags": []
          },
          "execution_count": 257
        }
      ]
    },
    {
      "cell_type": "code",
      "metadata": {
        "id": "TrL7cP-feG8S",
        "colab": {
          "base_uri": "https://localhost:8080/",
          "height": 247
        },
        "outputId": "d61e6594-5c66-4afc-85a7-401d8169cd1c"
      },
      "source": [
        "india_y_pred_df = pd.DataFrame({'Date': future_forcast_dates[-10:], 'Neural Network # of Confirmed Cases in India': np.round(india_y_predicted[-10:])})\n",
        "india_y_pred_df.style.background_gradient(cmap='Greens')"
      ],
      "execution_count": null,
      "outputs": [
        {
          "output_type": "execute_result",
          "data": {
            "text/html": [
              "<style  type=\"text/css\" >\n",
              "#T_95338e1c_201b_11eb_98ad_0242ac1c0002row0_col1{\n",
              "            background-color:  #f7fcf5;\n",
              "            color:  #000000;\n",
              "        }#T_95338e1c_201b_11eb_98ad_0242ac1c0002row1_col1{\n",
              "            background-color:  #e7f6e2;\n",
              "            color:  #000000;\n",
              "        }#T_95338e1c_201b_11eb_98ad_0242ac1c0002row2_col1{\n",
              "            background-color:  #ccebc6;\n",
              "            color:  #000000;\n",
              "        }#T_95338e1c_201b_11eb_98ad_0242ac1c0002row3_col1{\n",
              "            background-color:  #acdea6;\n",
              "            color:  #000000;\n",
              "        }#T_95338e1c_201b_11eb_98ad_0242ac1c0002row4_col1{\n",
              "            background-color:  #86cc85;\n",
              "            color:  #000000;\n",
              "        }#T_95338e1c_201b_11eb_98ad_0242ac1c0002row5_col1{\n",
              "            background-color:  #5bb86a;\n",
              "            color:  #000000;\n",
              "        }#T_95338e1c_201b_11eb_98ad_0242ac1c0002row6_col1{\n",
              "            background-color:  #359e53;\n",
              "            color:  #000000;\n",
              "        }#T_95338e1c_201b_11eb_98ad_0242ac1c0002row7_col1{\n",
              "            background-color:  #19833e;\n",
              "            color:  #f1f1f1;\n",
              "        }#T_95338e1c_201b_11eb_98ad_0242ac1c0002row8_col1{\n",
              "            background-color:  #006729;\n",
              "            color:  #f1f1f1;\n",
              "        }#T_95338e1c_201b_11eb_98ad_0242ac1c0002row9_col1{\n",
              "            background-color:  #00441b;\n",
              "            color:  #f1f1f1;\n",
              "        }</style><table id=\"T_95338e1c_201b_11eb_98ad_0242ac1c0002\" ><thead>    <tr>        <th class=\"blank level0\" ></th>        <th class=\"col_heading level0 col0\" >Date</th>        <th class=\"col_heading level0 col1\" >Neural Network # of Confirmed Cases in India</th>    </tr></thead><tbody>\n",
              "                <tr>\n",
              "                        <th id=\"T_95338e1c_201b_11eb_98ad_0242ac1c0002level0_row0\" class=\"row_heading level0 row0\" >0</th>\n",
              "                        <td id=\"T_95338e1c_201b_11eb_98ad_0242ac1c0002row0_col0\" class=\"data row0 col0\" >11/06/2020</td>\n",
              "                        <td id=\"T_95338e1c_201b_11eb_98ad_0242ac1c0002row0_col1\" class=\"data row0 col1\" >5130124.000000</td>\n",
              "            </tr>\n",
              "            <tr>\n",
              "                        <th id=\"T_95338e1c_201b_11eb_98ad_0242ac1c0002level0_row1\" class=\"row_heading level0 row1\" >1</th>\n",
              "                        <td id=\"T_95338e1c_201b_11eb_98ad_0242ac1c0002row1_col0\" class=\"data row1 col0\" >11/07/2020</td>\n",
              "                        <td id=\"T_95338e1c_201b_11eb_98ad_0242ac1c0002row1_col1\" class=\"data row1 col1\" >5184826.000000</td>\n",
              "            </tr>\n",
              "            <tr>\n",
              "                        <th id=\"T_95338e1c_201b_11eb_98ad_0242ac1c0002level0_row2\" class=\"row_heading level0 row2\" >2</th>\n",
              "                        <td id=\"T_95338e1c_201b_11eb_98ad_0242ac1c0002row2_col0\" class=\"data row2 col0\" >11/08/2020</td>\n",
              "                        <td id=\"T_95338e1c_201b_11eb_98ad_0242ac1c0002row2_col1\" class=\"data row2 col1\" >5239215.000000</td>\n",
              "            </tr>\n",
              "            <tr>\n",
              "                        <th id=\"T_95338e1c_201b_11eb_98ad_0242ac1c0002level0_row3\" class=\"row_heading level0 row3\" >3</th>\n",
              "                        <td id=\"T_95338e1c_201b_11eb_98ad_0242ac1c0002row3_col0\" class=\"data row3 col0\" >11/09/2020</td>\n",
              "                        <td id=\"T_95338e1c_201b_11eb_98ad_0242ac1c0002row3_col1\" class=\"data row3 col1\" >5293286.000000</td>\n",
              "            </tr>\n",
              "            <tr>\n",
              "                        <th id=\"T_95338e1c_201b_11eb_98ad_0242ac1c0002level0_row4\" class=\"row_heading level0 row4\" >4</th>\n",
              "                        <td id=\"T_95338e1c_201b_11eb_98ad_0242ac1c0002row4_col0\" class=\"data row4 col0\" >11/10/2020</td>\n",
              "                        <td id=\"T_95338e1c_201b_11eb_98ad_0242ac1c0002row4_col1\" class=\"data row4 col1\" >5347034.000000</td>\n",
              "            </tr>\n",
              "            <tr>\n",
              "                        <th id=\"T_95338e1c_201b_11eb_98ad_0242ac1c0002level0_row5\" class=\"row_heading level0 row5\" >5</th>\n",
              "                        <td id=\"T_95338e1c_201b_11eb_98ad_0242ac1c0002row5_col0\" class=\"data row5 col0\" >11/11/2020</td>\n",
              "                        <td id=\"T_95338e1c_201b_11eb_98ad_0242ac1c0002row5_col1\" class=\"data row5 col1\" >5400453.000000</td>\n",
              "            </tr>\n",
              "            <tr>\n",
              "                        <th id=\"T_95338e1c_201b_11eb_98ad_0242ac1c0002level0_row6\" class=\"row_heading level0 row6\" >6</th>\n",
              "                        <td id=\"T_95338e1c_201b_11eb_98ad_0242ac1c0002row6_col0\" class=\"data row6 col0\" >11/12/2020</td>\n",
              "                        <td id=\"T_95338e1c_201b_11eb_98ad_0242ac1c0002row6_col1\" class=\"data row6 col1\" >5453540.000000</td>\n",
              "            </tr>\n",
              "            <tr>\n",
              "                        <th id=\"T_95338e1c_201b_11eb_98ad_0242ac1c0002level0_row7\" class=\"row_heading level0 row7\" >7</th>\n",
              "                        <td id=\"T_95338e1c_201b_11eb_98ad_0242ac1c0002row7_col0\" class=\"data row7 col0\" >11/13/2020</td>\n",
              "                        <td id=\"T_95338e1c_201b_11eb_98ad_0242ac1c0002row7_col1\" class=\"data row7 col1\" >5506291.000000</td>\n",
              "            </tr>\n",
              "            <tr>\n",
              "                        <th id=\"T_95338e1c_201b_11eb_98ad_0242ac1c0002level0_row8\" class=\"row_heading level0 row8\" >8</th>\n",
              "                        <td id=\"T_95338e1c_201b_11eb_98ad_0242ac1c0002row8_col0\" class=\"data row8 col0\" >11/14/2020</td>\n",
              "                        <td id=\"T_95338e1c_201b_11eb_98ad_0242ac1c0002row8_col1\" class=\"data row8 col1\" >5558702.000000</td>\n",
              "            </tr>\n",
              "            <tr>\n",
              "                        <th id=\"T_95338e1c_201b_11eb_98ad_0242ac1c0002level0_row9\" class=\"row_heading level0 row9\" >9</th>\n",
              "                        <td id=\"T_95338e1c_201b_11eb_98ad_0242ac1c0002row9_col0\" class=\"data row9 col0\" >11/15/2020</td>\n",
              "                        <td id=\"T_95338e1c_201b_11eb_98ad_0242ac1c0002row9_col1\" class=\"data row9 col1\" >5610770.000000</td>\n",
              "            </tr>\n",
              "    </tbody></table>"
            ],
            "text/plain": [
              "<pandas.io.formats.style.Styler at 0x7ff701b402e8>"
            ]
          },
          "metadata": {
            "tags": []
          },
          "execution_count": 258
        }
      ]
    },
    {
      "cell_type": "markdown",
      "metadata": {
        "id": "9CHdB1hThJNB"
      },
      "source": [
        "# BAYESIAN RIDGE POLYNOMIAL REGRESSION"
      ]
    },
    {
      "cell_type": "code",
      "metadata": {
        "id": "do7OXX4SHUFd"
      },
      "source": [
        "bayesian_poly = PolynomialFeatures(degree=5)\n",
        "bayesian_poly_X_train_confirmed = bayesian_poly.fit_transform(X_train_confirmed)\n",
        "bayesian_poly_X_test_confirmed = bayesian_poly.fit_transform(X_test_confirmed)\n",
        "bayesian_poly_future_forcast = bayesian_poly.fit_transform(future_forcast)\n",
        "\n",
        "india_bayesian_poly = PolynomialFeatures(degree=5)\n",
        "india_bayesian_poly_X_train_confirmed = india_bayesian_poly.fit_transform(india_X_train_confirmed)\n",
        "india_bayesian_poly_X_test_confirmed = india_bayesian_poly.fit_transform(india_X_test_confirmed)\n",
        "india_bayesian_poly_future_forcast = india_bayesian_poly.fit_transform(future_forcast)\n"
      ],
      "execution_count": null,
      "outputs": []
    },
    {
      "cell_type": "code",
      "metadata": {
        "id": "1gm_hZeuHW25",
        "colab": {
          "base_uri": "https://localhost:8080/"
        },
        "outputId": "264fc086-b57d-428a-85e3-cb68a7f53e96"
      },
      "source": [
        "# bayesian ridge polynomial regression\n",
        "tol = [1e-6, 1e-5, 1e-4, 1e-3, 1e-2]\n",
        "alpha_1 = [1e-7, 1e-6, 1e-5, 1e-4, 1e-3]\n",
        "alpha_2 = [1e-7, 1e-6, 1e-5, 1e-4, 1e-3]\n",
        "lambda_1 = [1e-7, 1e-6, 1e-5, 1e-4, 1e-3]\n",
        "lambda_2 = [1e-7, 1e-6, 1e-5, 1e-4, 1e-3]\n",
        "normalize = [True, False]\n",
        "\n",
        "bayesian_grid = {'tol': tol, 'alpha_1': alpha_1, 'alpha_2' : alpha_2, 'lambda_1': lambda_1, 'lambda_2' : lambda_2, \n",
        "                 'normalize' : normalize}\n",
        "\n",
        "bayesian = BayesianRidge(fit_intercept=False)\n",
        "bayesian_search = RandomizedSearchCV(bayesian, bayesian_grid, scoring='neg_mean_squared_error', cv=3, return_train_score=True, n_jobs=-1, n_iter=40, verbose=1)\n",
        "bayesian_search.fit(bayesian_poly_X_train_confirmed, y_train_confirmed)\n",
        "\n",
        "#FOR India\n",
        "bayesian_search.fit(india_bayesian_poly_X_train_confirmed, india_y_train_confirmed)\n",
        "bayesian_search.best_params_\n"
      ],
      "execution_count": null,
      "outputs": [
        {
          "output_type": "stream",
          "text": [
            "Fitting 3 folds for each of 40 candidates, totalling 120 fits\n"
          ],
          "name": "stdout"
        },
        {
          "output_type": "stream",
          "text": [
            "[Parallel(n_jobs=-1)]: Using backend LokyBackend with 2 concurrent workers.\n",
            "[Parallel(n_jobs=-1)]: Done 120 out of 120 | elapsed:    1.2s finished\n",
            "[Parallel(n_jobs=-1)]: Using backend LokyBackend with 2 concurrent workers.\n"
          ],
          "name": "stderr"
        },
        {
          "output_type": "stream",
          "text": [
            "Fitting 3 folds for each of 40 candidates, totalling 120 fits\n"
          ],
          "name": "stdout"
        },
        {
          "output_type": "stream",
          "text": [
            "[Parallel(n_jobs=-1)]: Done 120 out of 120 | elapsed:    0.3s finished\n"
          ],
          "name": "stderr"
        },
        {
          "output_type": "execute_result",
          "data": {
            "text/plain": [
              "{'alpha_1': 1e-05,\n",
              " 'alpha_2': 0.0001,\n",
              " 'lambda_1': 0.001,\n",
              " 'lambda_2': 1e-07,\n",
              " 'normalize': True,\n",
              " 'tol': 0.01}"
            ]
          },
          "metadata": {
            "tags": []
          },
          "execution_count": 260
        }
      ]
    },
    {
      "cell_type": "code",
      "metadata": {
        "id": "ZQ14rCErHZbU",
        "colab": {
          "base_uri": "https://localhost:8080/"
        },
        "outputId": "7207b48a-b06a-43e3-dc60-825668456bac"
      },
      "source": [
        "bayesian_confirmed = bayesian_search.best_estimator_\n",
        "test_bayesian_pred = bayesian_confirmed.predict(bayesian_poly_X_test_confirmed)\n",
        "bayesian_pred = bayesian_confirmed.predict(bayesian_poly_future_forcast)\n",
        "print('MAE:', mean_absolute_error(test_bayesian_pred, y_test_confirmed))\n",
        "print('MSE:',mean_squared_error(test_bayesian_pred, y_test_confirmed))"
      ],
      "execution_count": null,
      "outputs": [
        {
          "output_type": "stream",
          "text": [
            "MAE: 32903026.216445208\n",
            "MSE: 1088861524723239.6\n"
          ],
          "name": "stdout"
        }
      ]
    },
    {
      "cell_type": "code",
      "metadata": {
        "id": "jGBRkCJQHdQN",
        "colab": {
          "base_uri": "https://localhost:8080/"
        },
        "outputId": "890f17bf-43b4-49cb-ad59-c93a5bbb9652"
      },
      "source": [
        "#For India\n",
        "india_bayesian_confirmed = bayesian_search.best_estimator_\n",
        "india_test_bayesian_pred = india_bayesian_confirmed.predict(india_bayesian_poly_X_test_confirmed)\n",
        "india_bayesian_pred = india_bayesian_confirmed.predict(india_bayesian_poly_future_forcast)\n",
        "print('MAE for India:', mean_absolute_error(india_test_bayesian_pred, india_y_test_confirmed))\n",
        "print('MSE for India:',mean_squared_error(india_test_bayesian_pred, india_y_test_confirmed))"
      ],
      "execution_count": null,
      "outputs": [
        {
          "output_type": "stream",
          "text": [
            "MAE for India: 1399556.4732099695\n",
            "MSE for India: 2459270793274.305\n"
          ],
          "name": "stdout"
        }
      ]
    },
    {
      "cell_type": "code",
      "metadata": {
        "id": "gcnh3PtzHfjr",
        "colab": {
          "base_uri": "https://localhost:8080/"
        },
        "outputId": "de1cb0ab-a2fa-45bf-c0fb-ae0dc715a36c"
      },
      "source": [
        "plt.plot(y_test_confirmed)\n",
        "plt.plot(test_bayesian_pred)\n",
        "plt.legend(['Test Data', 'Bayesian Ridge Polynomial Predictions'])"
      ],
      "execution_count": null,
      "outputs": [
        {
          "output_type": "execute_result",
          "data": {
            "text/plain": [
              "<matplotlib.legend.Legend at 0x7ff706ec9240>"
            ]
          },
          "metadata": {
            "tags": []
          },
          "execution_count": 263
        },
        {
          "output_type": "display_data",
          "data": {
            "image/png": "[encoded data removed]",
            "text/plain": [
              "<Figure size 432x288 with 1 Axes>"
            ]
          },
          "metadata": {
            "tags": [],
            "needs_background": "light"
          }
        }
      ]
    },
    {
      "cell_type": "code",
      "metadata": {
        "id": "vBS6gK5CHi5d",
        "colab": {
          "base_uri": "https://localhost:8080/",
          "height": 291
        },
        "outputId": "d671e951-162f-4e19-8a1b-35ed0979e3e6"
      },
      "source": [
        "plt.plot(india_y_test_confirmed)\n",
        "plt.plot(india_test_bayesian_pred)\n",
        "plt.legend(['Test Data for India', 'Bayesian Ridge Polynomial Predictions'])"
      ],
      "execution_count": null,
      "outputs": [
        {
          "output_type": "execute_result",
          "data": {
            "text/plain": [
              "<matplotlib.legend.Legend at 0x7ff702cf66d8>"
            ]
          },
          "metadata": {
            "tags": []
          },
          "execution_count": 264
        },
        {
          "output_type": "display_data",
          "data": {
            "image/png": "[encoded data removed]",
            "text/plain": [
              "<Figure size 432x288 with 1 Axes>"
            ]
          },
          "metadata": {
            "tags": [],
            "needs_background": "light"
          }
        }
      ]
    },
    {
      "cell_type": "code",
      "metadata": {
        "id": "MZ5Szl_Heo_-",
        "colab": {
          "base_uri": "https://localhost:8080/",
          "height": 247
        },
        "outputId": "4a62776c-0d2f-4147-c5cd-6155ce4bc7bc"
      },
      "source": [
        "# Future predictions using polynomial regression\n",
        "bayesian_pred = bayesian_pred.reshape(1,-1)[0]\n",
        "bayesian_df = pd.DataFrame({'Date': future_forcast_dates[-10:], 'Polynomial Predicted # of Confirmed Cases Worldwide': np.round(bayesian_pred[-10:])})\n",
        "bayesian_df.style.background_gradient(cmap='Greens')"
      ],
      "execution_count": null,
      "outputs": [
        {
          "output_type": "execute_result",
          "data": {
            "text/html": [
              "<style  type=\"text/css\" >\n",
              "#T_966383a0_201b_11eb_98ad_0242ac1c0002row0_col1{\n",
              "            background-color:  #f7fcf5;\n",
              "            color:  #000000;\n",
              "        }#T_966383a0_201b_11eb_98ad_0242ac1c0002row1_col1{\n",
              "            background-color:  #e8f6e3;\n",
              "            color:  #000000;\n",
              "        }#T_966383a0_201b_11eb_98ad_0242ac1c0002row2_col1{\n",
              "            background-color:  #cfecc9;\n",
              "            color:  #000000;\n",
              "        }#T_966383a0_201b_11eb_98ad_0242ac1c0002row3_col1{\n",
              "            background-color:  #b0dfaa;\n",
              "            color:  #000000;\n",
              "        }#T_966383a0_201b_11eb_98ad_0242ac1c0002row4_col1{\n",
              "            background-color:  #8bcf89;\n",
              "            color:  #000000;\n",
              "        }#T_966383a0_201b_11eb_98ad_0242ac1c0002row5_col1{\n",
              "            background-color:  #62bb6d;\n",
              "            color:  #000000;\n",
              "        }#T_966383a0_201b_11eb_98ad_0242ac1c0002row6_col1{\n",
              "            background-color:  #39a257;\n",
              "            color:  #000000;\n",
              "        }#T_966383a0_201b_11eb_98ad_0242ac1c0002row7_col1{\n",
              "            background-color:  #1d8640;\n",
              "            color:  #000000;\n",
              "        }#T_966383a0_201b_11eb_98ad_0242ac1c0002row8_col1{\n",
              "            background-color:  #00692a;\n",
              "            color:  #f1f1f1;\n",
              "        }#T_966383a0_201b_11eb_98ad_0242ac1c0002row9_col1{\n",
              "            background-color:  #00441b;\n",
              "            color:  #f1f1f1;\n",
              "        }</style><table id=\"T_966383a0_201b_11eb_98ad_0242ac1c0002\" ><thead>    <tr>        <th class=\"blank level0\" ></th>        <th class=\"col_heading level0 col0\" >Date</th>        <th class=\"col_heading level0 col1\" >Polynomial Predicted # of Confirmed Cases Worldwide</th>    </tr></thead><tbody>\n",
              "                <tr>\n",
              "                        <th id=\"T_966383a0_201b_11eb_98ad_0242ac1c0002level0_row0\" class=\"row_heading level0 row0\" >0</th>\n",
              "                        <td id=\"T_966383a0_201b_11eb_98ad_0242ac1c0002row0_col0\" class=\"data row0 col0\" >11/06/2020</td>\n",
              "                        <td id=\"T_966383a0_201b_11eb_98ad_0242ac1c0002row0_col1\" class=\"data row0 col1\" >11272958.000000</td>\n",
              "            </tr>\n",
              "            <tr>\n",
              "                        <th id=\"T_966383a0_201b_11eb_98ad_0242ac1c0002level0_row1\" class=\"row_heading level0 row1\" >1</th>\n",
              "                        <td id=\"T_966383a0_201b_11eb_98ad_0242ac1c0002row1_col0\" class=\"data row1 col0\" >11/07/2020</td>\n",
              "                        <td id=\"T_966383a0_201b_11eb_98ad_0242ac1c0002row1_col1\" class=\"data row1 col1\" >11430285.000000</td>\n",
              "            </tr>\n",
              "            <tr>\n",
              "                        <th id=\"T_966383a0_201b_11eb_98ad_0242ac1c0002level0_row2\" class=\"row_heading level0 row2\" >2</th>\n",
              "                        <td id=\"T_966383a0_201b_11eb_98ad_0242ac1c0002row2_col0\" class=\"data row2 col0\" >11/08/2020</td>\n",
              "                        <td id=\"T_966383a0_201b_11eb_98ad_0242ac1c0002row2_col1\" class=\"data row2 col1\" >11588978.000000</td>\n",
              "            </tr>\n",
              "            <tr>\n",
              "                        <th id=\"T_966383a0_201b_11eb_98ad_0242ac1c0002level0_row3\" class=\"row_heading level0 row3\" >3</th>\n",
              "                        <td id=\"T_966383a0_201b_11eb_98ad_0242ac1c0002row3_col0\" class=\"data row3 col0\" >11/09/2020</td>\n",
              "                        <td id=\"T_966383a0_201b_11eb_98ad_0242ac1c0002row3_col1\" class=\"data row3 col1\" >11749039.000000</td>\n",
              "            </tr>\n",
              "            <tr>\n",
              "                        <th id=\"T_966383a0_201b_11eb_98ad_0242ac1c0002level0_row4\" class=\"row_heading level0 row4\" >4</th>\n",
              "                        <td id=\"T_966383a0_201b_11eb_98ad_0242ac1c0002row4_col0\" class=\"data row4 col0\" >11/10/2020</td>\n",
              "                        <td id=\"T_966383a0_201b_11eb_98ad_0242ac1c0002row4_col1\" class=\"data row4 col1\" >11910470.000000</td>\n",
              "            </tr>\n",
              "            <tr>\n",
              "                        <th id=\"T_966383a0_201b_11eb_98ad_0242ac1c0002level0_row5\" class=\"row_heading level0 row5\" >5</th>\n",
              "                        <td id=\"T_966383a0_201b_11eb_98ad_0242ac1c0002row5_col0\" class=\"data row5 col0\" >11/11/2020</td>\n",
              "                        <td id=\"T_966383a0_201b_11eb_98ad_0242ac1c0002row5_col1\" class=\"data row5 col1\" >12073276.000000</td>\n",
              "            </tr>\n",
              "            <tr>\n",
              "                        <th id=\"T_966383a0_201b_11eb_98ad_0242ac1c0002level0_row6\" class=\"row_heading level0 row6\" >6</th>\n",
              "                        <td id=\"T_966383a0_201b_11eb_98ad_0242ac1c0002row6_col0\" class=\"data row6 col0\" >11/12/2020</td>\n",
              "                        <td id=\"T_966383a0_201b_11eb_98ad_0242ac1c0002row6_col1\" class=\"data row6 col1\" >12237458.000000</td>\n",
              "            </tr>\n",
              "            <tr>\n",
              "                        <th id=\"T_966383a0_201b_11eb_98ad_0242ac1c0002level0_row7\" class=\"row_heading level0 row7\" >7</th>\n",
              "                        <td id=\"T_966383a0_201b_11eb_98ad_0242ac1c0002row7_col0\" class=\"data row7 col0\" >11/13/2020</td>\n",
              "                        <td id=\"T_966383a0_201b_11eb_98ad_0242ac1c0002row7_col1\" class=\"data row7 col1\" >12403018.000000</td>\n",
              "            </tr>\n",
              "            <tr>\n",
              "                        <th id=\"T_966383a0_201b_11eb_98ad_0242ac1c0002level0_row8\" class=\"row_heading level0 row8\" >8</th>\n",
              "                        <td id=\"T_966383a0_201b_11eb_98ad_0242ac1c0002row8_col0\" class=\"data row8 col0\" >11/14/2020</td>\n",
              "                        <td id=\"T_966383a0_201b_11eb_98ad_0242ac1c0002row8_col1\" class=\"data row8 col1\" >12569959.000000</td>\n",
              "            </tr>\n",
              "            <tr>\n",
              "                        <th id=\"T_966383a0_201b_11eb_98ad_0242ac1c0002level0_row9\" class=\"row_heading level0 row9\" >9</th>\n",
              "                        <td id=\"T_966383a0_201b_11eb_98ad_0242ac1c0002row9_col0\" class=\"data row9 col0\" >11/15/2020</td>\n",
              "                        <td id=\"T_966383a0_201b_11eb_98ad_0242ac1c0002row9_col1\" class=\"data row9 col1\" >12738284.000000</td>\n",
              "            </tr>\n",
              "    </tbody></table>"
            ],
            "text/plain": [
              "<pandas.io.formats.style.Styler at 0x7ff709da9cc0>"
            ]
          },
          "metadata": {
            "tags": []
          },
          "execution_count": 265
        }
      ]
    },
    {
      "cell_type": "code",
      "metadata": {
        "id": "1bteVF8Vepej",
        "colab": {
          "base_uri": "https://localhost:8080/",
          "height": 247
        },
        "outputId": "5d6942c3-d5e3-4741-dee8-14499d9dd89e"
      },
      "source": [
        "# Future predictions using polynomial regression\n",
        "india_bayesian_pred = india_bayesian_pred.reshape(1,-1)[0]\n",
        "india_bayesian_df = pd.DataFrame({'Date': future_forcast_dates[-10:], 'Polynomial Predicted # of Confirmed Cases India': np.round(india_bayesian_pred[-10:])})\n",
        "india_bayesian_df.style.background_gradient(cmap='Greens')"
      ],
      "execution_count": null,
      "outputs": [
        {
          "output_type": "execute_result",
          "data": {
            "text/html": [
              "<style  type=\"text/css\" >\n",
              "#T_966679a2_201b_11eb_98ad_0242ac1c0002row0_col1{\n",
              "            background-color:  #f7fcf5;\n",
              "            color:  #000000;\n",
              "        }#T_966679a2_201b_11eb_98ad_0242ac1c0002row1_col1{\n",
              "            background-color:  #e8f6e3;\n",
              "            color:  #000000;\n",
              "        }#T_966679a2_201b_11eb_98ad_0242ac1c0002row2_col1{\n",
              "            background-color:  #cfecc9;\n",
              "            color:  #000000;\n",
              "        }#T_966679a2_201b_11eb_98ad_0242ac1c0002row3_col1{\n",
              "            background-color:  #b0dfaa;\n",
              "            color:  #000000;\n",
              "        }#T_966679a2_201b_11eb_98ad_0242ac1c0002row4_col1{\n",
              "            background-color:  #8bcf89;\n",
              "            color:  #000000;\n",
              "        }#T_966679a2_201b_11eb_98ad_0242ac1c0002row5_col1{\n",
              "            background-color:  #62bb6d;\n",
              "            color:  #000000;\n",
              "        }#T_966679a2_201b_11eb_98ad_0242ac1c0002row6_col1{\n",
              "            background-color:  #39a257;\n",
              "            color:  #000000;\n",
              "        }#T_966679a2_201b_11eb_98ad_0242ac1c0002row7_col1{\n",
              "            background-color:  #1d8640;\n",
              "            color:  #000000;\n",
              "        }#T_966679a2_201b_11eb_98ad_0242ac1c0002row8_col1{\n",
              "            background-color:  #00692a;\n",
              "            color:  #f1f1f1;\n",
              "        }#T_966679a2_201b_11eb_98ad_0242ac1c0002row9_col1{\n",
              "            background-color:  #00441b;\n",
              "            color:  #f1f1f1;\n",
              "        }</style><table id=\"T_966679a2_201b_11eb_98ad_0242ac1c0002\" ><thead>    <tr>        <th class=\"blank level0\" ></th>        <th class=\"col_heading level0 col0\" >Date</th>        <th class=\"col_heading level0 col1\" >Polynomial Predicted # of Confirmed Cases India</th>    </tr></thead><tbody>\n",
              "                <tr>\n",
              "                        <th id=\"T_966679a2_201b_11eb_98ad_0242ac1c0002level0_row0\" class=\"row_heading level0 row0\" >0</th>\n",
              "                        <td id=\"T_966679a2_201b_11eb_98ad_0242ac1c0002row0_col0\" class=\"data row0 col0\" >11/06/2020</td>\n",
              "                        <td id=\"T_966679a2_201b_11eb_98ad_0242ac1c0002row0_col1\" class=\"data row0 col1\" >11272958.000000</td>\n",
              "            </tr>\n",
              "            <tr>\n",
              "                        <th id=\"T_966679a2_201b_11eb_98ad_0242ac1c0002level0_row1\" class=\"row_heading level0 row1\" >1</th>\n",
              "                        <td id=\"T_966679a2_201b_11eb_98ad_0242ac1c0002row1_col0\" class=\"data row1 col0\" >11/07/2020</td>\n",
              "                        <td id=\"T_966679a2_201b_11eb_98ad_0242ac1c0002row1_col1\" class=\"data row1 col1\" >11430285.000000</td>\n",
              "            </tr>\n",
              "            <tr>\n",
              "                        <th id=\"T_966679a2_201b_11eb_98ad_0242ac1c0002level0_row2\" class=\"row_heading level0 row2\" >2</th>\n",
              "                        <td id=\"T_966679a2_201b_11eb_98ad_0242ac1c0002row2_col0\" class=\"data row2 col0\" >11/08/2020</td>\n",
              "                        <td id=\"T_966679a2_201b_11eb_98ad_0242ac1c0002row2_col1\" class=\"data row2 col1\" >11588978.000000</td>\n",
              "            </tr>\n",
              "            <tr>\n",
              "                        <th id=\"T_966679a2_201b_11eb_98ad_0242ac1c0002level0_row3\" class=\"row_heading level0 row3\" >3</th>\n",
              "                        <td id=\"T_966679a2_201b_11eb_98ad_0242ac1c0002row3_col0\" class=\"data row3 col0\" >11/09/2020</td>\n",
              "                        <td id=\"T_966679a2_201b_11eb_98ad_0242ac1c0002row3_col1\" class=\"data row3 col1\" >11749039.000000</td>\n",
              "            </tr>\n",
              "            <tr>\n",
              "                        <th id=\"T_966679a2_201b_11eb_98ad_0242ac1c0002level0_row4\" class=\"row_heading level0 row4\" >4</th>\n",
              "                        <td id=\"T_966679a2_201b_11eb_98ad_0242ac1c0002row4_col0\" class=\"data row4 col0\" >11/10/2020</td>\n",
              "                        <td id=\"T_966679a2_201b_11eb_98ad_0242ac1c0002row4_col1\" class=\"data row4 col1\" >11910470.000000</td>\n",
              "            </tr>\n",
              "            <tr>\n",
              "                        <th id=\"T_966679a2_201b_11eb_98ad_0242ac1c0002level0_row5\" class=\"row_heading level0 row5\" >5</th>\n",
              "                        <td id=\"T_966679a2_201b_11eb_98ad_0242ac1c0002row5_col0\" class=\"data row5 col0\" >11/11/2020</td>\n",
              "                        <td id=\"T_966679a2_201b_11eb_98ad_0242ac1c0002row5_col1\" class=\"data row5 col1\" >12073276.000000</td>\n",
              "            </tr>\n",
              "            <tr>\n",
              "                        <th id=\"T_966679a2_201b_11eb_98ad_0242ac1c0002level0_row6\" class=\"row_heading level0 row6\" >6</th>\n",
              "                        <td id=\"T_966679a2_201b_11eb_98ad_0242ac1c0002row6_col0\" class=\"data row6 col0\" >11/12/2020</td>\n",
              "                        <td id=\"T_966679a2_201b_11eb_98ad_0242ac1c0002row6_col1\" class=\"data row6 col1\" >12237458.000000</td>\n",
              "            </tr>\n",
              "            <tr>\n",
              "                        <th id=\"T_966679a2_201b_11eb_98ad_0242ac1c0002level0_row7\" class=\"row_heading level0 row7\" >7</th>\n",
              "                        <td id=\"T_966679a2_201b_11eb_98ad_0242ac1c0002row7_col0\" class=\"data row7 col0\" >11/13/2020</td>\n",
              "                        <td id=\"T_966679a2_201b_11eb_98ad_0242ac1c0002row7_col1\" class=\"data row7 col1\" >12403018.000000</td>\n",
              "            </tr>\n",
              "            <tr>\n",
              "                        <th id=\"T_966679a2_201b_11eb_98ad_0242ac1c0002level0_row8\" class=\"row_heading level0 row8\" >8</th>\n",
              "                        <td id=\"T_966679a2_201b_11eb_98ad_0242ac1c0002row8_col0\" class=\"data row8 col0\" >11/14/2020</td>\n",
              "                        <td id=\"T_966679a2_201b_11eb_98ad_0242ac1c0002row8_col1\" class=\"data row8 col1\" >12569959.000000</td>\n",
              "            </tr>\n",
              "            <tr>\n",
              "                        <th id=\"T_966679a2_201b_11eb_98ad_0242ac1c0002level0_row9\" class=\"row_heading level0 row9\" >9</th>\n",
              "                        <td id=\"T_966679a2_201b_11eb_98ad_0242ac1c0002row9_col0\" class=\"data row9 col0\" >11/15/2020</td>\n",
              "                        <td id=\"T_966679a2_201b_11eb_98ad_0242ac1c0002row9_col1\" class=\"data row9 col1\" >12738284.000000</td>\n",
              "            </tr>\n",
              "    </tbody></table>"
            ],
            "text/plain": [
              "<pandas.io.formats.style.Styler at 0x7ff6fe1fc048>"
            ]
          },
          "metadata": {
            "tags": []
          },
          "execution_count": 266
        }
      ]
    },
    {
      "cell_type": "markdown",
      "metadata": {
        "id": "048Pk3QmhOyB"
      },
      "source": [
        "# SIR MODEL"
      ]
    },
    {
      "cell_type": "code",
      "metadata": {
        "id": "nMznEaxlKvsO"
      },
      "source": [
        "from datetime import timedelta, datetime\n",
        "START_DATE = { 'India':'1/30/20'}\n",
        "class Learner(object):\n",
        "      def __init__(self, country, loss, start_date = '1/22/20', predict_range = 150, s_0 = 100000, i_0 = 2, r_0 = 10):\n",
        "        self.country = country\n",
        "        self.loss = loss\n",
        "        self.start_date = start_date\n",
        "        self.predict_range = predict_range\n",
        "        self.s_0 = s_0\n",
        "        self.i_0 = i_0\n",
        "        self.r_0 = r_0\n",
        "        \n",
        "      def load_confirmed(self, country):\n",
        "        df = pd.read_csv(confirmed_link)\n",
        "        df = df.drop(['Province/State'], axis = 1)\n",
        "        country_df = df[df['Country/Region'] == country]\n",
        "        return country_df.iloc[0].loc[self.start_date:]\n",
        "\n",
        "      def load_recovered(self, country):\n",
        "        df = pd.read_csv(recovered_link)\n",
        "        df = df.drop(['Province/State'], axis = 1)\n",
        "        country_df = df[df['Country/Region'] == country]\n",
        "        return country_df.iloc[0].loc[self.start_date:]\n",
        "      \n",
        "      def load_death(self, country):\n",
        "        df = pd.read_csv(death_link)\n",
        "        df = df.drop(['Province/State'], axis = 1)\n",
        "        country_df = df[df['Country/Region'] == country]\n",
        "        return country_df.iloc[0].loc[self.start_date:]\n",
        "\n",
        "      def extend_index(self, index, new_size):\n",
        "        values = index.values\n",
        "        current = datetime.strptime(index[-1],'%m/%d/%y')\n",
        "        while len(values)< new_size:\n",
        "          current = current + timedelta(days = 1)\n",
        "          values = np.append(values, datetime.strftime(current, '%m/%d/%y'))\n",
        "        return values\n",
        "      def predict(self, beta, gamma, data, recovered, death, country, s_0, i_0, r_0):\n",
        "        new_index = self.extend_index(data.index, self.predict_range)\n",
        "        size = len(new_index)\n",
        "        def SIR(t,y):\n",
        "          S = y[0]\n",
        "          I = y[1]\n",
        "          R = y[2]\n",
        "          return [-beta*S*I, beta*S*I - gamma*I, gamma*I]\n",
        "        extended_actual = np.concatenate((data.values, [None]*(size-len(data.values))))\n",
        "        extended_recovered = np.concatenate((recovered.values, [None]*(size-len(recovered.values))))\n",
        "        extended_death = np.concatenate((death.values, [None]*(size-len(death.values))))\n",
        "        return new_index, extended_actual, extended_recovered,  extended_death, solve_ivp(SIR, [0, size], [s_0, i_0, r_0], t_eval = np.arange(0, size, 1))\n",
        "\n",
        "      def train(self):\n",
        "        recovered = self.load_recovered(self.country)\n",
        "        death = self.load_death(self.country)\n",
        "        data = (self.load_confirmed(self.country) - recovered - death)\n",
        "\n",
        "        optimal = minimize(loss, [0.001, 0.001], args = (data, recovered, self.s_0, self.i_0, self.r_0), method = 'L-BFGS-B', bounds = [(0.00000001, 0.4),(0.00000001, 0.4) ])\n",
        "        print(optimal)\n",
        "        \n",
        "        beta, gamma = optimal.x\n",
        "        new_index, extended_actual, extended_recovered,  extended_death, prediction = self.predict(beta, gamma, data, recovered, death, self.country, self.s_0, self.i_0, self.r_0)\n",
        "\n",
        "        df = pd.DataFrame({'Infected data' : extended_actual, 'Recovered data' : extended_recovered, 'Death data' : extended_death, 'Susceptible' : prediction.y[0], 'Infected' : prediction.y[1],'Recovered' : prediction.y[2]}, index = new_index)\n",
        "\n",
        "        #save results to csv\n",
        "        df.to_csv(f\"{self.country}.csv\")\n",
        "        fig, ax = plt.subplots(figsize = (10, 10))\n",
        "        ax.set_title(self.country)\n",
        "        df.plot(ax= ax)\n",
        "        print(f\"country = {self.country}, beta = {beta: .8f},  gamma = {gamma: .8f}, r_0: {(beta/gamma) : .8f}\")\n",
        "        fig.savefig(f\"{self.country}.png\")\n",
        "        return df, fig\n"
      ],
      "execution_count": null,
      "outputs": []
    },
    {
      "cell_type": "code",
      "metadata": {
        "id": "YIgsFWU4Kv7m"
      },
      "source": [
        "def loss(point, data, recovered, s_0, i_0, r_0):\n",
        "  size = len(data)\n",
        "  beta, gamma = point\n",
        "  def SIR(t, y):\n",
        "    S = y[0]\n",
        "    I = y[1]\n",
        "    R = y[2]\n",
        "    return [-beta*S*I, beta*S*I - gamma*I, gamma*I]\n",
        "  solution = solve_ivp(SIR, [0, size], [s_0, i_0, r_0], t_eval = np.arange(0, size, 1), vectorized = True)\n",
        "  l1 = np.sqrt(np.mean(solution.y[1]-data)**2)\n",
        "  l2 = np.sqrt(np.mean(solution.y[1]-recovered)**2)\n",
        "  alpha = 0.1\n",
        "  return alpha*l1 + (1 - alpha )*l2\n"
      ],
      "execution_count": null,
      "outputs": []
    },
    {
      "cell_type": "code",
      "metadata": {
        "id": "nQGggUXPLBsE",
        "colab": {
          "base_uri": "https://localhost:8080/"
        },
        "outputId": "87848cfe-2544-46a9-c49a-8c527b70c484"
      },
      "source": [
        "india_learner = Learner(country = \"India\", loss = loss, i_0 = 3)\n",
        "india_sir, india_sir_fig = india_learner.train()"
      ],
      "execution_count": null,
      "outputs": [
        {
          "output_type": "stream",
          "text": [
            "      fun: 1329923.7385568006\n",
            " hess_inv: <2x2 LbfgsInvHessProduct with dtype=float64>\n",
            "      jac: array([7.21774995e-01, 1.43746698e+07])\n",
            "  message: b'CONVERGENCE: REL_REDUCTION_OF_F_<=_FACTR*EPSMCH'\n",
            "     nfev: 36\n",
            "      nit: 3\n",
            "   status: 0\n",
            "  success: True\n",
            "        x: array([4.03370015e-04, 1.00000000e-08])\n",
            "country = India, beta =  0.00040337,  gamma =  0.00000001, r_0:  40337.00153300\n"
          ],
          "name": "stdout"
        },
        {
          "output_type": "display_data",
          "data": {
            "image/png": "[encoded data removed]",
            "text/plain": [
              "<Figure size 720x720 with 1 Axes>"
            ]
          },
          "metadata": {
            "tags": [],
            "needs_background": "light"
          }
        }
      ]
    },
    {
      "cell_type": "code",
      "metadata": {
        "id": "RRCaxJztLE10"
      },
      "source": [
        "def plot_sir_prediction(title, df_sir, remove_series = [], yaxis_type = \" \", yaxis_title = \" \"):\n",
        "  fig = go.Figure()\n",
        "  title = title\n",
        "  labels = ['Infected data', 'Recovered data', 'Death data', 'Susceptible', 'Infected', 'Recovered']\n",
        "  colors = [color_arr[0], color_arr[8], color_arr[2], color_arr[3], color_arr[7], color_arr[16]]\n",
        "  line_size = [2, 2, 2, 2, 2, 2]\n",
        "\n",
        "  for index, data_series in enumerate(labels):\n",
        "    if data_series not in remove_series:\n",
        "      fig.add_trace(go.Scatter(x=df_sir.index, y= df_sir[data_series], name = labels[index], line = dict(color = colors[index], width = line_size[index]), connectgaps = True))\n",
        "  xaxis = dict(title = \"Date\", showline = True, showgrid = True, showticklabels = True, linecolor = 'rgb(204, 204, 204)', linewidth = 2, ticks = 'outside', tickangle = 280, tickfont = dict(family = 'Arial', size = 12, color = 'rgb(82, 82, 82)',),)\n",
        "  yaxis = dict(title = \"Count Count\", showline = True, showgrid = True, showticklabels = True, linecolor = 'rgb(204, 204, 204)', linewidth = 2,)\n",
        "  \n",
        "  if yaxis_type != \" \":\n",
        "     yaxis['type'] = yaxis_type\n",
        "  if yaxis_title != \" \":\n",
        "    yaxis['title'] = yaxis_title\n",
        "  \n",
        "  # Updating the layout\n",
        "  fig.update_layout(xaxis = xaxis, yaxis = yaxis, autosize = False, margin = dict(autoexpand = True, l = 10, r = 10, t = 10,), showlegend = True)\n",
        "\n",
        "  # base annottions for any graph\n",
        "  annotations = []\n",
        "  # Title\n",
        "  annotations.append(dict(xref='paper', yref = 'paper', x= 0.0, y = 1.05, xanchor = 'left', yanchor = 'bottom', text = title, font = dict(family = 'Arial', size = 16, color= 'rgb(37,37,37)'),showarrow = False))\n",
        "  \n",
        "  # updating the layout\n",
        "  fig.update_layout(annotations = annotations)\n",
        "\n",
        "  return fig"
      ],
      "execution_count": null,
      "outputs": []
    },
    {
      "cell_type": "code",
      "metadata": {
        "id": "u27L1AtiLS6f",
        "colab": {
          "base_uri": "https://localhost:8080/",
          "height": 542
        },
        "outputId": "e0c72edc-0e11-4ad0-8bc2-ac709df5bfb7"
      },
      "source": [
        "fig_ = plot_sir_prediction(title = \"SIR Model -- Covid-19 Transmission -- Prediction -- India\", df_sir = india_sir)\n",
        "fig_.show()"
      ],
      "execution_count": null,
      "outputs": [
        {
          "output_type": "display_data",
          "data": {
            "text/html": [
              "<html>\n",
              "<head><meta charset=\"utf-8\" /></head>\n",
              "<body>\n",
              "    <div>\n",
              "            <script src=\"https://cdnjs.cloudflare.com/ajax/libs/mathjax/2.7.5/MathJax.js?config=TeX-AMS-MML_SVG\"></script><script type=\"text/javascript\">if (window.MathJax) {MathJax.Hub.Config({SVG: {font: \"STIX-Web\"}});}</script>\n",
              "                <script type=\"text/javascript\">window.PlotlyConfig = {MathJaxConfig: 'local'};</script>\n",
              "        <script src=\"https://cdn.plot.ly/plotly-latest.min.js\"></script>    \n",
              "            <div id=\"cd42b1e3-b44b-40da-b0a0-67673a2e86f3\" class=\"plotly-graph-div\" style=\"height:525px; width:100%;\"></div>\n",
              "            <script type=\"text/javascript\">\n",
              "                \n",
              "                    window.PLOTLYENV=window.PLOTLYENV || {};\n",
              "                    \n",
              "                if (document.getElementById(\"cd42b1e3-b44b-40da-b0a0-67673a2e86f3\")) {\n",
              "                    Plotly.newPlot(\n",
              "                        'cd42b1e3-b44b-40da-b0a0-67673a2e86f3',\n",
              "                        [{\"connectgaps\": true, \"line\": {\"color\": \"#2E91E5\", \"width\": 2}, \"name\": \"Infected data\", \"type\": \"scatter\", \"x\": [\"1/22/20\", \"1/23/20\", \"1/24/20\", \"1/25/20\", \"1/26/20\", \"1/27/20\", \"1/28/20\", \"1/29/20\", \"1/30/20\", \"1/31/20\", \"2/1/20\", \"2/2/20\", \"2/3/20\", \"2/4/20\", \"2/5/20\", \"2/6/20\", \"2/7/20\", \"2/8/20\", \"2/9/20\", \"2/10/20\", \"2/11/20\", \"2/12/20\", \"2/13/20\", \"2/14/20\", \"2/15/20\", \"2/16/20\", \"2/17/20\", \"2/18/20\", \"2/19/20\", \"2/20/20\", \"2/21/20\", \"2/22/20\", \"2/23/20\", \"2/24/20\", \"2/25/20\", \"2/26/20\", \"2/27/20\", \"2/28/20\", \"2/29/20\", \"3/1/20\", \"3/2/20\", \"3/3/20\", \"3/4/20\", \"3/5/20\", \"3/6/20\", \"3/7/20\", \"3/8/20\", \"3/9/20\", \"3/10/20\", \"3/11/20\", \"3/12/20\", \"3/13/20\", \"3/14/20\", \"3/15/20\", \"3/16/20\", \"3/17/20\", \"3/18/20\", \"3/19/20\", \"3/20/20\", \"3/21/20\", \"3/22/20\", \"3/23/20\", \"3/24/20\", \"3/25/20\", \"3/26/20\", \"3/27/20\", \"3/28/20\", \"3/29/20\", \"3/30/20\", \"3/31/20\", \"4/1/20\", \"4/2/20\", \"4/3/20\", \"4/4/20\", \"4/5/20\", \"4/6/20\", \"4/7/20\", \"4/8/20\", \"4/9/20\", \"4/10/20\", \"4/11/20\", \"4/12/20\", \"4/13/20\", \"4/14/20\", \"4/15/20\", \"4/16/20\", \"4/17/20\", \"4/18/20\", \"4/19/20\", \"4/20/20\", \"4/21/20\", \"4/22/20\", \"4/23/20\", \"4/24/20\", \"4/25/20\", \"4/26/20\", \"4/27/20\", \"4/28/20\", \"4/29/20\", \"4/30/20\", \"5/1/20\", \"5/2/20\", \"5/3/20\", \"5/4/20\", \"5/5/20\", \"5/6/20\", \"5/7/20\", \"5/8/20\", \"5/9/20\", \"5/10/20\", \"5/11/20\", \"5/12/20\", \"5/13/20\", \"5/14/20\", \"5/15/20\", \"5/16/20\", \"5/17/20\", \"5/18/20\", \"5/19/20\", \"5/20/20\", \"5/21/20\", \"5/22/20\", \"5/23/20\", \"5/24/20\", \"5/25/20\", \"5/26/20\", \"5/27/20\", \"5/28/20\", \"5/29/20\", \"5/30/20\", \"5/31/20\", \"6/1/20\", \"6/2/20\", \"6/3/20\", \"6/4/20\", \"6/5/20\", \"6/6/20\", \"6/7/20\", \"6/8/20\", \"6/9/20\", \"6/10/20\", \"6/11/20\", \"6/12/20\", \"6/13/20\", \"6/14/20\", \"6/15/20\", \"6/16/20\", \"6/17/20\", \"6/18/20\", \"6/19/20\", \"6/20/20\", \"6/21/20\", \"6/22/20\", \"6/23/20\", \"6/24/20\", \"6/25/20\", \"6/26/20\", \"6/27/20\", \"6/28/20\", \"6/29/20\", \"6/30/20\", \"7/1/20\", \"7/2/20\", \"7/3/20\", \"7/4/20\", \"7/5/20\", \"7/6/20\", \"7/7/20\", \"7/8/20\", \"7/9/20\", \"7/10/20\", \"7/11/20\", \"7/12/20\", \"7/13/20\", \"7/14/20\", \"7/15/20\", \"7/16/20\", \"7/17/20\", \"7/18/20\", \"7/19/20\", \"7/20/20\", \"7/21/20\", \"7/22/20\", \"7/23/20\", \"7/24/20\", \"7/25/20\", \"7/26/20\", \"7/27/20\", \"7/28/20\", \"7/29/20\", \"7/30/20\", \"7/31/20\", \"8/1/20\", \"8/2/20\", \"8/3/20\", \"8/4/20\", \"8/5/20\", \"8/6/20\", \"8/7/20\", \"8/8/20\", \"8/9/20\", \"8/10/20\", \"8/11/20\", \"8/12/20\", \"8/13/20\", \"8/14/20\", \"8/15/20\", \"8/16/20\", \"8/17/20\", \"8/18/20\", \"8/19/20\", \"8/20/20\", \"8/21/20\", \"8/22/20\", \"8/23/20\", \"8/24/20\", \"8/25/20\", \"8/26/20\", \"8/27/20\", \"8/28/20\", \"8/29/20\", \"8/30/20\", \"8/31/20\", \"9/1/20\", \"9/2/20\", \"9/3/20\", \"9/4/20\", \"9/5/20\", \"9/6/20\", \"9/7/20\", \"9/8/20\", \"9/9/20\", \"9/10/20\", \"9/11/20\", \"9/12/20\", \"9/13/20\", \"9/14/20\", \"9/15/20\", \"9/16/20\", \"9/17/20\", \"9/18/20\", \"9/19/20\", \"9/20/20\", \"9/21/20\", \"9/22/20\", \"9/23/20\", \"9/24/20\", \"9/25/20\", \"9/26/20\", \"9/27/20\", \"9/28/20\", \"9/29/20\", \"9/30/20\", \"10/1/20\", \"10/2/20\", \"10/3/20\", \"10/4/20\", \"10/5/20\", \"10/6/20\", \"10/7/20\", \"10/8/20\", \"10/9/20\", \"10/10/20\", \"10/11/20\", \"10/12/20\", \"10/13/20\", \"10/14/20\", \"10/15/20\", \"10/16/20\", \"10/17/20\", \"10/18/20\", \"10/19/20\", \"10/20/20\", \"10/21/20\", \"10/22/20\", \"10/23/20\", \"10/24/20\", \"10/25/20\", \"10/26/20\", \"10/27/20\", \"10/28/20\", \"10/29/20\", \"10/30/20\", \"10/31/20\", \"11/1/20\", \"11/2/20\", \"11/3/20\", \"11/4/20\", \"11/5/20\"], \"y\": [0, 0, 0, 0, 0, 0, 0, 0, 1, 1, 1, 2, 3, 3, 3, 3, 3, 3, 3, 3, 3, 3, 3, 3, 3, 0, 0, 0, 0, 0, 0, 0, 0, 0, 0, 0, 0, 0, 0, 0, 2, 2, 25, 27, 28, 31, 36, 40, 52, 57, 68, 76, 96, 98, 104, 125, 139, 175, 219, 303, 362, 462, 486, 602, 662, 794, 879, 902, 1117, 1239, 1792, 2280, 2303, 2767, 3260, 4267, 4740, 5232, 5879, 6578, 7189, 7794, 8914, 9735, 10485, 11214, 11825, 12738, 14202, 14674, 15460, 16319, 17344, 18252, 19519, 20486, 21375, 22569, 23546, 24641, 26027, 27557, 29339, 32024, 33565, 35871, 37686, 39823, 41406, 43980, 45925, 47457, 49104, 51379, 52773, 53553, 55878, 57939, 60864, 63172, 66089, 69244, 73170, 76820, 80072, 82172, 85803, 89755, 85884, 89706, 93349, 97008, 101077, 106665, 111900, 116302, 120981, 126431, 129360, 133726, 143297, 141842, 145779, 149348, 153106, 153178, 155227, 160384, 163248, 168269, 169469, 174387, 178014, 183022, 186514, 189463, 197387, 203051, 210120, 215125, 220169, 226947, 227439, 235433, 244814, 253287, 259571, 264944, 269789, 276685, 283407, 292231, 301609, 311565, 319840, 331175, 342473, 359060, 373542, 390622, 402678, 411296, 426330, 440298, 456234, 468002, 485277, 495499, 509447, 527273, 543680, 565103, 567730, 579357, 586298, 586244, 595501, 607384, 619088, 628747, 634945, 639929, 643948, 653622, 661595, 667950, 677714, 676900, 673213, 676549, 686395, 692030, 697330, 707668, 710771, 704348, 706851, 725991, 742023, 752424, 765302, 781975, 785996, 801282, 815538, 831124, 846395, 862320, 882542, 883697, 897394, 919018, 943480, 958316, 973175, 986598, 990061, 995933, 1009976, 1017754, 1013964, 1010824, 1003299, 975861, 968377, 966382, 970116, 960969, 956402, 962640, 947576, 940441, 940705, 942217, 944996, 937625, 934427, 919023, 907883, 902425, 893592, 883185, 867496, 861853, 838729, 826876, 812390, 804528, 795087, 783311, 772055, 748538, 740090, 715812, 695509, 680680, 668154, 653717, 625857, 610803, 603687, 594386, 582649, 570458, 561908, 541405, 533787, 527962, 520773]}, {\"connectgaps\": true, \"line\": {\"color\": \"#EB663B\", \"width\": 2}, \"name\": \"Recovered data\", \"type\": \"scatter\", \"x\": [\"1/22/20\", \"1/23/20\", \"1/24/20\", \"1/25/20\", \"1/26/20\", \"1/27/20\", \"1/28/20\", \"1/29/20\", \"1/30/20\", \"1/31/20\", \"2/1/20\", \"2/2/20\", \"2/3/20\", \"2/4/20\", \"2/5/20\", \"2/6/20\", \"2/7/20\", \"2/8/20\", \"2/9/20\", \"2/10/20\", \"2/11/20\", \"2/12/20\", \"2/13/20\", \"2/14/20\", \"2/15/20\", \"2/16/20\", \"2/17/20\", \"2/18/20\", \"2/19/20\", \"2/20/20\", \"2/21/20\", \"2/22/20\", \"2/23/20\", \"2/24/20\", \"2/25/20\", \"2/26/20\", \"2/27/20\", \"2/28/20\", \"2/29/20\", \"3/1/20\", \"3/2/20\", \"3/3/20\", \"3/4/20\", \"3/5/20\", \"3/6/20\", \"3/7/20\", \"3/8/20\", \"3/9/20\", \"3/10/20\", \"3/11/20\", \"3/12/20\", \"3/13/20\", \"3/14/20\", \"3/15/20\", \"3/16/20\", \"3/17/20\", \"3/18/20\", \"3/19/20\", \"3/20/20\", \"3/21/20\", \"3/22/20\", \"3/23/20\", \"3/24/20\", \"3/25/20\", \"3/26/20\", \"3/27/20\", \"3/28/20\", \"3/29/20\", \"3/30/20\", \"3/31/20\", \"4/1/20\", \"4/2/20\", \"4/3/20\", \"4/4/20\", \"4/5/20\", \"4/6/20\", \"4/7/20\", \"4/8/20\", \"4/9/20\", \"4/10/20\", \"4/11/20\", \"4/12/20\", \"4/13/20\", \"4/14/20\", \"4/15/20\", \"4/16/20\", \"4/17/20\", \"4/18/20\", \"4/19/20\", \"4/20/20\", \"4/21/20\", \"4/22/20\", \"4/23/20\", \"4/24/20\", \"4/25/20\", \"4/26/20\", \"4/27/20\", \"4/28/20\", \"4/29/20\", \"4/30/20\", \"5/1/20\", \"5/2/20\", \"5/3/20\", \"5/4/20\", \"5/5/20\", \"5/6/20\", \"5/7/20\", \"5/8/20\", \"5/9/20\", \"5/10/20\", \"5/11/20\", \"5/12/20\", \"5/13/20\", \"5/14/20\", \"5/15/20\", \"5/16/20\", \"5/17/20\", \"5/18/20\", \"5/19/20\", \"5/20/20\", \"5/21/20\", \"5/22/20\", \"5/23/20\", \"5/24/20\", \"5/25/20\", \"5/26/20\", \"5/27/20\", \"5/28/20\", \"5/29/20\", \"5/30/20\", \"5/31/20\", \"6/1/20\", \"6/2/20\", \"6/3/20\", \"6/4/20\", \"6/5/20\", \"6/6/20\", \"6/7/20\", \"6/8/20\", \"6/9/20\", \"6/10/20\", \"6/11/20\", \"6/12/20\", \"6/13/20\", \"6/14/20\", \"6/15/20\", \"6/16/20\", \"6/17/20\", \"6/18/20\", \"6/19/20\", \"6/20/20\", \"6/21/20\", \"6/22/20\", \"6/23/20\", \"6/24/20\", \"6/25/20\", \"6/26/20\", \"6/27/20\", \"6/28/20\", \"6/29/20\", \"6/30/20\", \"7/1/20\", \"7/2/20\", \"7/3/20\", \"7/4/20\", \"7/5/20\", \"7/6/20\", \"7/7/20\", \"7/8/20\", \"7/9/20\", \"7/10/20\", \"7/11/20\", \"7/12/20\", \"7/13/20\", \"7/14/20\", \"7/15/20\", \"7/16/20\", \"7/17/20\", \"7/18/20\", \"7/19/20\", \"7/20/20\", \"7/21/20\", \"7/22/20\", \"7/23/20\", \"7/24/20\", \"7/25/20\", \"7/26/20\", \"7/27/20\", \"7/28/20\", \"7/29/20\", \"7/30/20\", \"7/31/20\", \"8/1/20\", \"8/2/20\", \"8/3/20\", \"8/4/20\", \"8/5/20\", \"8/6/20\", \"8/7/20\", \"8/8/20\", \"8/9/20\", \"8/10/20\", \"8/11/20\", \"8/12/20\", \"8/13/20\", \"8/14/20\", \"8/15/20\", \"8/16/20\", \"8/17/20\", \"8/18/20\", \"8/19/20\", \"8/20/20\", \"8/21/20\", \"8/22/20\", \"8/23/20\", \"8/24/20\", \"8/25/20\", \"8/26/20\", \"8/27/20\", \"8/28/20\", \"8/29/20\", \"8/30/20\", \"8/31/20\", \"9/1/20\", \"9/2/20\", \"9/3/20\", \"9/4/20\", \"9/5/20\", \"9/6/20\", \"9/7/20\", \"9/8/20\", \"9/9/20\", \"9/10/20\", \"9/11/20\", \"9/12/20\", \"9/13/20\", \"9/14/20\", \"9/15/20\", \"9/16/20\", \"9/17/20\", \"9/18/20\", \"9/19/20\", \"9/20/20\", \"9/21/20\", \"9/22/20\", \"9/23/20\", \"9/24/20\", \"9/25/20\", \"9/26/20\", \"9/27/20\", \"9/28/20\", \"9/29/20\", \"9/30/20\", \"10/1/20\", \"10/2/20\", \"10/3/20\", \"10/4/20\", \"10/5/20\", \"10/6/20\", \"10/7/20\", \"10/8/20\", \"10/9/20\", \"10/10/20\", \"10/11/20\", \"10/12/20\", \"10/13/20\", \"10/14/20\", \"10/15/20\", \"10/16/20\", \"10/17/20\", \"10/18/20\", \"10/19/20\", \"10/20/20\", \"10/21/20\", \"10/22/20\", \"10/23/20\", \"10/24/20\", \"10/25/20\", \"10/26/20\", \"10/27/20\", \"10/28/20\", \"10/29/20\", \"10/30/20\", \"10/31/20\", \"11/1/20\", \"11/2/20\", \"11/3/20\", \"11/4/20\", \"11/5/20\"], \"y\": [0, 0, 0, 0, 0, 0, 0, 0, 0, 0, 0, 0, 0, 0, 0, 0, 0, 0, 0, 0, 0, 0, 0, 0, 0, 3, 3, 3, 3, 3, 3, 3, 3, 3, 3, 3, 3, 3, 3, 3, 3, 3, 3, 3, 3, 3, 3, 3, 4, 4, 4, 4, 4, 13, 13, 14, 14, 15, 20, 23, 27, 27, 40, 43, 45, 73, 84, 95, 102, 123, 148, 191, 192, 229, 229, 375, 421, 506, 620, 774, 969, 1080, 1181, 1359, 1432, 1768, 2041, 2463, 2854, 3273, 3975, 4370, 5012, 5498, 5939, 6523, 7137, 7747, 8437, 9068, 10007, 10819, 11775, 12847, 14142, 15331, 16776, 17887, 19301, 20969, 22549, 24420, 26400, 27969, 30258, 34224, 36795, 39233, 42309, 45422, 48553, 51824, 54385, 57692, 60706, 64277, 67749, 70920, 82627, 86936, 91852, 95754, 100285, 104071, 108450, 113233, 118695, 123848, 129095, 134670, 135206, 147195, 154330, 162379, 169798, 180013, 186935, 194325, 204711, 213831, 227728, 237196, 248190, 258685, 271697, 285637, 295881, 309713, 321723, 334822, 347912, 359860, 379892, 394227, 409083, 424433, 439934, 456831, 476378, 495513, 515386, 534618, 553471, 571460, 592032, 612768, 635757, 653751, 677423, 700087, 724578, 753050, 782607, 817209, 849432, 885573, 917568, 951166, 988029, 1019735, 1055348, 1094374, 1145629, 1186203, 1230509, 1282215, 1328336, 1378105, 1427005, 1480884, 1535743, 1583489, 1639599, 1695982, 1751555, 1808936, 1862258, 1919842, 1977671, 2037816, 2096664, 2158946, 2222577, 2280566, 2338035, 2404585, 2458339, 2523771, 2583948, 2648998, 2713933, 2774801, 2839882, 2901908, 2970492, 3037151, 3107223, 3180865, 3250429, 3323950, 3398844, 3471783, 3542663, 3624196, 3702595, 3780107, 3859399, 3942360, 4025079, 4112551, 4208431, 4303043, 4396399, 4497867, 4587613, 4674987, 4756164, 4849584, 4941627, 5016520, 5101397, 5187825, 5273201, 5352078, 5427706, 5509966, 5586703, 5662490, 5744693, 5827704, 5906069, 5988822, 6077976, 6149535, 6227295, 6301927, 6383441, 6453779, 6524595, 6597209, 6663608, 6733328, 6795103, 6874518, 6948497, 7016046, 7078123, 7137228, 7201070, 7259509, 7315989, 7373375, 7432829, 7491513, 7544798, 7603121, 7656478, 7711809, 7765966]}, {\"connectgaps\": true, \"line\": {\"color\": \"#1CA71C\", \"width\": 2}, \"name\": \"Death data\", \"type\": \"scatter\", \"x\": [\"1/22/20\", \"1/23/20\", \"1/24/20\", \"1/25/20\", \"1/26/20\", \"1/27/20\", \"1/28/20\", \"1/29/20\", \"1/30/20\", \"1/31/20\", \"2/1/20\", \"2/2/20\", \"2/3/20\", \"2/4/20\", \"2/5/20\", \"2/6/20\", \"2/7/20\", \"2/8/20\", \"2/9/20\", \"2/10/20\", \"2/11/20\", \"2/12/20\", \"2/13/20\", \"2/14/20\", \"2/15/20\", \"2/16/20\", \"2/17/20\", \"2/18/20\", \"2/19/20\", \"2/20/20\", \"2/21/20\", \"2/22/20\", \"2/23/20\", \"2/24/20\", \"2/25/20\", \"2/26/20\", \"2/27/20\", \"2/28/20\", \"2/29/20\", \"3/1/20\", \"3/2/20\", \"3/3/20\", \"3/4/20\", \"3/5/20\", \"3/6/20\", \"3/7/20\", \"3/8/20\", \"3/9/20\", \"3/10/20\", \"3/11/20\", \"3/12/20\", \"3/13/20\", \"3/14/20\", \"3/15/20\", \"3/16/20\", \"3/17/20\", \"3/18/20\", \"3/19/20\", \"3/20/20\", \"3/21/20\", \"3/22/20\", \"3/23/20\", \"3/24/20\", \"3/25/20\", \"3/26/20\", \"3/27/20\", \"3/28/20\", \"3/29/20\", \"3/30/20\", \"3/31/20\", \"4/1/20\", \"4/2/20\", \"4/3/20\", \"4/4/20\", \"4/5/20\", \"4/6/20\", \"4/7/20\", \"4/8/20\", \"4/9/20\", \"4/10/20\", \"4/11/20\", \"4/12/20\", \"4/13/20\", \"4/14/20\", \"4/15/20\", \"4/16/20\", \"4/17/20\", \"4/18/20\", \"4/19/20\", \"4/20/20\", \"4/21/20\", \"4/22/20\", \"4/23/20\", \"4/24/20\", \"4/25/20\", \"4/26/20\", \"4/27/20\", \"4/28/20\", \"4/29/20\", \"4/30/20\", \"5/1/20\", \"5/2/20\", \"5/3/20\", \"5/4/20\", \"5/5/20\", \"5/6/20\", \"5/7/20\", \"5/8/20\", \"5/9/20\", \"5/10/20\", \"5/11/20\", \"5/12/20\", \"5/13/20\", \"5/14/20\", \"5/15/20\", \"5/16/20\", \"5/17/20\", \"5/18/20\", \"5/19/20\", \"5/20/20\", \"5/21/20\", \"5/22/20\", \"5/23/20\", \"5/24/20\", \"5/25/20\", \"5/26/20\", \"5/27/20\", \"5/28/20\", \"5/29/20\", \"5/30/20\", \"5/31/20\", \"6/1/20\", \"6/2/20\", \"6/3/20\", \"6/4/20\", \"6/5/20\", \"6/6/20\", \"6/7/20\", \"6/8/20\", \"6/9/20\", \"6/10/20\", \"6/11/20\", \"6/12/20\", \"6/13/20\", \"6/14/20\", \"6/15/20\", \"6/16/20\", \"6/17/20\", \"6/18/20\", \"6/19/20\", \"6/20/20\", \"6/21/20\", \"6/22/20\", \"6/23/20\", \"6/24/20\", \"6/25/20\", \"6/26/20\", \"6/27/20\", \"6/28/20\", \"6/29/20\", \"6/30/20\", \"7/1/20\", \"7/2/20\", \"7/3/20\", \"7/4/20\", \"7/5/20\", \"7/6/20\", \"7/7/20\", \"7/8/20\", \"7/9/20\", \"7/10/20\", \"7/11/20\", \"7/12/20\", \"7/13/20\", \"7/14/20\", \"7/15/20\", \"7/16/20\", \"7/17/20\", \"7/18/20\", \"7/19/20\", \"7/20/20\", \"7/21/20\", \"7/22/20\", \"7/23/20\", \"7/24/20\", \"7/25/20\", \"7/26/20\", \"7/27/20\", \"7/28/20\", \"7/29/20\", \"7/30/20\", \"7/31/20\", \"8/1/20\", \"8/2/20\", \"8/3/20\", \"8/4/20\", \"8/5/20\", \"8/6/20\", \"8/7/20\", \"8/8/20\", \"8/9/20\", \"8/10/20\", \"8/11/20\", \"8/12/20\", \"8/13/20\", \"8/14/20\", \"8/15/20\", \"8/16/20\", \"8/17/20\", \"8/18/20\", \"8/19/20\", \"8/20/20\", \"8/21/20\", \"8/22/20\", \"8/23/20\", \"8/24/20\", \"8/25/20\", \"8/26/20\", \"8/27/20\", \"8/28/20\", \"8/29/20\", \"8/30/20\", \"8/31/20\", \"9/1/20\", \"9/2/20\", \"9/3/20\", \"9/4/20\", \"9/5/20\", \"9/6/20\", \"9/7/20\", \"9/8/20\", \"9/9/20\", \"9/10/20\", \"9/11/20\", \"9/12/20\", \"9/13/20\", \"9/14/20\", \"9/15/20\", \"9/16/20\", \"9/17/20\", \"9/18/20\", \"9/19/20\", \"9/20/20\", \"9/21/20\", \"9/22/20\", \"9/23/20\", \"9/24/20\", \"9/25/20\", \"9/26/20\", \"9/27/20\", \"9/28/20\", \"9/29/20\", \"9/30/20\", \"10/1/20\", \"10/2/20\", \"10/3/20\", \"10/4/20\", \"10/5/20\", \"10/6/20\", \"10/7/20\", \"10/8/20\", \"10/9/20\", \"10/10/20\", \"10/11/20\", \"10/12/20\", \"10/13/20\", \"10/14/20\", \"10/15/20\", \"10/16/20\", \"10/17/20\", \"10/18/20\", \"10/19/20\", \"10/20/20\", \"10/21/20\", \"10/22/20\", \"10/23/20\", \"10/24/20\", \"10/25/20\", \"10/26/20\", \"10/27/20\", \"10/28/20\", \"10/29/20\", \"10/30/20\", \"10/31/20\", \"11/1/20\", \"11/2/20\", \"11/3/20\", \"11/4/20\", \"11/5/20\"], \"y\": [0, 0, 0, 0, 0, 0, 0, 0, 0, 0, 0, 0, 0, 0, 0, 0, 0, 0, 0, 0, 0, 0, 0, 0, 0, 0, 0, 0, 0, 0, 0, 0, 0, 0, 0, 0, 0, 0, 0, 0, 0, 0, 0, 0, 0, 0, 0, 0, 0, 1, 1, 2, 2, 2, 2, 3, 3, 4, 5, 4, 7, 10, 10, 12, 20, 20, 24, 27, 32, 35, 58, 72, 72, 86, 99, 136, 150, 178, 226, 246, 288, 331, 358, 393, 405, 448, 486, 521, 559, 592, 645, 681, 721, 780, 825, 881, 939, 1008, 1079, 1154, 1223, 1323, 1391, 1566, 1693, 1785, 1889, 1985, 2101, 2212, 2294, 2415, 2551, 2649, 2753, 2871, 3025, 3156, 3302, 3434, 3584, 3726, 3868, 4024, 4172, 4344, 4534, 4711, 4980, 5185, 5408, 5608, 5829, 6088, 6363, 6649, 6946, 7207, 7473, 7750, 8102, 8498, 8884, 9195, 9520, 9900, 11903, 12237, 12573, 12948, 13254, 13699, 14011, 14476, 14894, 15301, 15685, 16095, 16475, 16893, 17400, 17834, 18213, 18655, 19268, 19693, 20159, 20642, 21129, 21604, 22123, 22673, 23174, 23727, 24309, 24914, 25602, 26273, 26816, 27497, 28082, 28732, 29861, 30601, 31358, 32060, 32771, 33408, 34193, 34955, 35718, 36511, 37364, 38135, 38938, 39795, 40699, 41585, 42518, 43379, 44386, 45257, 46091, 47033, 48040, 49036, 49980, 50921, 51797, 52888, 53866, 54849, 55794, 56706, 57542, 58390, 59357, 60472, 61529, 62550, 63498, 64469, 65288, 66333, 67376, 68472, 69561, 70626, 71642, 72775, 73890, 75062, 76271, 77472, 78586, 79722, 80776, 82066, 83198, 84372, 85619, 86752, 87882, 88935, 90020, 91149, 92290, 93379, 94503, 95542, 96318, 97497, 98678, 99773, 100842, 101782, 102685, 103569, 104555, 105526, 106490, 107416, 108334, 109150, 109856, 110586, 111266, 112161, 112998, 114031, 114610, 115197, 115914, 116616, 117306, 117956, 118534, 119014, 119502, 120010, 120527, 121090, 121641, 122111, 122607, 123097, 123611, 124315, 124985]}, {\"connectgaps\": true, \"line\": {\"color\": \"#FB0D0D\", \"width\": 2}, \"name\": \"Susceptible\", \"type\": \"scatter\", \"x\": [\"1/22/20\", \"1/23/20\", \"1/24/20\", \"1/25/20\", \"1/26/20\", \"1/27/20\", \"1/28/20\", \"1/29/20\", \"1/30/20\", \"1/31/20\", \"2/1/20\", \"2/2/20\", \"2/3/20\", \"2/4/20\", \"2/5/20\", \"2/6/20\", \"2/7/20\", \"2/8/20\", \"2/9/20\", \"2/10/20\", \"2/11/20\", \"2/12/20\", \"2/13/20\", \"2/14/20\", \"2/15/20\", \"2/16/20\", \"2/17/20\", \"2/18/20\", \"2/19/20\", \"2/20/20\", \"2/21/20\", \"2/22/20\", \"2/23/20\", \"2/24/20\", \"2/25/20\", \"2/26/20\", \"2/27/20\", \"2/28/20\", \"2/29/20\", \"3/1/20\", \"3/2/20\", \"3/3/20\", \"3/4/20\", \"3/5/20\", \"3/6/20\", \"3/7/20\", \"3/8/20\", \"3/9/20\", \"3/10/20\", \"3/11/20\", \"3/12/20\", \"3/13/20\", \"3/14/20\", \"3/15/20\", \"3/16/20\", \"3/17/20\", \"3/18/20\", \"3/19/20\", \"3/20/20\", \"3/21/20\", \"3/22/20\", \"3/23/20\", \"3/24/20\", \"3/25/20\", \"3/26/20\", \"3/27/20\", \"3/28/20\", \"3/29/20\", \"3/30/20\", \"3/31/20\", \"4/1/20\", \"4/2/20\", \"4/3/20\", \"4/4/20\", \"4/5/20\", \"4/6/20\", \"4/7/20\", \"4/8/20\", \"4/9/20\", \"4/10/20\", \"4/11/20\", \"4/12/20\", \"4/13/20\", \"4/14/20\", \"4/15/20\", \"4/16/20\", \"4/17/20\", \"4/18/20\", \"4/19/20\", \"4/20/20\", \"4/21/20\", \"4/22/20\", \"4/23/20\", \"4/24/20\", \"4/25/20\", \"4/26/20\", \"4/27/20\", \"4/28/20\", \"4/29/20\", \"4/30/20\", \"5/1/20\", \"5/2/20\", \"5/3/20\", \"5/4/20\", \"5/5/20\", \"5/6/20\", \"5/7/20\", \"5/8/20\", \"5/9/20\", \"5/10/20\", \"5/11/20\", \"5/12/20\", \"5/13/20\", \"5/14/20\", \"5/15/20\", \"5/16/20\", \"5/17/20\", \"5/18/20\", \"5/19/20\", \"5/20/20\", \"5/21/20\", \"5/22/20\", \"5/23/20\", \"5/24/20\", \"5/25/20\", \"5/26/20\", \"5/27/20\", \"5/28/20\", \"5/29/20\", \"5/30/20\", \"5/31/20\", \"6/1/20\", \"6/2/20\", \"6/3/20\", \"6/4/20\", \"6/5/20\", \"6/6/20\", \"6/7/20\", \"6/8/20\", \"6/9/20\", \"6/10/20\", \"6/11/20\", \"6/12/20\", \"6/13/20\", \"6/14/20\", \"6/15/20\", \"6/16/20\", \"6/17/20\", \"6/18/20\", \"6/19/20\", \"6/20/20\", \"6/21/20\", \"6/22/20\", \"6/23/20\", \"6/24/20\", \"6/25/20\", \"6/26/20\", \"6/27/20\", \"6/28/20\", \"6/29/20\", \"6/30/20\", \"7/1/20\", \"7/2/20\", \"7/3/20\", \"7/4/20\", \"7/5/20\", \"7/6/20\", \"7/7/20\", \"7/8/20\", \"7/9/20\", \"7/10/20\", \"7/11/20\", \"7/12/20\", \"7/13/20\", \"7/14/20\", \"7/15/20\", \"7/16/20\", \"7/17/20\", \"7/18/20\", \"7/19/20\", \"7/20/20\", \"7/21/20\", \"7/22/20\", \"7/23/20\", \"7/24/20\", \"7/25/20\", \"7/26/20\", \"7/27/20\", \"7/28/20\", \"7/29/20\", \"7/30/20\", \"7/31/20\", \"8/1/20\", \"8/2/20\", \"8/3/20\", \"8/4/20\", \"8/5/20\", \"8/6/20\", \"8/7/20\", \"8/8/20\", \"8/9/20\", \"8/10/20\", \"8/11/20\", \"8/12/20\", \"8/13/20\", \"8/14/20\", \"8/15/20\", \"8/16/20\", \"8/17/20\", \"8/18/20\", \"8/19/20\", \"8/20/20\", \"8/21/20\", \"8/22/20\", \"8/23/20\", \"8/24/20\", \"8/25/20\", \"8/26/20\", \"8/27/20\", \"8/28/20\", \"8/29/20\", \"8/30/20\", \"8/31/20\", \"9/1/20\", \"9/2/20\", \"9/3/20\", \"9/4/20\", \"9/5/20\", \"9/6/20\", \"9/7/20\", \"9/8/20\", \"9/9/20\", \"9/10/20\", \"9/11/20\", \"9/12/20\", \"9/13/20\", \"9/14/20\", \"9/15/20\", \"9/16/20\", \"9/17/20\", \"9/18/20\", \"9/19/20\", \"9/20/20\", \"9/21/20\", \"9/22/20\", \"9/23/20\", \"9/24/20\", \"9/25/20\", \"9/26/20\", \"9/27/20\", \"9/28/20\", \"9/29/20\", \"9/30/20\", \"10/1/20\", \"10/2/20\", \"10/3/20\", \"10/4/20\", \"10/5/20\", \"10/6/20\", \"10/7/20\", \"10/8/20\", \"10/9/20\", \"10/10/20\", \"10/11/20\", \"10/12/20\", \"10/13/20\", \"10/14/20\", \"10/15/20\", \"10/16/20\", \"10/17/20\", \"10/18/20\", \"10/19/20\", \"10/20/20\", \"10/21/20\", \"10/22/20\", \"10/23/20\", \"10/24/20\", \"10/25/20\", \"10/26/20\", \"10/27/20\", \"10/28/20\", \"10/29/20\", \"10/30/20\", \"10/31/20\", \"11/1/20\", \"11/2/20\", \"11/3/20\", \"11/4/20\", \"11/5/20\"], \"y\": [100000.0, 9.80372303245492e-08, 8.084577531227221e-07, -4.017332403156917e-07, -1.2161985317734463e-06, -9.882800487446296e-07, 7.191007494357745e-07, 9.279645034293051e-07, 2.656140712075837e-07, -1.4340640939638456e-07, -2.5338723053209914e-07, 4.174685880026327e-07, 1.4592751997674797e-06, 1.3347752293916466e-06, -7.098726802883061e-07, -2.870464592201151e-07, 9.739269369516161e-08, 7.885382016254794e-07, 6.113918184123893e-07, -1.14332988045882e-07, -2.8944974722780726e-07, -4.166102471100285e-07, 4.795848686086165e-07, 6.477637352490097e-07, 9.0228217887527e-07, -1.005425268282629e-06, -1.0645934215703133e-06, 3.807569765839907e-08, 8.827597151872957e-07, 9.764664968431882e-07, -3.7454375554552244e-07, -5.729925351165356e-07, -8.078293162541041e-07, 5.242228628165668e-07, 5.868856268093952e-07, 3.762073677098185e-07, -2.585802764047805e-07, -3.724659147879697e-07, 3.0605138344253507e-07, 8.033239448710888e-07, 1.5138530845687592e-06, 2.678271564119634e-07, -2.995597671868538e-07, 3.446259898722421e-08, 5.7987319248083e-07, 6.392614610403386e-07, -2.7843335559285184e-07, -1.3760136550612033e-07, -4.533321157625417e-07, 3.609260048415838e-07, 6.602883907228243e-07, 1.299901310961859e-07, -9.212274073503082e-07, -1.136573857504903e-06, 1.4313121084291412e-07, 7.656680505810335e-07, 9.455160422012727e-07, -3.401127253723303e-07, -5.710570267692979e-07, -1.7894480060136733e-07, 3.6005611371744193e-07, 1.4854200783461273e-06, 4.02004566406119e-07, -1.9257511485896193e-07, -1.4667073475207666e-06, 2.225440071124162e-07, 8.498093704859834e-07, 1.7298257037953374e-06, 4.7094315195243874e-07, -8.450996356138727e-07, -2.958768625738209e-08, 5.616137599815289e-07, 8.072332559858372e-07, -1.443112192314674e-07, -3.9723515256655357e-07, -4.671805446672664e-07, 1.1099465689061106e-07, 6.65196241891478e-07, 1.9046106983452893e-07, 1.9024004622281805e-07, -1.1927478380583745e-06, -5.172440130574813e-07, 6.591460717697898e-07, 1.0177563010800361e-06, 3.638129604324813e-08, -5.627574981504042e-07, -3.1642883300190184e-07, 1.069868915854231e-07, 1.3919049728239062e-06, 1.9318862251303867e-08, -1.1334973819834488e-07, -3.3787038070084766e-07, 1.1513692617191474e-07, 7.849544901600064e-07, 5.420495355909417e-07, 6.64836557150071e-07, -3.688201945439209e-07, -7.232512691224772e-08, 4.905371272182786e-07, 1.7107255580061843e-06, -4.34340791419455e-08, -9.146284397232021e-07, -4.494405061394776e-07, -1.459715589652507e-08, 1.0250739200711048e-06, 2.6109377526609233e-07, -3.5499051764123105e-07, -1.2612649605060398e-06, -6.896045293515436e-07, 5.896123274687764e-07, 1.0544201954800482e-06, 3.6126472133670636e-07, -5.847146207741722e-07, -3.647458633681755e-07, 2.758527657116456e-07, 1.3041798665301854e-06, 1.3751829814814247e-06, -2.4449716954885506e-08, -3.292964806934738e-07, -9.807019242911097e-07, 7.133290060269282e-07, 7.39418716448864e-07, 9.525817496453195e-07, -2.4882630497925836e-07, -5.491463729327992e-07, 4.042942260125456e-07, 7.33458336897376e-07, 1.395181395483554e-07, -8.542527965144653e-07, -3.560210943931311e-07, -1.1009709609025482e-07, 7.97862405024178e-07, 3.0735192473662956e-07, -3.025877271002327e-07, -5.808552613539103e-07, -8.344067025504128e-07, 3.8167702443258986e-07, 1.0662619500250536e-06, 4.774455336113933e-07, -9.348021629602581e-07, -4.163289254948983e-07, 2.0068145566794012e-07, 1.144597830422319e-06, 1.5490292092065887e-06, -5.593140924219208e-07, -3.105258345598148e-07, -5.8557202808626704e-08, 6.566961373318917e-07, 7.879953033203508e-07, 3.537311658597274e-08, -1.232538873171438e-07, -1.367537298312266e-06, 3.388819899157366e-07, 7.195156257857756e-07, 2.0242281714535923e-06, -7.829618288034392e-07, -1.1149570638666415e-06, -2.108405498940799e-07, 6.653044151153035e-07, 1.1681127485148084e-06, -2.301120295402044e-07, -5.828673842368043e-07, -1.0167439036196993e-06, 1.8470685808176515e-07, 7.082370764703783e-07, 5.7155465677247e-07, -1.5366570032913243e-07, -4.83669947335197e-07, 1.2101721695978443e-07, 7.020166420609203e-07, 1.656289119307961e-06, 3.3146247589742935e-07, -2.6945874564730245e-07, -1.1771532406825905e-07, 8.657331574573143e-08, 8.294956079836206e-07, 3.5404092152174055e-08, 8.30871522627298e-08, -5.020224042035966e-07, 9.303072044434051e-08, 6.90648537875165e-07, 3.245581586696499e-07, -6.845665642173584e-07, -1.1531258288849107e-06, -1.368133298386097e-08, 5.558778768294873e-07, 1.8392064667711827e-06, -1.784844964936537e-07, -5.61340410621919e-07, -1.0743163303568327e-06, -1.4594511218747773e-08, 1.2657604696814345e-06, 6.910510170230231e-07, -5.856971450388825e-08, -1.4280811569567504e-06, 1.9940126703386733e-08, 7.323874075893208e-07, 1.7433788537244744e-06, 7.628360388791575e-07, -8.43884307560342e-07, -1.532804036251798e-07, 4.1512612940428234e-07, 8.878099320047669e-07, 1.293420236467349e-07, 3.8102452934128966e-07, -4.7521979121523576e-07, -8.637973044540186e-07, 6.442623163091052e-07, 3.941636150748647e-07, 1.0084947979531016e-06, -1.1711149672947218e-06, -7.675112212836351e-07, 4.112922370717984e-07, 1.0772237245403032e-06, 4.156426271812549e-07, -5.339787423061398e-07, -4.4835443502117213e-07, -2.369553067743917e-07, 1.1395734797451276e-06, 2.398530151048106e-07, 2.2631450374203013e-08, -4.396287073495286e-07, -3.506413843997382e-08, 6.474522937206607e-07, 1.7046162928123855e-06, 9.87328463474257e-07, -7.571793656140853e-07, -1.798920699925927e-07, 3.2019776357765535e-07, 1.3221868293640543e-06, 2.6615183958177525e-07, -7.069813036322496e-07, -4.123010540203043e-07, -2.166822969929199e-07, 8.237611704603491e-07, 4.36456820516088e-07, -2.0588373867079482e-07, -1.1988019747446347e-06, -8.916038185672792e-07, 3.2202506799884585e-07, 1.0463499765790693e-06, 1.8695840154799155e-06, -4.913650514784311e-07, -4.880479359908926e-07, -7.392326286009636e-07, 9.696870030805505e-07, 1.5526456398083248e-06, 1.3899166787942848e-07, -3.2941651873695357e-07, -1.2100056338711317e-06, 5.579391540916946e-07, 8.784653127277631e-07, 1.2519189658613862e-06, -5.2510606982157426e-08, -6.97216935451131e-07, 2.53737420948311e-07, 9.765720279613186e-07, 3.24331899501555e-07, -6.230167875261464e-07, -2.3314457632308532e-07, -3.0153147798352885e-07, 2.465178236785336e-07, 4.7452188378817415e-07, -1.214117179508893e-07, -2.2677419672009075e-07, -1.0202514926299672e-06, 3.2205597531431076e-08, 9.926619925735536e-07, 6.899071622502564e-07, -6.170077502591327e-07, -5.098584600522806e-07, 2.2033745115386718e-09, 8.076579802720387e-07, 1.616420100442102e-06, 1.6141278949814714e-07, -2.8531470346499474e-07, -6.652160988282108e-07, 4.7156228304010705e-07, 8.85002290867887e-07, 1.6046301493102473e-06, 1.308010124743636e-07, -1.3220064444259308e-06, 1.7554220354223083e-07, 6.943377797503033e-07, 2.037473914864821e-06, -5.260785223656158e-07, -1.0951766451283325e-06, -3.5591018765141075e-07, 4.2887828934426823e-07]}, {\"connectgaps\": true, \"line\": {\"color\": \"#750D86\", \"width\": 2}, \"name\": \"Infected\", \"type\": \"scatter\", \"x\": [\"1/22/20\", \"1/23/20\", \"1/24/20\", \"1/25/20\", \"1/26/20\", \"1/27/20\", \"1/28/20\", \"1/29/20\", \"1/30/20\", \"1/31/20\", \"2/1/20\", \"2/2/20\", \"2/3/20\", \"2/4/20\", \"2/5/20\", \"2/6/20\", \"2/7/20\", \"2/8/20\", \"2/9/20\", \"2/10/20\", \"2/11/20\", \"2/12/20\", \"2/13/20\", \"2/14/20\", \"2/15/20\", \"2/16/20\", \"2/17/20\", \"2/18/20\", \"2/19/20\", \"2/20/20\", \"2/21/20\", \"2/22/20\", \"2/23/20\", \"2/24/20\", \"2/25/20\", \"2/26/20\", \"2/27/20\", \"2/28/20\", \"2/29/20\", \"3/1/20\", \"3/2/20\", \"3/3/20\", \"3/4/20\", \"3/5/20\", \"3/6/20\", \"3/7/20\", \"3/8/20\", \"3/9/20\", \"3/10/20\", \"3/11/20\", \"3/12/20\", \"3/13/20\", \"3/14/20\", \"3/15/20\", \"3/16/20\", \"3/17/20\", \"3/18/20\", \"3/19/20\", \"3/20/20\", \"3/21/20\", \"3/22/20\", \"3/23/20\", \"3/24/20\", \"3/25/20\", \"3/26/20\", \"3/27/20\", \"3/28/20\", \"3/29/20\", \"3/30/20\", \"3/31/20\", \"4/1/20\", \"4/2/20\", \"4/3/20\", \"4/4/20\", \"4/5/20\", \"4/6/20\", \"4/7/20\", \"4/8/20\", \"4/9/20\", \"4/10/20\", \"4/11/20\", \"4/12/20\", \"4/13/20\", \"4/14/20\", \"4/15/20\", \"4/16/20\", \"4/17/20\", \"4/18/20\", \"4/19/20\", \"4/20/20\", \"4/21/20\", \"4/22/20\", \"4/23/20\", \"4/24/20\", \"4/25/20\", \"4/26/20\", \"4/27/20\", \"4/28/20\", \"4/29/20\", \"4/30/20\", \"5/1/20\", \"5/2/20\", \"5/3/20\", \"5/4/20\", \"5/5/20\", \"5/6/20\", \"5/7/20\", \"5/8/20\", \"5/9/20\", \"5/10/20\", \"5/11/20\", \"5/12/20\", \"5/13/20\", \"5/14/20\", \"5/15/20\", \"5/16/20\", \"5/17/20\", \"5/18/20\", \"5/19/20\", \"5/20/20\", \"5/21/20\", \"5/22/20\", \"5/23/20\", \"5/24/20\", \"5/25/20\", \"5/26/20\", \"5/27/20\", \"5/28/20\", \"5/29/20\", \"5/30/20\", \"5/31/20\", \"6/1/20\", \"6/2/20\", \"6/3/20\", \"6/4/20\", \"6/5/20\", \"6/6/20\", \"6/7/20\", \"6/8/20\", \"6/9/20\", \"6/10/20\", \"6/11/20\", \"6/12/20\", \"6/13/20\", \"6/14/20\", \"6/15/20\", \"6/16/20\", \"6/17/20\", \"6/18/20\", \"6/19/20\", \"6/20/20\", \"6/21/20\", \"6/22/20\", \"6/23/20\", \"6/24/20\", \"6/25/20\", \"6/26/20\", \"6/27/20\", \"6/28/20\", \"6/29/20\", \"6/30/20\", \"7/1/20\", \"7/2/20\", \"7/3/20\", \"7/4/20\", \"7/5/20\", \"7/6/20\", \"7/7/20\", \"7/8/20\", \"7/9/20\", \"7/10/20\", \"7/11/20\", \"7/12/20\", \"7/13/20\", \"7/14/20\", \"7/15/20\", \"7/16/20\", \"7/17/20\", \"7/18/20\", \"7/19/20\", \"7/20/20\", \"7/21/20\", \"7/22/20\", \"7/23/20\", \"7/24/20\", \"7/25/20\", \"7/26/20\", \"7/27/20\", \"7/28/20\", \"7/29/20\", \"7/30/20\", \"7/31/20\", \"8/1/20\", \"8/2/20\", \"8/3/20\", \"8/4/20\", \"8/5/20\", \"8/6/20\", \"8/7/20\", \"8/8/20\", \"8/9/20\", \"8/10/20\", \"8/11/20\", \"8/12/20\", \"8/13/20\", \"8/14/20\", \"8/15/20\", \"8/16/20\", \"8/17/20\", \"8/18/20\", \"8/19/20\", \"8/20/20\", \"8/21/20\", \"8/22/20\", \"8/23/20\", \"8/24/20\", \"8/25/20\", \"8/26/20\", \"8/27/20\", \"8/28/20\", \"8/29/20\", \"8/30/20\", \"8/31/20\", \"9/1/20\", \"9/2/20\", \"9/3/20\", \"9/4/20\", \"9/5/20\", \"9/6/20\", \"9/7/20\", \"9/8/20\", \"9/9/20\", \"9/10/20\", \"9/11/20\", \"9/12/20\", \"9/13/20\", \"9/14/20\", \"9/15/20\", \"9/16/20\", \"9/17/20\", \"9/18/20\", \"9/19/20\", \"9/20/20\", \"9/21/20\", \"9/22/20\", \"9/23/20\", \"9/24/20\", \"9/25/20\", \"9/26/20\", \"9/27/20\", \"9/28/20\", \"9/29/20\", \"9/30/20\", \"10/1/20\", \"10/2/20\", \"10/3/20\", \"10/4/20\", \"10/5/20\", \"10/6/20\", \"10/7/20\", \"10/8/20\", \"10/9/20\", \"10/10/20\", \"10/11/20\", \"10/12/20\", \"10/13/20\", \"10/14/20\", \"10/15/20\", \"10/16/20\", \"10/17/20\", \"10/18/20\", \"10/19/20\", \"10/20/20\", \"10/21/20\", \"10/22/20\", \"10/23/20\", \"10/24/20\", \"10/25/20\", \"10/26/20\", \"10/27/20\", \"10/28/20\", \"10/29/20\", \"10/30/20\", \"10/31/20\", \"11/1/20\", \"11/2/20\", \"11/3/20\", \"11/4/20\", \"11/5/20\"], \"y\": [3.0, 100002.99925797261, 100002.9982572322, 100002.99725841239, 100002.9962591969, 100002.99525893905, 100002.99425720172, 100002.99325696292, 100002.99225759534, 100002.99125797444, 100002.9902580545, 100002.98925735375, 100002.98825628207, 100002.9872563767, 100002.98625839148, 100002.98525793881, 100002.98425752456, 100002.98325680358, 100002.9822569509, 100002.98125764681, 100002.98025779212, 100002.97925788946, 100002.97825696347, 100002.97725676552, 100002.97625648123, 100002.97525835918, 100002.9742583886, 100002.97325725618, 100002.97225638173, 100002.9712562583, 100002.97025757967, 100002.96925774842, 100002.96825795357, 100002.96725659186, 100002.96625649952, 100002.96525668056, 100002.96425728571, 100002.96325736996, 100002.96225666182, 100002.96125613495, 100002.96025539479, 100002.9592566112, 100002.958257149, 100002.9572567854, 100002.95625621041, 100002.95525612147, 100002.95425700958, 100002.9532568392, 100002.95225712542, 100002.95125628164, 100002.95025595279, 100002.94925645358, 100002.9482574753, 100002.94725766116, 100002.94625635196, 100002.94525569996, 100002.94425549064, 100002.94325674682, 100002.94225694833, 100002.9412565268, 100002.94025595837, 100002.93925480361, 100002.93825585763, 100002.93725642284, 100002.93625766759, 100002.93525594899, 100002.93425529238, 100002.93325438305, 100002.93225561258, 100002.93125689929, 100002.93025605446, 100002.92925543396, 100002.92825515903, 100002.92725608133, 100002.92625630496, 100002.92525634567, 100002.92425573825, 100002.92325515479, 100002.92225560028, 100002.92125557129, 100002.92025692505, 100002.91925622034, 100002.91825501477, 100002.91725462698, 100002.91625557918, 100002.91525614916, 100002.9142558737, 100002.91325542112, 100002.91225410711, 100002.91125545056, 100002.91025555412, 100002.90925574955, 100002.90825526745, 100002.90725456856, 100002.90625478243, 100002.9052546306, 100002.90425563519, 100002.90325530965, 100002.90225471776, 100002.90125346858, 100002.90025519372, 100002.8992560359, 100002.89825554173, 100002.89725507789, 100002.89625400926, 100002.89525474428, 100002.89425533143, 100002.89325620877, 100002.89225560818, 100002.89125430005, 100002.89025380636, 100002.88925447063, 100002.88825538773, 100002.88725513888, 100002.8862544694, 100002.88525341223, 100002.8842533124, 100002.8832546832, 100002.88225495919, 100002.88125558177, 100002.88025385892, 100002.87925380403, 100002.8782535621, 100002.87725473472, 100002.8762550063, 100002.87525402408, 100002.87425366619, 100002.87325423141, 100002.87225519646, 100002.87125466953, 100002.8702543949, 100002.86925345822, 100002.86825392005, 100002.86725450134, 100002.86625475094, 100002.86525497583, 100002.86425373107, 100002.86325301784, 100002.86225357802, 100002.86125496165, 100002.86025441458, 100002.85925376898, 100002.85825279649, 100002.85725236348, 100002.85625444325, 100002.85525416593, 100002.85425388542, 100002.85325314164, 100002.8522529818, 100002.8512537059, 100002.85025383605, 100002.84925505184, 100002.84825331693, 100002.84725290778, 100002.8462515746, 100002.84525435332, 100002.84425465687, 100002.84325372434, 100002.84225281976, 100002.84125228855, 100002.84025365837, 100002.83925398275, 100002.83825438825, 100002.83725315842, 100002.83625260655, 100002.83525271487, 100002.83425341173, 100002.8332537134, 100002.8322530804, 100002.8312524711, 100002.8302514885, 100002.82925278501, 100002.82825335763, 100002.82725317759, 100002.82625294504, 100002.82525217388, 100002.82425293974, 100002.82325286383, 100002.82225342072, 100002.82125279744, 100002.82025217164, 100002.81925250955, 100002.81825349048, 100002.81725393086, 100002.81625276324, 100002.81525216554, 100002.81425085408, 100002.81325284363, 100002.81225319832, 100002.81125368319, 100002.81025259534, 100002.80925128688, 100002.80825183351, 100002.80725255507, 100002.80625389653, 100002.80525242045, 100002.80425167998, 100002.80325064097, 100002.80225159347, 100002.8012531722, 100002.8002524536, 100002.79925185717, 100002.79825135651, 100002.79725208701, 100002.79625180738, 100002.79525263564, 100002.79425299625, 100002.79325146024, 100002.7922516824, 100002.79125104017, 100002.79025319187, 100002.78925276038, 100002.7882515537, 100002.78725085991, 100002.78625149361, 100002.7852524154, 100002.78425230194, 100002.7832520627, 100002.78225065833, 100002.78125153024, 100002.78025171967, 100002.77925215414, 100002.7782517218, 100002.77725101146, 100002.77624992654, 100002.77525061606, 100002.7742523328, 100002.77325172779, 100002.77225119997, 100002.77125017029, 100002.77025119863, 100002.76925214408, 100002.76825182172, 100002.76725159843, 100002.76625053033, 100002.76525088998, 100002.76425150465, 100002.76325246994, 100002.76225213514, 100002.7612508939, 100002.76025014195, 100002.75924929109, 100002.75825162444, 100002.75725159355, 100002.75625181718, 100002.75525008069, 100002.7542494702, 100002.75325085635, 100002.75225129724, 100002.7512521503, 100002.75025035487, 100002.74925000686, 100002.74824960591, 100002.74725088285, 100002.7462515001, 100002.74525052171, 100002.74424977142, 100002.74325039622, 100002.74225131611, 100002.74125089882, 100002.7402509398, 100002.73925036434, 100002.73825010896, 100002.73725067753, 100002.73625075554, 100002.73525152166, 100002.73425044188, 100002.73324945409, 100002.73224972952, 100002.73125100914, 100002.73025087468, 100002.7292503353, 100002.72824950257, 100002.72724866655, 100002.7262500943, 100002.72525051374, 100002.72425086638, 100002.72324970235, 100002.72224926167, 100002.72124851485, 100002.72024996147, 100002.7192513871, 100002.71824986237, 100002.71724931641, 100002.7162479461, 100002.71525048252, 100002.71425102449, 100002.71325025808, 100002.71224944615]}, {\"connectgaps\": true, \"line\": {\"color\": \"#862A16\", \"width\": 2}, \"name\": \"Recovered\", \"type\": \"scatter\", \"x\": [\"1/22/20\", \"1/23/20\", \"1/24/20\", \"1/25/20\", \"1/26/20\", \"1/27/20\", \"1/28/20\", \"1/29/20\", \"1/30/20\", \"1/31/20\", \"2/1/20\", \"2/2/20\", \"2/3/20\", \"2/4/20\", \"2/5/20\", \"2/6/20\", \"2/7/20\", \"2/8/20\", \"2/9/20\", \"2/10/20\", \"2/11/20\", \"2/12/20\", \"2/13/20\", \"2/14/20\", \"2/15/20\", \"2/16/20\", \"2/17/20\", \"2/18/20\", \"2/19/20\", \"2/20/20\", \"2/21/20\", \"2/22/20\", \"2/23/20\", \"2/24/20\", \"2/25/20\", \"2/26/20\", \"2/27/20\", \"2/28/20\", \"2/29/20\", \"3/1/20\", \"3/2/20\", \"3/3/20\", \"3/4/20\", \"3/5/20\", \"3/6/20\", \"3/7/20\", \"3/8/20\", \"3/9/20\", \"3/10/20\", \"3/11/20\", \"3/12/20\", \"3/13/20\", \"3/14/20\", \"3/15/20\", \"3/16/20\", \"3/17/20\", \"3/18/20\", \"3/19/20\", \"3/20/20\", \"3/21/20\", \"3/22/20\", \"3/23/20\", \"3/24/20\", \"3/25/20\", \"3/26/20\", \"3/27/20\", \"3/28/20\", \"3/29/20\", \"3/30/20\", \"3/31/20\", \"4/1/20\", \"4/2/20\", \"4/3/20\", \"4/4/20\", \"4/5/20\", \"4/6/20\", \"4/7/20\", \"4/8/20\", \"4/9/20\", \"4/10/20\", \"4/11/20\", \"4/12/20\", \"4/13/20\", \"4/14/20\", \"4/15/20\", \"4/16/20\", \"4/17/20\", \"4/18/20\", \"4/19/20\", \"4/20/20\", \"4/21/20\", \"4/22/20\", \"4/23/20\", \"4/24/20\", \"4/25/20\", \"4/26/20\", \"4/27/20\", \"4/28/20\", \"4/29/20\", \"4/30/20\", \"5/1/20\", \"5/2/20\", \"5/3/20\", \"5/4/20\", \"5/5/20\", \"5/6/20\", \"5/7/20\", \"5/8/20\", \"5/9/20\", \"5/10/20\", \"5/11/20\", \"5/12/20\", \"5/13/20\", \"5/14/20\", \"5/15/20\", \"5/16/20\", \"5/17/20\", \"5/18/20\", \"5/19/20\", \"5/20/20\", \"5/21/20\", \"5/22/20\", \"5/23/20\", \"5/24/20\", \"5/25/20\", \"5/26/20\", \"5/27/20\", \"5/28/20\", \"5/29/20\", \"5/30/20\", \"5/31/20\", \"6/1/20\", \"6/2/20\", \"6/3/20\", \"6/4/20\", \"6/5/20\", \"6/6/20\", \"6/7/20\", \"6/8/20\", \"6/9/20\", \"6/10/20\", \"6/11/20\", \"6/12/20\", \"6/13/20\", \"6/14/20\", \"6/15/20\", \"6/16/20\", \"6/17/20\", \"6/18/20\", \"6/19/20\", \"6/20/20\", \"6/21/20\", \"6/22/20\", \"6/23/20\", \"6/24/20\", \"6/25/20\", \"6/26/20\", \"6/27/20\", \"6/28/20\", \"6/29/20\", \"6/30/20\", \"7/1/20\", \"7/2/20\", \"7/3/20\", \"7/4/20\", \"7/5/20\", \"7/6/20\", \"7/7/20\", \"7/8/20\", \"7/9/20\", \"7/10/20\", \"7/11/20\", \"7/12/20\", \"7/13/20\", \"7/14/20\", \"7/15/20\", \"7/16/20\", \"7/17/20\", \"7/18/20\", \"7/19/20\", \"7/20/20\", \"7/21/20\", \"7/22/20\", \"7/23/20\", \"7/24/20\", \"7/25/20\", \"7/26/20\", \"7/27/20\", \"7/28/20\", \"7/29/20\", \"7/30/20\", \"7/31/20\", \"8/1/20\", \"8/2/20\", \"8/3/20\", \"8/4/20\", \"8/5/20\", \"8/6/20\", \"8/7/20\", \"8/8/20\", \"8/9/20\", \"8/10/20\", \"8/11/20\", \"8/12/20\", \"8/13/20\", \"8/14/20\", \"8/15/20\", \"8/16/20\", \"8/17/20\", \"8/18/20\", \"8/19/20\", \"8/20/20\", \"8/21/20\", \"8/22/20\", \"8/23/20\", \"8/24/20\", \"8/25/20\", \"8/26/20\", \"8/27/20\", \"8/28/20\", \"8/29/20\", \"8/30/20\", \"8/31/20\", \"9/1/20\", \"9/2/20\", \"9/3/20\", \"9/4/20\", \"9/5/20\", \"9/6/20\", \"9/7/20\", \"9/8/20\", \"9/9/20\", \"9/10/20\", \"9/11/20\", \"9/12/20\", \"9/13/20\", \"9/14/20\", \"9/15/20\", \"9/16/20\", \"9/17/20\", \"9/18/20\", \"9/19/20\", \"9/20/20\", \"9/21/20\", \"9/22/20\", \"9/23/20\", \"9/24/20\", \"9/25/20\", \"9/26/20\", \"9/27/20\", \"9/28/20\", \"9/29/20\", \"9/30/20\", \"10/1/20\", \"10/2/20\", \"10/3/20\", \"10/4/20\", \"10/5/20\", \"10/6/20\", \"10/7/20\", \"10/8/20\", \"10/9/20\", \"10/10/20\", \"10/11/20\", \"10/12/20\", \"10/13/20\", \"10/14/20\", \"10/15/20\", \"10/16/20\", \"10/17/20\", \"10/18/20\", \"10/19/20\", \"10/20/20\", \"10/21/20\", \"10/22/20\", \"10/23/20\", \"10/24/20\", \"10/25/20\", \"10/26/20\", \"10/27/20\", \"10/28/20\", \"10/29/20\", \"10/30/20\", \"10/31/20\", \"11/1/20\", \"11/2/20\", \"11/3/20\", \"11/4/20\", \"11/5/20\"], \"y\": [10.0, 10.0007419293483, 10.001741959335881, 10.002741989313462, 10.003742019281042, 10.00474204923862, 10.0057420791862, 10.00674210912378, 10.007742139051357, 10.008742168968935, 10.009742198876515, 10.010742228774093, 10.011742258661672, 10.012742288539245, 10.01374231840682, 10.014742348264397, 10.015742378111975, 10.016742407949547, 10.017742437777125, 10.018742467594702, 10.019742497402273, 10.020742527199847, 10.021742556987423, 10.022742586764997, 10.023742616532571, 10.024742646290141, 10.025742676037716, 10.02674270577529, 10.027742735502862, 10.028742765220434, 10.029742794928005, 10.030742824625577, 10.03174285431315, 10.03274288399072, 10.033742913658289, 10.03474294331586, 10.03574297296343, 10.036743002600998, 10.03774303222857, 10.038743061846137, 10.039743091453708, 10.040743121051278, 10.041743150638847, 10.042743180216416, 10.043743209783983, 10.044743239341553, 10.04574326888912, 10.046743298426689, 10.047743327954255, 10.048743357471821, 10.049743386979388, 10.050743416476957, 10.051743445964522, 10.052743475442089, 10.053743504909656, 10.05474353436722, 10.055743563814783, 10.056743593252346, 10.05774362267991, 10.058743652097473, 10.059743681505033, 10.060743710902594, 10.061743740290156, 10.062743769667717, 10.06374379903528, 10.064743828392839, 10.065743857740403, 10.066743887077962, 10.067743916405524, 10.068743945723085, 10.069743975030647, 10.070744004328208, 10.071744033615769, 10.072744062893326, 10.073744092160883, 10.07474412141844, 10.075744150666, 10.076744179903558, 10.077744209131117, 10.078744238348676, 10.079744267556237, 10.080744296753794, 10.081744325941353, 10.082744355118912, 10.083744384286472, 10.084744413444028, 10.085744442591585, 10.086744471729139, 10.087744500856697, 10.088744529974255, 10.089744559081808, 10.090744588179366, 10.091744617266919, 10.092744646344471, 10.093744675412024, 10.094744704469575, 10.095744733517128, 10.096744762554676, 10.09774479158223, 10.098744820599782, 10.099744849607331, 10.100744878604885, 10.101744907592435, 10.102744936569982, 10.103744965537533, 10.104744994495087, 10.105745023442639, 10.106745052380187, 10.107745081307735, 10.108745110225284, 10.109745139132837, 10.110745168030384, 10.11174519691793, 10.112745225795479, 10.113745254663026, 10.114745283520573, 10.115745312368125, 10.116745341205672, 10.117745370033216, 10.118745398850761, 10.119745427658305, 10.120745456455852, 10.121745485243398, 10.12274551402094, 10.123745542788482, 10.124745571546027, 10.125745600293573, 10.126745629031118, 10.12774565775866, 10.128745686476204, 10.129745715183747, 10.13074574388129, 10.131745772568834, 10.132745801246378, 10.133745829913916, 10.134745858571456, 10.135745887218999, 10.136745915856542, 10.137745944484081, 10.138745973101623, 10.139746001709165, 10.140746030306707, 10.141746058894245, 10.142746087471785, 10.143746116039324, 10.144746144596866, 10.145746173144403, 10.14674620168194, 10.14774623020948, 10.148746258727016, 10.149746287234555, 10.150746315732093, 10.151746344219628, 10.152746372697166, 10.153746401164701, 10.15474642962224, 10.155746458069776, 10.156746486507311, 10.157746514934844, 10.15874654335238, 10.159746571759914, 10.160746600157445, 10.161746628544977, 10.162746656922511, 10.163746685290045, 10.164746713647578, 10.16574674199511, 10.166746770332644, 10.167746798660176, 10.168746826977706, 10.169746855285238, 10.170746883582769, 10.171746911870299, 10.172746940147832, 10.173746968415367, 10.174746996672896, 10.175747024920424, 10.176747053157952, 10.177747081385482, 10.178747109603014, 10.179747137810542, 10.180747166008073, 10.181747194195598, 10.182747222373127, 10.183747250540653, 10.184747278698179, 10.185747306845704, 10.186747334983231, 10.187747363110754, 10.188747391228278, 10.189747419335804, 10.190747447433335, 10.19174747552086, 10.192747503598383, 10.193747531665908, 10.194747559723433, 10.195747587770958, 10.196747615808484, 10.197747643836006, 10.19874767185353, 10.199747699861051, 10.200747727858573, 10.201747755846096, 10.202747783823618, 10.203747811791136, 10.204747839748656, 10.205747867696173, 10.206747895633697, 10.20774792356122, 10.20874795147874, 10.209747979386261, 10.210748007283781, 10.2117480351713, 10.21274806304882, 10.21374809091634, 10.21474811877386, 10.215748146621381, 10.2167481744589, 10.217748202286417, 10.218748230103934, 10.219748257911453, 10.220748285708966, 10.221748313496482, 10.222748341273997, 10.22374836904151, 10.22474839679903, 10.22574842454655, 10.226748452284065, 10.22774848001158, 10.228748507729094, 10.22974853543661, 10.230748563134123, 10.231748590821637, 10.23274861849915, 10.233748646166667, 10.234748673824178, 10.235748701471692, 10.236748729109204, 10.237748756736716, 10.238748784354227, 10.239748811961736, 10.240748839559242, 10.241748867146752, 10.242748894724263, 10.243748922291774, 10.244748949849285, 10.245748977396797, 10.246749004934307, 10.247749032461819, 10.248749059979327, 10.249749087486835, 10.250749114984348, 10.251749142471855, 10.252749169949366, 10.253749197416873, 10.254749224874379, 10.255749252321886, 10.25674927975939, 10.257749307186895, 10.2587493346044, 10.259749362011908, 10.260749389409417, 10.261749416796922, 10.262749444174426, 10.263749471541932, 10.264749498899437, 10.265749526246942, 10.266749553584447, 10.26774958091195, 10.268749608229456, 10.269749635536959, 10.270749662834461, 10.271749690121965, 10.272749717399467, 10.273749744666965, 10.274749771924466, 10.275749799171964, 10.276749826409466, 10.27774985363697, 10.278749880854473, 10.279749908061975, 10.280749935259475, 10.281749962446977, 10.282749989624481, 10.283750016791982, 10.284750043949481, 10.285750071096984, 10.286750098234483, 10.287750125361985]}],\n",
              "                        {\"annotations\": [{\"font\": {\"color\": \"rgb(37,37,37)\", \"family\": \"Arial\", \"size\": 16}, \"showarrow\": false, \"text\": \"SIR Model -- Covid-19 Transmission -- Prediction -- India\", \"x\": 0.0, \"xanchor\": \"left\", \"xref\": \"paper\", \"y\": 1.05, \"yanchor\": \"bottom\", \"yref\": \"paper\"}], \"autosize\": false, \"margin\": {\"autoexpand\": true, \"l\": 10, \"r\": 10, \"t\": 10}, \"showlegend\": true, \"template\": {\"data\": {\"bar\": [{\"error_x\": {\"color\": \"#2a3f5f\"}, \"error_y\": {\"color\": \"#2a3f5f\"}, \"marker\": {\"line\": {\"color\": \"#E5ECF6\", \"width\": 0.5}}, \"type\": \"bar\"}], \"barpolar\": [{\"marker\": {\"line\": {\"color\": \"#E5ECF6\", \"width\": 0.5}}, \"type\": \"barpolar\"}], \"carpet\": [{\"aaxis\": {\"endlinecolor\": \"#2a3f5f\", \"gridcolor\": \"white\", \"linecolor\": \"white\", \"minorgridcolor\": \"white\", \"startlinecolor\": \"#2a3f5f\"}, \"baxis\": {\"endlinecolor\": \"#2a3f5f\", \"gridcolor\": \"white\", \"linecolor\": \"white\", \"minorgridcolor\": \"white\", \"startlinecolor\": \"#2a3f5f\"}, \"type\": \"carpet\"}], \"choropleth\": [{\"colorbar\": {\"outlinewidth\": 0, \"ticks\": \"\"}, \"type\": \"choropleth\"}], \"contour\": [{\"colorbar\": {\"outlinewidth\": 0, \"ticks\": \"\"}, \"colorscale\": [[0.0, \"#0d0887\"], [0.1111111111111111, \"#46039f\"], [0.2222222222222222, \"#7201a8\"], [0.3333333333333333, \"#9c179e\"], [0.4444444444444444, \"#bd3786\"], [0.5555555555555556, \"#d8576b\"], [0.6666666666666666, \"#ed7953\"], [0.7777777777777778, \"#fb9f3a\"], [0.8888888888888888, \"#fdca26\"], [1.0, \"#f0f921\"]], \"type\": \"contour\"}], \"contourcarpet\": [{\"colorbar\": {\"outlinewidth\": 0, \"ticks\": \"\"}, \"type\": \"contourcarpet\"}], \"heatmap\": [{\"colorbar\": {\"outlinewidth\": 0, \"ticks\": \"\"}, \"colorscale\": [[0.0, \"#0d0887\"], [0.1111111111111111, \"#46039f\"], [0.2222222222222222, \"#7201a8\"], [0.3333333333333333, \"#9c179e\"], [0.4444444444444444, \"#bd3786\"], [0.5555555555555556, \"#d8576b\"], [0.6666666666666666, \"#ed7953\"], [0.7777777777777778, \"#fb9f3a\"], [0.8888888888888888, \"#fdca26\"], [1.0, \"#f0f921\"]], \"type\": \"heatmap\"}], \"heatmapgl\": [{\"colorbar\": {\"outlinewidth\": 0, \"ticks\": \"\"}, \"colorscale\": [[0.0, \"#0d0887\"], [0.1111111111111111, \"#46039f\"], [0.2222222222222222, \"#7201a8\"], [0.3333333333333333, \"#9c179e\"], [0.4444444444444444, \"#bd3786\"], [0.5555555555555556, \"#d8576b\"], [0.6666666666666666, \"#ed7953\"], [0.7777777777777778, \"#fb9f3a\"], [0.8888888888888888, \"#fdca26\"], [1.0, \"#f0f921\"]], \"type\": \"heatmapgl\"}], \"histogram\": [{\"marker\": {\"colorbar\": {\"outlinewidth\": 0, \"ticks\": \"\"}}, \"type\": \"histogram\"}], \"histogram2d\": [{\"colorbar\": {\"outlinewidth\": 0, \"ticks\": \"\"}, \"colorscale\": [[0.0, \"#0d0887\"], [0.1111111111111111, \"#46039f\"], [0.2222222222222222, \"#7201a8\"], [0.3333333333333333, \"#9c179e\"], [0.4444444444444444, \"#bd3786\"], [0.5555555555555556, \"#d8576b\"], [0.6666666666666666, \"#ed7953\"], [0.7777777777777778, \"#fb9f3a\"], [0.8888888888888888, \"#fdca26\"], [1.0, \"#f0f921\"]], \"type\": \"histogram2d\"}], \"histogram2dcontour\": [{\"colorbar\": {\"outlinewidth\": 0, \"ticks\": \"\"}, \"colorscale\": [[0.0, \"#0d0887\"], [0.1111111111111111, \"#46039f\"], [0.2222222222222222, \"#7201a8\"], [0.3333333333333333, \"#9c179e\"], [0.4444444444444444, \"#bd3786\"], [0.5555555555555556, \"#d8576b\"], [0.6666666666666666, \"#ed7953\"], [0.7777777777777778, \"#fb9f3a\"], [0.8888888888888888, \"#fdca26\"], [1.0, \"#f0f921\"]], \"type\": \"histogram2dcontour\"}], \"mesh3d\": [{\"colorbar\": {\"outlinewidth\": 0, \"ticks\": \"\"}, \"type\": \"mesh3d\"}], \"parcoords\": [{\"line\": {\"colorbar\": {\"outlinewidth\": 0, \"ticks\": \"\"}}, \"type\": \"parcoords\"}], \"pie\": [{\"automargin\": true, \"type\": \"pie\"}], \"scatter\": [{\"marker\": {\"colorbar\": {\"outlinewidth\": 0, \"ticks\": \"\"}}, \"type\": \"scatter\"}], \"scatter3d\": [{\"line\": {\"colorbar\": {\"outlinewidth\": 0, \"ticks\": \"\"}}, \"marker\": {\"colorbar\": {\"outlinewidth\": 0, \"ticks\": \"\"}}, \"type\": \"scatter3d\"}], \"scattercarpet\": [{\"marker\": {\"colorbar\": {\"outlinewidth\": 0, \"ticks\": \"\"}}, \"type\": \"scattercarpet\"}], \"scattergeo\": [{\"marker\": {\"colorbar\": {\"outlinewidth\": 0, \"ticks\": \"\"}}, \"type\": \"scattergeo\"}], \"scattergl\": [{\"marker\": {\"colorbar\": {\"outlinewidth\": 0, \"ticks\": \"\"}}, \"type\": \"scattergl\"}], \"scattermapbox\": [{\"marker\": {\"colorbar\": {\"outlinewidth\": 0, \"ticks\": \"\"}}, \"type\": \"scattermapbox\"}], \"scatterpolar\": [{\"marker\": {\"colorbar\": {\"outlinewidth\": 0, \"ticks\": \"\"}}, \"type\": \"scatterpolar\"}], \"scatterpolargl\": [{\"marker\": {\"colorbar\": {\"outlinewidth\": 0, \"ticks\": \"\"}}, \"type\": \"scatterpolargl\"}], \"scatterternary\": [{\"marker\": {\"colorbar\": {\"outlinewidth\": 0, \"ticks\": \"\"}}, \"type\": \"scatterternary\"}], \"surface\": [{\"colorbar\": {\"outlinewidth\": 0, \"ticks\": \"\"}, \"colorscale\": [[0.0, \"#0d0887\"], [0.1111111111111111, \"#46039f\"], [0.2222222222222222, \"#7201a8\"], [0.3333333333333333, \"#9c179e\"], [0.4444444444444444, \"#bd3786\"], [0.5555555555555556, \"#d8576b\"], [0.6666666666666666, \"#ed7953\"], [0.7777777777777778, \"#fb9f3a\"], [0.8888888888888888, \"#fdca26\"], [1.0, \"#f0f921\"]], \"type\": \"surface\"}], \"table\": [{\"cells\": {\"fill\": {\"color\": \"#EBF0F8\"}, \"line\": {\"color\": \"white\"}}, \"header\": {\"fill\": {\"color\": \"#C8D4E3\"}, \"line\": {\"color\": \"white\"}}, \"type\": \"table\"}]}, \"layout\": {\"annotationdefaults\": {\"arrowcolor\": \"#2a3f5f\", \"arrowhead\": 0, \"arrowwidth\": 1}, \"coloraxis\": {\"colorbar\": {\"outlinewidth\": 0, \"ticks\": \"\"}}, \"colorscale\": {\"diverging\": [[0, \"#8e0152\"], [0.1, \"#c51b7d\"], [0.2, \"#de77ae\"], [0.3, \"#f1b6da\"], [0.4, \"#fde0ef\"], [0.5, \"#f7f7f7\"], [0.6, \"#e6f5d0\"], [0.7, \"#b8e186\"], [0.8, \"#7fbc41\"], [0.9, \"#4d9221\"], [1, \"#276419\"]], \"sequential\": [[0.0, \"#0d0887\"], [0.1111111111111111, \"#46039f\"], [0.2222222222222222, \"#7201a8\"], [0.3333333333333333, \"#9c179e\"], [0.4444444444444444, \"#bd3786\"], [0.5555555555555556, \"#d8576b\"], [0.6666666666666666, \"#ed7953\"], [0.7777777777777778, \"#fb9f3a\"], [0.8888888888888888, \"#fdca26\"], [1.0, \"#f0f921\"]], \"sequentialminus\": [[0.0, \"#0d0887\"], [0.1111111111111111, \"#46039f\"], [0.2222222222222222, \"#7201a8\"], [0.3333333333333333, \"#9c179e\"], [0.4444444444444444, \"#bd3786\"], [0.5555555555555556, \"#d8576b\"], [0.6666666666666666, \"#ed7953\"], [0.7777777777777778, \"#fb9f3a\"], [0.8888888888888888, \"#fdca26\"], [1.0, \"#f0f921\"]]}, \"colorway\": [\"#636efa\", \"#EF553B\", \"#00cc96\", \"#ab63fa\", \"#FFA15A\", \"#19d3f3\", \"#FF6692\", \"#B6E880\", \"#FF97FF\", \"#FECB52\"], \"font\": {\"color\": \"#2a3f5f\"}, \"geo\": {\"bgcolor\": \"white\", \"lakecolor\": \"white\", \"landcolor\": \"#E5ECF6\", \"showlakes\": true, \"showland\": true, \"subunitcolor\": \"white\"}, \"hoverlabel\": {\"align\": \"left\"}, \"hovermode\": \"closest\", \"mapbox\": {\"style\": \"light\"}, \"paper_bgcolor\": \"white\", \"plot_bgcolor\": \"#E5ECF6\", \"polar\": {\"angularaxis\": {\"gridcolor\": \"white\", \"linecolor\": \"white\", \"ticks\": \"\"}, \"bgcolor\": \"#E5ECF6\", \"radialaxis\": {\"gridcolor\": \"white\", \"linecolor\": \"white\", \"ticks\": \"\"}}, \"scene\": {\"xaxis\": {\"backgroundcolor\": \"#E5ECF6\", \"gridcolor\": \"white\", \"gridwidth\": 2, \"linecolor\": \"white\", \"showbackground\": true, \"ticks\": \"\", \"zerolinecolor\": \"white\"}, \"yaxis\": {\"backgroundcolor\": \"#E5ECF6\", \"gridcolor\": \"white\", \"gridwidth\": 2, \"linecolor\": \"white\", \"showbackground\": true, \"ticks\": \"\", \"zerolinecolor\": \"white\"}, \"zaxis\": {\"backgroundcolor\": \"#E5ECF6\", \"gridcolor\": \"white\", \"gridwidth\": 2, \"linecolor\": \"white\", \"showbackground\": true, \"ticks\": \"\", \"zerolinecolor\": \"white\"}}, \"shapedefaults\": {\"line\": {\"color\": \"#2a3f5f\"}}, \"ternary\": {\"aaxis\": {\"gridcolor\": \"white\", \"linecolor\": \"white\", \"ticks\": \"\"}, \"baxis\": {\"gridcolor\": \"white\", \"linecolor\": \"white\", \"ticks\": \"\"}, \"bgcolor\": \"#E5ECF6\", \"caxis\": {\"gridcolor\": \"white\", \"linecolor\": \"white\", \"ticks\": \"\"}}, \"title\": {\"x\": 0.05}, \"xaxis\": {\"automargin\": true, \"gridcolor\": \"white\", \"linecolor\": \"white\", \"ticks\": \"\", \"title\": {\"standoff\": 15}, \"zerolinecolor\": \"white\", \"zerolinewidth\": 2}, \"yaxis\": {\"automargin\": true, \"gridcolor\": \"white\", \"linecolor\": \"white\", \"ticks\": \"\", \"title\": {\"standoff\": 15}, \"zerolinecolor\": \"white\", \"zerolinewidth\": 2}}}, \"xaxis\": {\"linecolor\": \"rgb(204, 204, 204)\", \"linewidth\": 2, \"showgrid\": true, \"showline\": true, \"showticklabels\": true, \"tickangle\": -80, \"tickfont\": {\"color\": \"rgb(82, 82, 82)\", \"family\": \"Arial\", \"size\": 12}, \"ticks\": \"outside\", \"title\": {\"text\": \"Date\"}}, \"yaxis\": {\"linecolor\": \"rgb(204, 204, 204)\", \"linewidth\": 2, \"showgrid\": true, \"showline\": true, \"showticklabels\": true, \"title\": {\"text\": \"Count Count\"}}},\n",
              "                        {\"responsive\": true}\n",
              "                    ).then(function(){\n",
              "                            \n",
              "var gd = document.getElementById('cd42b1e3-b44b-40da-b0a0-67673a2e86f3');\n",
              "var x = new MutationObserver(function (mutations, observer) {{\n",
              "        var display = window.getComputedStyle(gd).display;\n",
              "        if (!display || display === 'none') {{\n",
              "            console.log([gd, 'removed!']);\n",
              "            Plotly.purge(gd);\n",
              "            observer.disconnect();\n",
              "        }}\n",
              "}});\n",
              "\n",
              "// Listen for the removal of the full notebook cells\n",
              "var notebookContainer = gd.closest('#notebook-container');\n",
              "if (notebookContainer) {{\n",
              "    x.observe(notebookContainer, {childList: true});\n",
              "}}\n",
              "\n",
              "// Listen for the clearing of the current output cell\n",
              "var outputEl = gd.closest('.output');\n",
              "if (outputEl) {{\n",
              "    x.observe(outputEl, {childList: true});\n",
              "}}\n",
              "\n",
              "                        })\n",
              "                };\n",
              "                \n",
              "            </script>\n",
              "        </div>\n",
              "</body>\n",
              "</html>"
            ]
          },
          "metadata": {
            "tags": []
          }
        }
      ]
    },
    {
      "cell_type": "markdown",
      "metadata": {
        "id": "GIdbohS8-cC4"
      },
      "source": [
        "# RANDOM FOREST"
      ]
    },
    {
      "cell_type": "code",
      "metadata": {
        "id": "og50wW-viMEw"
      },
      "source": [
        "rf = RandomForestRegressor(n_estimators = 1000, random_state = 42)\n",
        "rf.fit(X_train_confirmed,y_train_confirmed)\n",
        "y_pred_confirmed=rf.predict(X_test_confirmed)"
      ],
      "execution_count": null,
      "outputs": []
    },
    {
      "cell_type": "code",
      "metadata": {
        "id": "1FS_tDrk9p5H"
      },
      "source": [
        "rf = RandomForestRegressor(n_estimators = 1000, random_state = 42)\n",
        "rf.fit(india_X_train_confirmed,india_y_train_confirmed)\n",
        "india_y_pred_confirmed=rf.predict(india_X_test_confirmed)"
      ],
      "execution_count": null,
      "outputs": []
    },
    {
      "cell_type": "code",
      "metadata": {
        "id": "0FTQ9xDoieMj",
        "colab": {
          "base_uri": "https://localhost:8080/"
        },
        "outputId": "34b43657-569c-4364-e925-9615ed58fec1"
      },
      "source": [
        "print('MAE:', mean_absolute_error(y_pred_confirmed, y_test_confirmed))\n",
        "print('MSE:',mean_squared_error(y_pred_confirmed, y_test_confirmed))"
      ],
      "execution_count": null,
      "outputs": [
        {
          "output_type": "stream",
          "text": [
            "MAE: 6050525.92048276\n",
            "MSE: 49879028937462.1\n"
          ],
          "name": "stdout"
        }
      ]
    },
    {
      "cell_type": "code",
      "metadata": {
        "id": "WXK0TQug9tD5",
        "colab": {
          "base_uri": "https://localhost:8080/"
        },
        "outputId": "96c541cf-72d9-4b8e-c163-2f4923f98254"
      },
      "source": [
        "print('MAE:', mean_absolute_error(india_y_pred_confirmed, india_y_test_confirmed))\n",
        "print('MSE:',mean_squared_error(india_y_pred_confirmed, india_y_test_confirmed))"
      ],
      "execution_count": null,
      "outputs": [
        {
          "output_type": "stream",
          "text": [
            "MAE: 926444.4598275868\n",
            "MSE: 1052823311580.9717\n"
          ],
          "name": "stdout"
        }
      ]
    },
    {
      "cell_type": "code",
      "metadata": {
        "id": "poAIs1yYixIv",
        "colab": {
          "base_uri": "https://localhost:8080/",
          "height": 291
        },
        "outputId": "18223363-3ccc-4601-e1c6-cf9f20cb2fcb"
      },
      "source": [
        "plt.plot(y_test_confirmed)\n",
        "plt.plot(y_pred_confirmed)\n",
        "plt.legend(['Test Data for Worldwide', 'Random forest Regression Predictions'])"
      ],
      "execution_count": null,
      "outputs": [
        {
          "output_type": "execute_result",
          "data": {
            "text/plain": [
              "<matplotlib.legend.Legend at 0x7ff703b38828>"
            ]
          },
          "metadata": {
            "tags": []
          },
          "execution_count": 276
        },
        {
          "output_type": "display_data",
          "data": {
            "image/png": "[encoded data removed]",
            "text/plain": [
              "<Figure size 432x288 with 1 Axes>"
            ]
          },
          "metadata": {
            "tags": [],
            "needs_background": "light"
          }
        }
      ]
    },
    {
      "cell_type": "code",
      "metadata": {
        "id": "x9fu8V2b9vN2",
        "colab": {
          "base_uri": "https://localhost:8080/",
          "height": 291
        },
        "outputId": "7c348f93-0e0b-426e-83f6-3b97e705fed3"
      },
      "source": [
        "plt.plot(india_y_test_confirmed)\n",
        "plt.plot(india_y_pred_confirmed)\n",
        "plt.legend(['Test Data for India ', 'Random forest Regression Predictions'])"
      ],
      "execution_count": null,
      "outputs": [
        {
          "output_type": "execute_result",
          "data": {
            "text/plain": [
              "<matplotlib.legend.Legend at 0x7ff701457358>"
            ]
          },
          "metadata": {
            "tags": []
          },
          "execution_count": 277
        },
        {
          "output_type": "display_data",
          "data": {
            "image/png": "[encoded data removed]",
            "text/plain": [
              "<Figure size 432x288 with 1 Axes>"
            ]
          },
          "metadata": {
            "tags": [],
            "needs_background": "light"
          }
        }
      ]
    },
    {
      "cell_type": "code",
      "metadata": {
        "id": "6B68xOT3jbCN",
        "colab": {
          "base_uri": "https://localhost:8080/",
          "height": 247
        },
        "outputId": "d649d58b-94bb-4059-97ac-f6feaf35edab"
      },
      "source": [
        "random_df = pd.DataFrame({'Date': future_forcast_dates[-10:], 'Random Forest Regressor # of Confirmed Cases Worldwide': np.round(y_pred_confirmed[-10:])})\n",
        "random_df.style.background_gradient(cmap='Greens')"
      ],
      "execution_count": null,
      "outputs": [
        {
          "output_type": "execute_result",
          "data": {
            "text/html": [
              "<style  type=\"text/css\" >\n",
              "#T_a74e4088_201b_11eb_98ad_0242ac1c0002row0_col1,#T_a74e4088_201b_11eb_98ad_0242ac1c0002row1_col1,#T_a74e4088_201b_11eb_98ad_0242ac1c0002row2_col1,#T_a74e4088_201b_11eb_98ad_0242ac1c0002row3_col1,#T_a74e4088_201b_11eb_98ad_0242ac1c0002row4_col1,#T_a74e4088_201b_11eb_98ad_0242ac1c0002row5_col1,#T_a74e4088_201b_11eb_98ad_0242ac1c0002row6_col1,#T_a74e4088_201b_11eb_98ad_0242ac1c0002row7_col1,#T_a74e4088_201b_11eb_98ad_0242ac1c0002row8_col1,#T_a74e4088_201b_11eb_98ad_0242ac1c0002row9_col1{\n",
              "            background-color:  #f7fcf5;\n",
              "            color:  #000000;\n",
              "        }</style><table id=\"T_a74e4088_201b_11eb_98ad_0242ac1c0002\" ><thead>    <tr>        <th class=\"blank level0\" ></th>        <th class=\"col_heading level0 col0\" >Date</th>        <th class=\"col_heading level0 col1\" >Random Forest Regressor # of Confirmed Cases Worldwide</th>    </tr></thead><tbody>\n",
              "                <tr>\n",
              "                        <th id=\"T_a74e4088_201b_11eb_98ad_0242ac1c0002level0_row0\" class=\"row_heading level0 row0\" >0</th>\n",
              "                        <td id=\"T_a74e4088_201b_11eb_98ad_0242ac1c0002row0_col0\" class=\"data row0 col0\" >11/06/2020</td>\n",
              "                        <td id=\"T_a74e4088_201b_11eb_98ad_0242ac1c0002row0_col1\" class=\"data row0 col1\" >35973083.000000</td>\n",
              "            </tr>\n",
              "            <tr>\n",
              "                        <th id=\"T_a74e4088_201b_11eb_98ad_0242ac1c0002level0_row1\" class=\"row_heading level0 row1\" >1</th>\n",
              "                        <td id=\"T_a74e4088_201b_11eb_98ad_0242ac1c0002row1_col0\" class=\"data row1 col0\" >11/07/2020</td>\n",
              "                        <td id=\"T_a74e4088_201b_11eb_98ad_0242ac1c0002row1_col1\" class=\"data row1 col1\" >35973083.000000</td>\n",
              "            </tr>\n",
              "            <tr>\n",
              "                        <th id=\"T_a74e4088_201b_11eb_98ad_0242ac1c0002level0_row2\" class=\"row_heading level0 row2\" >2</th>\n",
              "                        <td id=\"T_a74e4088_201b_11eb_98ad_0242ac1c0002row2_col0\" class=\"data row2 col0\" >11/08/2020</td>\n",
              "                        <td id=\"T_a74e4088_201b_11eb_98ad_0242ac1c0002row2_col1\" class=\"data row2 col1\" >35973083.000000</td>\n",
              "            </tr>\n",
              "            <tr>\n",
              "                        <th id=\"T_a74e4088_201b_11eb_98ad_0242ac1c0002level0_row3\" class=\"row_heading level0 row3\" >3</th>\n",
              "                        <td id=\"T_a74e4088_201b_11eb_98ad_0242ac1c0002row3_col0\" class=\"data row3 col0\" >11/09/2020</td>\n",
              "                        <td id=\"T_a74e4088_201b_11eb_98ad_0242ac1c0002row3_col1\" class=\"data row3 col1\" >35973083.000000</td>\n",
              "            </tr>\n",
              "            <tr>\n",
              "                        <th id=\"T_a74e4088_201b_11eb_98ad_0242ac1c0002level0_row4\" class=\"row_heading level0 row4\" >4</th>\n",
              "                        <td id=\"T_a74e4088_201b_11eb_98ad_0242ac1c0002row4_col0\" class=\"data row4 col0\" >11/10/2020</td>\n",
              "                        <td id=\"T_a74e4088_201b_11eb_98ad_0242ac1c0002row4_col1\" class=\"data row4 col1\" >35973083.000000</td>\n",
              "            </tr>\n",
              "            <tr>\n",
              "                        <th id=\"T_a74e4088_201b_11eb_98ad_0242ac1c0002level0_row5\" class=\"row_heading level0 row5\" >5</th>\n",
              "                        <td id=\"T_a74e4088_201b_11eb_98ad_0242ac1c0002row5_col0\" class=\"data row5 col0\" >11/11/2020</td>\n",
              "                        <td id=\"T_a74e4088_201b_11eb_98ad_0242ac1c0002row5_col1\" class=\"data row5 col1\" >35973083.000000</td>\n",
              "            </tr>\n",
              "            <tr>\n",
              "                        <th id=\"T_a74e4088_201b_11eb_98ad_0242ac1c0002level0_row6\" class=\"row_heading level0 row6\" >6</th>\n",
              "                        <td id=\"T_a74e4088_201b_11eb_98ad_0242ac1c0002row6_col0\" class=\"data row6 col0\" >11/12/2020</td>\n",
              "                        <td id=\"T_a74e4088_201b_11eb_98ad_0242ac1c0002row6_col1\" class=\"data row6 col1\" >35973083.000000</td>\n",
              "            </tr>\n",
              "            <tr>\n",
              "                        <th id=\"T_a74e4088_201b_11eb_98ad_0242ac1c0002level0_row7\" class=\"row_heading level0 row7\" >7</th>\n",
              "                        <td id=\"T_a74e4088_201b_11eb_98ad_0242ac1c0002row7_col0\" class=\"data row7 col0\" >11/13/2020</td>\n",
              "                        <td id=\"T_a74e4088_201b_11eb_98ad_0242ac1c0002row7_col1\" class=\"data row7 col1\" >35973083.000000</td>\n",
              "            </tr>\n",
              "            <tr>\n",
              "                        <th id=\"T_a74e4088_201b_11eb_98ad_0242ac1c0002level0_row8\" class=\"row_heading level0 row8\" >8</th>\n",
              "                        <td id=\"T_a74e4088_201b_11eb_98ad_0242ac1c0002row8_col0\" class=\"data row8 col0\" >11/14/2020</td>\n",
              "                        <td id=\"T_a74e4088_201b_11eb_98ad_0242ac1c0002row8_col1\" class=\"data row8 col1\" >35973083.000000</td>\n",
              "            </tr>\n",
              "            <tr>\n",
              "                        <th id=\"T_a74e4088_201b_11eb_98ad_0242ac1c0002level0_row9\" class=\"row_heading level0 row9\" >9</th>\n",
              "                        <td id=\"T_a74e4088_201b_11eb_98ad_0242ac1c0002row9_col0\" class=\"data row9 col0\" >11/15/2020</td>\n",
              "                        <td id=\"T_a74e4088_201b_11eb_98ad_0242ac1c0002row9_col1\" class=\"data row9 col1\" >35973083.000000</td>\n",
              "            </tr>\n",
              "    </tbody></table>"
            ],
            "text/plain": [
              "<pandas.io.formats.style.Styler at 0x7ff6ff5a2b00>"
            ]
          },
          "metadata": {
            "tags": []
          },
          "execution_count": 278
        }
      ]
    },
    {
      "cell_type": "code",
      "metadata": {
        "id": "Ayr-GzMBjeBn",
        "colab": {
          "base_uri": "https://localhost:8080/",
          "height": 247
        },
        "outputId": "b7716035-8487-4921-ff53-f985fd12de96"
      },
      "source": [
        "india_random_df = pd.DataFrame({'Date': future_forcast_dates[-10:], 'Random Forest Regressor # of Confirmed Cases for India': np.round(india_y_pred_confirmed[-10:])})\n",
        "india_random_df.style.background_gradient(cmap='Greens')"
      ],
      "execution_count": null,
      "outputs": [
        {
          "output_type": "execute_result",
          "data": {
            "text/html": [
              "<style  type=\"text/css\" >\n",
              "#T_a751788e_201b_11eb_98ad_0242ac1c0002row0_col1,#T_a751788e_201b_11eb_98ad_0242ac1c0002row1_col1,#T_a751788e_201b_11eb_98ad_0242ac1c0002row2_col1,#T_a751788e_201b_11eb_98ad_0242ac1c0002row3_col1,#T_a751788e_201b_11eb_98ad_0242ac1c0002row4_col1,#T_a751788e_201b_11eb_98ad_0242ac1c0002row5_col1,#T_a751788e_201b_11eb_98ad_0242ac1c0002row6_col1,#T_a751788e_201b_11eb_98ad_0242ac1c0002row7_col1,#T_a751788e_201b_11eb_98ad_0242ac1c0002row8_col1,#T_a751788e_201b_11eb_98ad_0242ac1c0002row9_col1{\n",
              "            background-color:  #f7fcf5;\n",
              "            color:  #000000;\n",
              "        }</style><table id=\"T_a751788e_201b_11eb_98ad_0242ac1c0002\" ><thead>    <tr>        <th class=\"blank level0\" ></th>        <th class=\"col_heading level0 col0\" >Date</th>        <th class=\"col_heading level0 col1\" >Random Forest Regressor # of Confirmed Cases for India</th>    </tr></thead><tbody>\n",
              "                <tr>\n",
              "                        <th id=\"T_a751788e_201b_11eb_98ad_0242ac1c0002level0_row0\" class=\"row_heading level0 row0\" >0</th>\n",
              "                        <td id=\"T_a751788e_201b_11eb_98ad_0242ac1c0002row0_col0\" class=\"data row0 col0\" >11/06/2020</td>\n",
              "                        <td id=\"T_a751788e_201b_11eb_98ad_0242ac1c0002row0_col1\" class=\"data row0 col1\" >6794582.000000</td>\n",
              "            </tr>\n",
              "            <tr>\n",
              "                        <th id=\"T_a751788e_201b_11eb_98ad_0242ac1c0002level0_row1\" class=\"row_heading level0 row1\" >1</th>\n",
              "                        <td id=\"T_a751788e_201b_11eb_98ad_0242ac1c0002row1_col0\" class=\"data row1 col0\" >11/07/2020</td>\n",
              "                        <td id=\"T_a751788e_201b_11eb_98ad_0242ac1c0002row1_col1\" class=\"data row1 col1\" >6794582.000000</td>\n",
              "            </tr>\n",
              "            <tr>\n",
              "                        <th id=\"T_a751788e_201b_11eb_98ad_0242ac1c0002level0_row2\" class=\"row_heading level0 row2\" >2</th>\n",
              "                        <td id=\"T_a751788e_201b_11eb_98ad_0242ac1c0002row2_col0\" class=\"data row2 col0\" >11/08/2020</td>\n",
              "                        <td id=\"T_a751788e_201b_11eb_98ad_0242ac1c0002row2_col1\" class=\"data row2 col1\" >6794582.000000</td>\n",
              "            </tr>\n",
              "            <tr>\n",
              "                        <th id=\"T_a751788e_201b_11eb_98ad_0242ac1c0002level0_row3\" class=\"row_heading level0 row3\" >3</th>\n",
              "                        <td id=\"T_a751788e_201b_11eb_98ad_0242ac1c0002row3_col0\" class=\"data row3 col0\" >11/09/2020</td>\n",
              "                        <td id=\"T_a751788e_201b_11eb_98ad_0242ac1c0002row3_col1\" class=\"data row3 col1\" >6794582.000000</td>\n",
              "            </tr>\n",
              "            <tr>\n",
              "                        <th id=\"T_a751788e_201b_11eb_98ad_0242ac1c0002level0_row4\" class=\"row_heading level0 row4\" >4</th>\n",
              "                        <td id=\"T_a751788e_201b_11eb_98ad_0242ac1c0002row4_col0\" class=\"data row4 col0\" >11/10/2020</td>\n",
              "                        <td id=\"T_a751788e_201b_11eb_98ad_0242ac1c0002row4_col1\" class=\"data row4 col1\" >6794582.000000</td>\n",
              "            </tr>\n",
              "            <tr>\n",
              "                        <th id=\"T_a751788e_201b_11eb_98ad_0242ac1c0002level0_row5\" class=\"row_heading level0 row5\" >5</th>\n",
              "                        <td id=\"T_a751788e_201b_11eb_98ad_0242ac1c0002row5_col0\" class=\"data row5 col0\" >11/11/2020</td>\n",
              "                        <td id=\"T_a751788e_201b_11eb_98ad_0242ac1c0002row5_col1\" class=\"data row5 col1\" >6794582.000000</td>\n",
              "            </tr>\n",
              "            <tr>\n",
              "                        <th id=\"T_a751788e_201b_11eb_98ad_0242ac1c0002level0_row6\" class=\"row_heading level0 row6\" >6</th>\n",
              "                        <td id=\"T_a751788e_201b_11eb_98ad_0242ac1c0002row6_col0\" class=\"data row6 col0\" >11/12/2020</td>\n",
              "                        <td id=\"T_a751788e_201b_11eb_98ad_0242ac1c0002row6_col1\" class=\"data row6 col1\" >6794582.000000</td>\n",
              "            </tr>\n",
              "            <tr>\n",
              "                        <th id=\"T_a751788e_201b_11eb_98ad_0242ac1c0002level0_row7\" class=\"row_heading level0 row7\" >7</th>\n",
              "                        <td id=\"T_a751788e_201b_11eb_98ad_0242ac1c0002row7_col0\" class=\"data row7 col0\" >11/13/2020</td>\n",
              "                        <td id=\"T_a751788e_201b_11eb_98ad_0242ac1c0002row7_col1\" class=\"data row7 col1\" >6794582.000000</td>\n",
              "            </tr>\n",
              "            <tr>\n",
              "                        <th id=\"T_a751788e_201b_11eb_98ad_0242ac1c0002level0_row8\" class=\"row_heading level0 row8\" >8</th>\n",
              "                        <td id=\"T_a751788e_201b_11eb_98ad_0242ac1c0002row8_col0\" class=\"data row8 col0\" >11/14/2020</td>\n",
              "                        <td id=\"T_a751788e_201b_11eb_98ad_0242ac1c0002row8_col1\" class=\"data row8 col1\" >6794582.000000</td>\n",
              "            </tr>\n",
              "            <tr>\n",
              "                        <th id=\"T_a751788e_201b_11eb_98ad_0242ac1c0002level0_row9\" class=\"row_heading level0 row9\" >9</th>\n",
              "                        <td id=\"T_a751788e_201b_11eb_98ad_0242ac1c0002row9_col0\" class=\"data row9 col0\" >11/15/2020</td>\n",
              "                        <td id=\"T_a751788e_201b_11eb_98ad_0242ac1c0002row9_col1\" class=\"data row9 col1\" >6794582.000000</td>\n",
              "            </tr>\n",
              "    </tbody></table>"
            ],
            "text/plain": [
              "<pandas.io.formats.style.Styler at 0x7ff70c44f320>"
            ]
          },
          "metadata": {
            "tags": []
          },
          "execution_count": 279
        }
      ]
    }
  ]
}